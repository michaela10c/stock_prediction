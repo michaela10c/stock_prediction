{
 "cells": [
  {
   "cell_type": "code",
   "execution_count": 201,
   "id": "7447414a-284c-4a75-b9f5-1346823d764a",
   "metadata": {},
   "outputs": [],
   "source": [
    "import torch\n",
    "import torch.nn as nn\n",
    "import torch.optim as optim\n",
    "import numpy as np\n",
    "import pandas as pd\n",
    "from torch.utils.data import DataLoader, TensorDataset\n",
    "from sklearn.preprocessing import MinMaxScaler, StandardScaler\n",
    "from sklearn.model_selection import train_test_split\n",
    "import matplotlib.pyplot as plt\n",
    "from tqdm import tqdm\n",
    "import random\n",
    "import json\n",
    "import seaborn as sns"
   ]
  },
  {
   "cell_type": "markdown",
   "id": "ed2ac210-ed57-4af5-bae6-bb18c9052ea3",
   "metadata": {},
   "source": [
    "## Data Preparation & Preprocessing"
   ]
  },
  {
   "cell_type": "code",
   "execution_count": 178,
   "id": "688825b2-4404-403d-ab53-24f12cacc07d",
   "metadata": {},
   "outputs": [],
   "source": [
    "# Set seed for reproducibility\n",
    "def set_seed(seed):\n",
    "    np.random.seed(seed)  # Set seed for numpy\n",
    "    random.seed(seed)  # Set seed for random\n",
    "    \n",
    "    if torch.cuda.is_available():\n",
    "        torch.manual_seed(seed)  # Set seed for PyTorch CPU\n",
    "    \n",
    "    torch.cuda.manual_seed(seed)  # Set seed for PyTorch GPU\n",
    "    torch.cuda.manual_seed_all(seed)  # Set seed for all GPUs\n",
    "    torch.backends.cudnn.deterministic = True  # Ensure deterministic behavior for CUDA\n",
    "    torch.backends.cudnn.benchmark = False  # Disable the auto-tuner for GPUs\n",
    "\n",
    "set_seed(42)"
   ]
  },
  {
   "cell_type": "code",
   "execution_count": 179,
   "id": "148e7917-605a-4d39-81ef-ce0b63b886a1",
   "metadata": {},
   "outputs": [],
   "source": [
    "# Load hyperparameters\n",
    "with open('configs/configs.json', 'r') as file:\n",
    "    hyperparams = json.load(file)"
   ]
  },
  {
   "cell_type": "code",
   "execution_count": 180,
   "id": "31e01947-d480-45a5-9807-dd21fa3a2f2e",
   "metadata": {},
   "outputs": [],
   "source": [
    "# Remove outliers from data\n",
    "def remove_outliers(data):\n",
    "    # Convert data to a numpy array if it isn't already\n",
    "    data = np.array(data)\n",
    "\n",
    "    # Calculate Q1 (25th percentile) and Q3 (75th percentile)\n",
    "    Q1 = np.percentile(data, 25)\n",
    "    Q3 = np.percentile(data, 75)\n",
    "\n",
    "    # Calculate the IQR (Interquartile Range)\n",
    "    IQR = Q3 - Q1\n",
    "\n",
    "    # Define the acceptable range for non-outliers\n",
    "    lower_bound = Q1 - 1.5 * IQR\n",
    "    upper_bound = Q3 + 1.5 * IQR\n",
    "\n",
    "    # Remove outliers\n",
    "    filtered_data = data[(data >= lower_bound) & (data <= upper_bound)]\n",
    "    \n",
    "    return filtered_data.tolist()"
   ]
  },
  {
   "cell_type": "code",
   "execution_count": 181,
   "id": "603c0add-4bc9-4f7d-8a0a-8032167a3519",
   "metadata": {},
   "outputs": [],
   "source": [
    "# Load the data\n",
    "def load_data(file):\n",
    "    # Load the data\n",
    "    data = pd.read_csv('data/' + file + '.csv')\n",
    "    data['Date'] = pd.to_datetime(data['Date'])\n",
    "    data.set_index('Date', inplace=True)\n",
    "\n",
    "    # Round to 2 decimal places\n",
    "    data = data.round(2) \n",
    "\n",
    "    return data"
   ]
  },
  {
   "cell_type": "code",
   "execution_count": 185,
   "id": "6561975f-d416-4dca-85d9-403c628095c9",
   "metadata": {},
   "outputs": [
    {
     "name": "stdout",
     "output_type": "stream",
     "text": [
      "(5659, 3, 1)\n"
     ]
    }
   ],
   "source": [
    "# Create sequences\n",
    "def create_sequences(data, input_size, num_steps, val_split=0.2, test_split=0.1):\n",
    "    data = [np.array(data[i * input_size: (i + 1) * input_size]) \n",
    "       for i in range(len(data) // input_size)]\n",
    "\n",
    "    # Normalize\n",
    "    data = [data[0] / data[0][0] - 1.0] + [\n",
    "                curr / data[i][-1] - 1.0 for i, curr in enumerate(data[1:])]\n",
    "\n",
    "    print(np.array(data).shape)\n",
    "    \n",
    "    # Split into groups of `num_steps`\n",
    "    X = np.array([data[i: i + num_steps] for i in range(len(data) - num_steps)])\n",
    "    y = np.array([data[i + num_steps] for i in range(len(data) - num_steps)])\n",
    "\n",
    "    # Reshape X to have shape (N, num_steps, input_size)\n",
    "    X = X.reshape(-1, num_steps, input_size)\n",
    "    y = y.reshape(-1, input_size)  # Reshape y to match the output shape\n",
    "\n",
    "    # Split into train, validation, and test sets\n",
    "    total_len = len(X)\n",
    "    test_start = int(total_len * (1 - test_split))\n",
    "    val_start = int(total_len * (1 - test_split - val_split))\n",
    "    \n",
    "    X_train, X_val, X_test = X[:val_start], X[val_start:test_start], X[test_start:]\n",
    "    y_train, y_val, y_test = y[:val_start], y[val_start:test_start], y[test_start:]\n",
    "    \n",
    "    return X_train, y_train, X_val, y_val, X_test, y_test\n",
    "\n",
    "# Extract attributes\n",
    "num_steps = hyperparams['num_steps']  # Extract number of steps\n",
    "input_size = hyperparams['input_size']  # Extract input size\n",
    "val_split = hyperparams['val_split']  # Extract validation split\n",
    "test_split = hyperparams['test_split']  # Extract test split\n",
    "\n",
    "data = load_data('SP500')[['Close']]\n",
    "X_train, y_train, X_val, y_val, X_test, y_test = create_sequences(data, input_size, num_steps, val_split, test_split)"
   ]
  },
  {
   "cell_type": "code",
   "execution_count": 141,
   "id": "190c9e4f-4467-4d00-8a41-8d65790b9fb5",
   "metadata": {},
   "outputs": [],
   "source": [
    "# Convert to PyTorch tensors\n",
    "X_train_tensor = torch.tensor(X_train, dtype=torch.float32)\n",
    "y_train_tensor = torch.tensor(y_train, dtype=torch.float32)\n",
    "X_val_tensor = torch.tensor(X_val, dtype=torch.float32)\n",
    "y_val_tensor = torch.tensor(y_val, dtype=torch.float32)\n",
    "X_test_tensor = torch.tensor(X_test, dtype=torch.float32)\n",
    "y_test_tensor = torch.tensor(y_test, dtype=torch.float32)\n",
    "\n",
    "assert(not torch.isnan(X_train_tensor).any())\n",
    "assert(not torch.isnan(y_train_tensor).any())\n",
    "assert(not torch.isnan(X_val_tensor).any())\n",
    "assert(not torch.isnan(y_val_tensor).any())\n",
    "assert(not torch.isnan(X_test_tensor).any())\n",
    "assert(not torch.isnan(y_test_tensor).any())"
   ]
  },
  {
   "cell_type": "code",
   "execution_count": 142,
   "id": "6d3c3d65-dd91-46a8-afcc-d4ffe7808a75",
   "metadata": {},
   "outputs": [],
   "source": [
    "# Create DataLoader instances\n",
    "batch_size = hyperparams['batch_size']\n",
    "num_workers = hyperparams['num_workers']  # Extract number of workers from hyperparameters\n",
    "\n",
    "train_loader = DataLoader(TensorDataset(X_train_tensor, y_train_tensor), batch_size=batch_size, shuffle=True, num_workers=num_workers, pin_memory=True)\n",
    "val_loader = DataLoader(TensorDataset(X_val_tensor, y_val_tensor), batch_size=batch_size, shuffle=False, num_workers=num_workers, pin_memory=True)\n",
    "test_loader = DataLoader(TensorDataset(X_test_tensor, y_test_tensor), batch_size=batch_size, shuffle=False, num_workers=num_workers, pin_memory=True)"
   ]
  },
  {
   "cell_type": "markdown",
   "id": "f2bed851-6643-4cb9-8df6-5c3cd6217810",
   "metadata": {},
   "source": [
    "## Model Definition: LSTM Cell"
   ]
  },
  {
   "cell_type": "code",
   "execution_count": 143,
   "id": "925a4e78-4ccc-48e1-8fd8-c0da3c79cc66",
   "metadata": {},
   "outputs": [],
   "source": [
    "# Extract hyperparameters\n",
    "def extract_hyperparams(hyperparams, model):\n",
    "    num_units = hyperparams[model][model + '_units']\n",
    "    num_layers = hyperparams[model][model + '_layers']\n",
    "    dropout_rate = hyperparams[model]['dropout_rate']\n",
    "    dense_units = hyperparams[model]['dense_units']\n",
    "    init_learning_rate = hyperparams[model]['init_learning_rate']\n",
    "    learning_rate_decay = hyperparams[model]['learning_rate_decay']\n",
    "    init_epochs = hyperparams[model]['init_epochs']\n",
    "    max_epochs = hyperparams[model]['max_epochs']\n",
    "    use_early_stop = hyperparams[model]['use_early_stop']\n",
    "    early_stop_patience = hyperparams[model]['early_stop_patience']\n",
    "    train_needed = hyperparams[model]['pretrain'] # Whether to train the model\n",
    "\n",
    "    return num_units, num_layers, dropout_rate, dense_units, init_learning_rate, learning_rate_decay, init_epochs, max_epochs, use_early_stop, early_stop_patience, train_needed\n",
    "\n",
    "num_units, num_layers, dropout_rate, dense_units, init_learning_rate, learning_rate_decay, init_epochs, max_epochs, use_early_stop, early_stop_patience, train_needed = extract_hyperparams(hyperparams, 'lstm')"
   ]
  },
  {
   "cell_type": "code",
   "execution_count": 144,
   "id": "7bed0f7d-0308-41c6-9a97-44754772156c",
   "metadata": {},
   "outputs": [],
   "source": [
    "class CustomLSTMCell(nn.Module):\n",
    "    def __init__(self, input_dim, hidden_dim):\n",
    "        super(CustomLSTMCell, self).__init__()\n",
    "        self.hidden_dim = hidden_dim\n",
    "\n",
    "        # Initialize weights and biases\n",
    "        self.W_i = nn.Parameter(torch.randn(input_dim, hidden_dim).float())\n",
    "        self.U_i = nn.Parameter(torch.randn(hidden_dim, hidden_dim).float())\n",
    "        self.b_i = nn.Parameter(torch.zeros(hidden_dim).float())\n",
    "\n",
    "        self.W_f = nn.Parameter(torch.randn(input_dim, hidden_dim).float())\n",
    "        self.U_f = nn.Parameter(torch.randn(hidden_dim, hidden_dim).float())\n",
    "        self.b_f = nn.Parameter(torch.zeros(hidden_dim).float())\n",
    "        \n",
    "        self.W_c = nn.Parameter(torch.randn(input_dim, hidden_dim).float())\n",
    "        self.U_c = nn.Parameter(torch.randn(hidden_dim, hidden_dim).float())\n",
    "        self.b_c = nn.Parameter(torch.zeros(hidden_dim).float())\n",
    "        \n",
    "        self.W_o = nn.Parameter(torch.randn(input_dim, hidden_dim).float())\n",
    "        self.U_o = nn.Parameter(torch.randn(hidden_dim, hidden_dim).float())\n",
    "        self.b_o = nn.Parameter(torch.zeros(hidden_dim).float())\n",
    "        \n",
    "        # Layer normalization layers\n",
    "        self.ln_i = nn.LayerNorm(hidden_dim)\n",
    "        self.ln_f = nn.LayerNorm(hidden_dim)\n",
    "        self.ln_c = nn.LayerNorm(hidden_dim)\n",
    "        self.ln_o = nn.LayerNorm(hidden_dim)\n",
    "        \n",
    "        self.init_weights()\n",
    "\n",
    "    def init_weights(self):\n",
    "        for name, param in self.named_parameters():\n",
    "            if 'W_' in name or 'U_' in name:\n",
    "                nn.init.orthogonal_(param)  # Use orthogonal initialization\n",
    "            elif 'b_' in name:\n",
    "                nn.init.constant_(param, 0.0)\n",
    "\n",
    "            # Check for NaN values\n",
    "            assert(not torch.isnan(param).any())\n",
    "\n",
    "    def forward(self, x, h, c):\n",
    "        i_t = torch.sigmoid(self.ln_i(torch.mm(x, self.W_i) + torch.mm(h, self.U_i) + self.b_i))\n",
    "        f_t = torch.sigmoid(self.ln_f(torch.mm(x, self.W_f) + torch.mm(h, self.U_f) + self.b_f))\n",
    "        g_t = torch.tanh(self.ln_c(torch.mm(x, self.W_c) + torch.mm(h, self.U_c) + self.b_c))\n",
    "        o_t = torch.sigmoid(self.ln_o(torch.mm(x, self.W_o) + torch.mm(h, self.U_o) + self.b_o))\n",
    "\n",
    "        c_t = f_t * c + i_t * g_t\n",
    "        h_t = o_t * torch.tanh(c_t)\n",
    "        \n",
    "        assert(not torch.isnan(h_t).any())\n",
    "        assert(not torch.isnan(c_t).any())\n",
    "    \n",
    "        return h_t, c_t"
   ]
  },
  {
   "cell_type": "code",
   "execution_count": 145,
   "id": "39846679-2ac7-4e08-b102-9457b571e2a3",
   "metadata": {},
   "outputs": [],
   "source": [
    "class CustomRNNModel(nn.Module):\n",
    "    def __init__(self, input_dim, hidden_dim, output_dim, num_layers, dropout_rate, dense_units, cell_type='lstm'):\n",
    "        super(CustomRNNModel, self).__init__()\n",
    "        self.num_layers = num_layers\n",
    "        self.hidden_dim = hidden_dim\n",
    "        self.cell_type = cell_type\n",
    "\n",
    "        if cell_type == 'lstm':\n",
    "            self.layers = nn.ModuleList([CustomLSTMCell(input_dim, hidden_dim)])\n",
    "            self.layers.extend([CustomLSTMCell(hidden_dim, hidden_dim) for _ in range(num_layers - 1)])\n",
    "        elif cell_type == 'gru':\n",
    "            self.layers = nn.ModuleList([CustomGRUCell(input_dim, hidden_dim)])\n",
    "            self.layers.extend([CustomGRUCell(hidden_dim, hidden_dim) for _ in range(num_layers - 1)])\n",
    "        else:\n",
    "            raise ValueError(\"Unsupported cell type\")\n",
    "\n",
    "        self.dropout = nn.Dropout(dropout_rate)\n",
    "        self.fc1 = nn.Linear(hidden_dim, dense_units)\n",
    "        self.fc2 = nn.Linear(dense_units, output_dim)\n",
    "\n",
    "    def forward(self, x):\n",
    "        batch_size, seq_len, _ = x.size()\n",
    "\n",
    "        h_t = [torch.zeros(batch_size, self.hidden_dim, device=x.device) for _ in range(self.num_layers)]\n",
    "        c_t = [torch.zeros(batch_size, self.hidden_dim, device=x.device) for _ in range(self.num_layers)]\n",
    "\n",
    "        for t in range(seq_len):\n",
    "            x_t = x[:, t, :]\n",
    "            for layer in range(self.num_layers):\n",
    "                if self.cell_type == 'lstm':\n",
    "                    h_t[layer], c_t[layer] = self.layers[layer](x_t, h_t[layer], c_t[layer])\n",
    "                else:\n",
    "                    h_t[layer] = self.layers[layer](x_t, h_t[layer])\n",
    "                x_t = h_t[layer]\n",
    "\n",
    "        x = self.dropout(x_t)\n",
    "        x = torch.relu(self.fc1(x))\n",
    "        x = self.fc2(x)\n",
    "\n",
    "        return x"
   ]
  },
  {
   "cell_type": "code",
   "execution_count": 146,
   "id": "8e23b87e-33fd-4eec-a7e0-a52898067633",
   "metadata": {},
   "outputs": [],
   "source": [
    "# Loss definitions \n",
    "def quantile_loss(outputs, targets, quantile=0.5):\n",
    "    errors = targets - outputs\n",
    "    loss = torch.max((quantile - 1) * errors, quantile * errors)\n",
    "    return torch.mean(loss)\n",
    "\n",
    "class HingeLoss(nn.Module):\n",
    "    def __init__(self):\n",
    "        super(HingeLoss, self).__init__()\n",
    "        \n",
    "    def forward(self, outputs, targets):\n",
    "        return torch.mean(torch.clamp(1 - targets * outputs, min=0))\n",
    "\n",
    "def directional_loss(outputs, targets):\n",
    "    return torch.mean(torch.abs(torch.sign(outputs) - torch.sign(targets)))\n",
    "\n",
    "def choose_loss_function(loss):\n",
    "    if loss == 'huber':  \n",
    "        criterion = nn.SmoothL1Loss() \n",
    "    elif loss == 'mse': \n",
    "        criterion = nn.MSELoss()\n",
    "    elif loss == 'quantile':\n",
    "        criterion = quantile_loss(quantile=quantile)\n",
    "    elif loss == 'hinge':\n",
    "        criterion = HingeLoss()\n",
    "    elif loss == 'directional':\n",
    "        criterion = directional_loss()\n",
    "    else:\n",
    "        raise ValueError(\"Unsupported loss function\")\n",
    "\n",
    "    return criterion"
   ]
  },
  {
   "cell_type": "code",
   "execution_count": 147,
   "id": "5ebe3745-c0a5-4dfe-bb57-a6cb1fd01098",
   "metadata": {},
   "outputs": [],
   "source": [
    "# Training loop\n",
    "def train_model(model, train_loader, val_loader, criterion, init_epochs, num_epochs, init_learning_rate, learning_rate_decay, device, early_stop_patience=None, cell_type='lstm'):\n",
    "    train_losses = []\n",
    "    val_losses = []\n",
    "    best_val_loss = float('inf')\n",
    "    early_stop_counter = 0\n",
    "\n",
    "    learning_rates_to_use = [\n",
    "    init_learning_rate * (\n",
    "        learning_rate_decay ** max(float(i + 1 - init_epochs), 0.0)\n",
    "    ) for i in range(num_epochs)]\n",
    "    \n",
    "    for epoch in range(num_epochs):\n",
    "        model.train()\n",
    "        current_lr = learning_rates_to_use[epoch]\n",
    "        optimizer = optim.Adam(model.parameters(), lr=current_lr)\n",
    "        train_loss = 0.0\n",
    "        for X_batch, y_batch in tqdm(train_loader):\n",
    "            X_batch, y_batch = X_batch.to(device), y_batch.to(device)\n",
    "            optimizer.zero_grad()\n",
    "            outputs = model(X_batch)\n",
    "            loss = criterion(outputs, y_batch)\n",
    "            loss.backward()\n",
    "            optimizer.step()\n",
    "            train_loss += loss.item()\n",
    "\n",
    "        train_loss /= len(train_loader)\n",
    "        train_losses.append(train_loss)\n",
    "\n",
    "        model.eval()\n",
    "        val_loss = 0.0\n",
    "        with torch.no_grad():\n",
    "            for X_batch, y_batch in val_loader:\n",
    "                X_batch, y_batch = X_batch.to(device), y_batch.to(device)\n",
    "                outputs = model(X_batch)\n",
    "                loss = criterion(outputs, y_batch)\n",
    "                val_loss += loss.item()\n",
    "\n",
    "        val_loss /= len(val_loader)\n",
    "        val_losses.append(val_loss)\n",
    "\n",
    "        print(f'Epoch {epoch+1}/{num_epochs}, Train Loss: {train_loss:.4f}, Val Loss: {val_loss:.4f}')\n",
    "\n",
    "        # Early stopping\n",
    "        if early_stop_patience is not None:\n",
    "            if val_loss < best_val_loss:\n",
    "                best_val_loss = val_loss\n",
    "                early_stop_counter = 0\n",
    "                # Save best model\n",
    "                torch.save(model.state_dict(), f'models/SP500_{cell_type}_model.pth')\n",
    "            else:\n",
    "                early_stop_counter += 1\n",
    "                if early_stop_counter >= early_stop_patience:\n",
    "                    print(\"Early stopping triggered\")\n",
    "                    break\n",
    "    \n",
    "    return train_losses, val_losses\n",
    "\n",
    "# Function to load the model\n",
    "def load_model(model, cell_type, device):\n",
    "    model_path = f'models/SP500_{cell_type}_model.pth'\n",
    "    model.load_state_dict(torch.load(model_path, map_location=device))\n",
    "    model.to(device)\n",
    "    return model"
   ]
  },
  {
   "cell_type": "code",
   "execution_count": 148,
   "id": "448781d8-4161-40bb-a100-1128f3c37436",
   "metadata": {},
   "outputs": [
    {
     "name": "stderr",
     "output_type": "stream",
     "text": [
      "100%|███████████████████████████████████████████| 53/53 [00:07<00:00,  7.45it/s]\n"
     ]
    },
    {
     "name": "stdout",
     "output_type": "stream",
     "text": [
      "Epoch 1/10, Train Loss: 0.0154, Val Loss: 0.0107\n"
     ]
    },
    {
     "name": "stderr",
     "output_type": "stream",
     "text": [
      "100%|███████████████████████████████████████████| 53/53 [00:04<00:00, 12.66it/s]\n"
     ]
    },
    {
     "name": "stdout",
     "output_type": "stream",
     "text": [
      "Epoch 2/10, Train Loss: 0.0088, Val Loss: 0.0058\n"
     ]
    },
    {
     "name": "stderr",
     "output_type": "stream",
     "text": [
      "100%|███████████████████████████████████████████| 53/53 [00:04<00:00, 11.63it/s]\n"
     ]
    },
    {
     "name": "stdout",
     "output_type": "stream",
     "text": [
      "Epoch 3/10, Train Loss: 0.0040, Val Loss: 0.0016\n"
     ]
    },
    {
     "name": "stderr",
     "output_type": "stream",
     "text": [
      "100%|███████████████████████████████████████████| 53/53 [00:04<00:00, 11.65it/s]\n"
     ]
    },
    {
     "name": "stdout",
     "output_type": "stream",
     "text": [
      "Epoch 4/10, Train Loss: 0.0010, Val Loss: 0.0004\n"
     ]
    },
    {
     "name": "stderr",
     "output_type": "stream",
     "text": [
      "100%|███████████████████████████████████████████| 53/53 [00:04<00:00, 13.01it/s]\n"
     ]
    },
    {
     "name": "stdout",
     "output_type": "stream",
     "text": [
      "Epoch 5/10, Train Loss: 0.0006, Val Loss: 0.0003\n"
     ]
    },
    {
     "name": "stderr",
     "output_type": "stream",
     "text": [
      "100%|███████████████████████████████████████████| 53/53 [00:04<00:00, 10.88it/s]\n"
     ]
    },
    {
     "name": "stdout",
     "output_type": "stream",
     "text": [
      "Epoch 6/10, Train Loss: 0.0005, Val Loss: 0.0002\n"
     ]
    },
    {
     "name": "stderr",
     "output_type": "stream",
     "text": [
      "100%|███████████████████████████████████████████| 53/53 [00:04<00:00, 10.63it/s]\n"
     ]
    },
    {
     "name": "stdout",
     "output_type": "stream",
     "text": [
      "Epoch 7/10, Train Loss: 0.0004, Val Loss: 0.0002\n"
     ]
    },
    {
     "name": "stderr",
     "output_type": "stream",
     "text": [
      "100%|███████████████████████████████████████████| 53/53 [00:03<00:00, 13.55it/s]\n"
     ]
    },
    {
     "name": "stdout",
     "output_type": "stream",
     "text": [
      "Epoch 8/10, Train Loss: 0.0003, Val Loss: 0.0001\n"
     ]
    },
    {
     "name": "stderr",
     "output_type": "stream",
     "text": [
      "100%|███████████████████████████████████████████| 53/53 [00:03<00:00, 13.56it/s]\n"
     ]
    },
    {
     "name": "stdout",
     "output_type": "stream",
     "text": [
      "Epoch 9/10, Train Loss: 0.0003, Val Loss: 0.0001\n"
     ]
    },
    {
     "name": "stderr",
     "output_type": "stream",
     "text": [
      "100%|███████████████████████████████████████████| 53/53 [00:03<00:00, 13.71it/s]\n"
     ]
    },
    {
     "name": "stdout",
     "output_type": "stream",
     "text": [
      "Epoch 10/10, Train Loss: 0.0003, Val Loss: 0.0001\n"
     ]
    }
   ],
   "source": [
    "# Initialize model\n",
    "device = torch.device('cuda' if torch.cuda.is_available() else 'cpu')\n",
    "cell_type = 'lstm'\n",
    "model = CustomRNNModel(input_dim=input_size, hidden_dim=num_units, output_dim=input_size, num_layers=num_layers, dropout_rate=dropout_rate, dense_units=dense_units, cell_type=cell_type).to(device)\n",
    "\n",
    "if train_needed:\n",
    "    # loss function\n",
    "    criterion = choose_loss_function('huber')\n",
    "    early_stop_patience = hyperparams[cell_type].get('early_stop_patience', None)\n",
    "    \n",
    "    train_losses, val_losses = train_model(model, train_loader, val_loader, criterion, init_epochs, max_epochs, init_learning_rate, learning_rate_decay, device, early_stop_patience, cell_type=cell_type)\n",
    "else:\n",
    "    # Load the model\n",
    "    model.load_state_dict(torch.load(f'models/SP500_{cell_type}_model.pth'))\n",
    "    print(\"Model loaded successfully\")"
   ]
  },
  {
   "cell_type": "code",
   "execution_count": null,
   "id": "c39e9f9a-5242-4951-9c3e-33815964d178",
   "metadata": {},
   "outputs": [],
   "source": []
  },
  {
   "cell_type": "code",
   "execution_count": 196,
   "id": "03b1339e-a298-4d89-a218-96c05dfb9cda",
   "metadata": {},
   "outputs": [],
   "source": [
    "# Function to make predictions\n",
    "def make_predictions(model, data_loader, device):\n",
    "    model.eval()\n",
    "    predictions = []\n",
    "    actuals = []\n",
    "    with torch.no_grad():\n",
    "        for X_batch, y_batch in data_loader:\n",
    "            X_batch, y_batch = X_batch.to(device), y_batch.to(device)\n",
    "            outputs = model(X_batch)\n",
    "            predictions.extend(outputs.cpu().numpy())\n",
    "            actuals.extend(y_batch.cpu().numpy())\n",
    "    return np.array(predictions), np.array(actuals)\n",
    "\n",
    "# Get predictions and actual values\n",
    "predictions, actuals = make_predictions(model, test_loader, device)\n",
    "predictions = predictions.flatten()\n",
    "actuals = actuals.flatten()"
   ]
  },
  {
   "cell_type": "code",
   "execution_count": 221,
   "id": "ae6c42e5-4487-4905-bb2d-22d49ae5a77f",
   "metadata": {},
   "outputs": [
    {
     "data": {
      "image/png": "[encoded data removed]",
      "text/plain": [
       "<Figure size 1000x500 with 1 Axes>"
      ]
     },
     "metadata": {},
     "output_type": "display_data"
    }
   ],
   "source": [
    "# Plot the predictions against the actual values\n",
    "plt.figure(figsize=(10, 5))\n",
    "x = np.arange(len(actuals))\n",
    "plt.bar(x - 0.2, actuals, label='Actual Prices')\n",
    "plt.bar(x + 0.2, predictions, label='Predicted Prices')\n",
    "plt.xlabel('Value')\n",
    "plt.ylabel('Normalized Price')\n",
    "plt.ylim(-0.1, 0.1)\n",
    "plt.legend()\n",
    "plt.show()"
   ]
  },
  {
   "cell_type": "code",
   "execution_count": 222,
   "id": "116d8e8f-a5be-43e7-9046-15c4cf78e825",
   "metadata": {},
   "outputs": [
    {
     "data": {
      "image/png": "[encoded data removed]",
      "text/plain": [
       "<Figure size 1000x500 with 1 Axes>"
      ]
     },
     "metadata": {},
     "output_type": "display_data"
    }
   ],
   "source": [
    "# Check for overfitting/underfitting\n",
    "plt.figure(figsize=(10, 5))\n",
    "plt.plot(train_losses, label='Train Loss')\n",
    "plt.plot(val_losses, label='Validation Loss')\n",
    "plt.xlabel('Epoch')\n",
    "plt.ylabel('Loss')\n",
    "plt.legend()\n",
    "plt.show()"
   ]
  },
  {
   "cell_type": "code",
   "execution_count": 229,
   "id": "41c9f834-cf95-4d96-9bdc-764ec4376e5f",
   "metadata": {},
   "outputs": [
    {
     "data": {
      "text/plain": [
       "0.5118941861612871"
      ]
     },
     "execution_count": 229,
     "metadata": {},
     "output_type": "execute_result"
    }
   ],
   "source": [
    "print(\"Global classification rate (raise or fall):\", np.mean((predictions > 0) == (actuals > 0)))"
   ]
  },
  {
   "cell_type": "code",
   "execution_count": null,
   "id": "e31af3c5-7230-4587-b8fc-32e7b68a7358",
   "metadata": {},
   "outputs": [],
   "source": []
  },
  {
   "cell_type": "markdown",
   "id": "914882a4-fa1c-4fcc-90b2-223425d2ea12",
   "metadata": {},
   "source": [
    "## Model Definition: GRU Cell"
   ]
  },
  {
   "cell_type": "code",
   "execution_count": 252,
   "id": "3f760a21-86b1-4d94-b3fd-f2b2e1223e3c",
   "metadata": {},
   "outputs": [],
   "source": [
    "# Extract hyperparams\n",
    "num_units, num_layers, dropout_rate, dense_units, init_learning_rate, learning_rate_decay, init_epochs, max_epochs, use_early_stop, early_stop_patience, train_needed = extract_hyperparams(hyperparams, 'gru')"
   ]
  },
  {
   "cell_type": "code",
   "execution_count": 253,
   "id": "f7c98952-122b-4d07-a378-4b6b50441a5d",
   "metadata": {},
   "outputs": [],
   "source": [
    "class CustomGRUCell(nn.Module):\n",
    "    def __init__(self, input_dim, hidden_dim):\n",
    "        super(CustomGRUCell, self).__init__()\n",
    "        self.hidden_dim = hidden_dim\n",
    "\n",
    "        # Initialize weights and biases\n",
    "        self.W_z = nn.Parameter(torch.randn(input_dim, hidden_dim).float())\n",
    "        self.U_z = nn.Parameter(torch.randn(hidden_dim, hidden_dim).float())\n",
    "        self.b_z = nn.Parameter(torch.zeros(hidden_dim).float())\n",
    "\n",
    "        self.W_r = nn.Parameter(torch.randn(input_dim, hidden_dim).float())\n",
    "        self.U_r = nn.Parameter(torch.randn(hidden_dim, hidden_dim).float())\n",
    "        self.b_r = nn.Parameter(torch.zeros(hidden_dim).float())\n",
    "        \n",
    "        self.W_h = nn.Parameter(torch.randn(input_dim, hidden_dim).float())\n",
    "        self.U_h = nn.Parameter(torch.randn(hidden_dim, hidden_dim).float())\n",
    "        self.b_h = nn.Parameter(torch.zeros(hidden_dim).float())\n",
    "        \n",
    "        # Layer normalization layers\n",
    "        self.ln_z = nn.LayerNorm(hidden_dim)\n",
    "        self.ln_r = nn.LayerNorm(hidden_dim)\n",
    "        self.ln_h = nn.LayerNorm(hidden_dim)\n",
    "        \n",
    "        self.init_weights()\n",
    "\n",
    "    def init_weights(self):\n",
    "        for name, param in self.named_parameters():\n",
    "            if 'W_' in name or 'U_' in name:\n",
    "                nn.init.xavier_uniform_(param)  # Use orthogonal initialization\n",
    "            elif 'b_' in name:\n",
    "                nn.init.constant_(param, 0.0)\n",
    "\n",
    "            # Check for NaN values\n",
    "            assert(not torch.isnan(param).any())\n",
    "\n",
    "    def forward(self, x, h):\n",
    "        z_t = torch.sigmoid(self.ln_z(torch.mm(x, self.W_z) + torch.mm(h, self.U_z) + self.b_z))\n",
    "        r_t = torch.sigmoid(self.ln_r(torch.mm(x, self.W_r) + torch.mm(h, self.U_r) + self.b_r))\n",
    "        h_hat_t = torch.tanh(self.ln_h(torch.mm(x, self.W_h) + torch.mm(r_t * h, self.U_h) + self.b_h))\n",
    "\n",
    "        h_t = (1 - z_t) * h + z_t * h_hat_t\n",
    "        \n",
    "        assert(not torch.isnan(h_t).any())\n",
    "    \n",
    "        return h_t"
   ]
  },
  {
   "cell_type": "code",
   "execution_count": 254,
   "id": "70ae8e3f-b138-4263-8d68-4a5e7db79701",
   "metadata": {},
   "outputs": [
    {
     "data": {
      "text/plain": [
       "25"
      ]
     },
     "execution_count": 254,
     "metadata": {},
     "output_type": "execute_result"
    }
   ],
   "source": [
    "max_epochs"
   ]
  },
  {
   "cell_type": "code",
   "execution_count": 249,
   "id": "8857f191-02f8-490e-aa3f-46fdc8c24a5c",
   "metadata": {},
   "outputs": [
    {
     "name": "stderr",
     "output_type": "stream",
     "text": [
      "100%|███████████████████████████████████████████| 53/53 [00:04<00:00, 11.58it/s]\n"
     ]
    },
    {
     "name": "stdout",
     "output_type": "stream",
     "text": [
      "Epoch 1/25, Train Loss: 0.0144, Val Loss: 0.0044\n"
     ]
    },
    {
     "name": "stderr",
     "output_type": "stream",
     "text": [
      "100%|███████████████████████████████████████████| 53/53 [00:03<00:00, 14.32it/s]\n"
     ]
    },
    {
     "name": "stdout",
     "output_type": "stream",
     "text": [
      "Epoch 2/25, Train Loss: 0.0040, Val Loss: 0.0012\n"
     ]
    },
    {
     "name": "stderr",
     "output_type": "stream",
     "text": [
      "100%|███████████████████████████████████████████| 53/53 [00:04<00:00, 12.63it/s]\n"
     ]
    },
    {
     "name": "stdout",
     "output_type": "stream",
     "text": [
      "Epoch 3/25, Train Loss: 0.0018, Val Loss: 0.0004\n"
     ]
    },
    {
     "name": "stderr",
     "output_type": "stream",
     "text": [
      "100%|███████████████████████████████████████████| 53/53 [00:05<00:00,  9.66it/s]\n"
     ]
    },
    {
     "name": "stdout",
     "output_type": "stream",
     "text": [
      "Epoch 4/25, Train Loss: 0.0011, Val Loss: 0.0003\n"
     ]
    },
    {
     "name": "stderr",
     "output_type": "stream",
     "text": [
      "100%|███████████████████████████████████████████| 53/53 [00:03<00:00, 14.38it/s]\n"
     ]
    },
    {
     "name": "stdout",
     "output_type": "stream",
     "text": [
      "Epoch 5/25, Train Loss: 0.0007, Val Loss: 0.0002\n"
     ]
    },
    {
     "name": "stderr",
     "output_type": "stream",
     "text": [
      "100%|███████████████████████████████████████████| 53/53 [00:03<00:00, 14.95it/s]\n"
     ]
    },
    {
     "name": "stdout",
     "output_type": "stream",
     "text": [
      "Epoch 6/25, Train Loss: 0.0005, Val Loss: 0.0002\n"
     ]
    },
    {
     "name": "stderr",
     "output_type": "stream",
     "text": [
      "100%|███████████████████████████████████████████| 53/53 [00:03<00:00, 14.29it/s]\n"
     ]
    },
    {
     "name": "stdout",
     "output_type": "stream",
     "text": [
      "Epoch 7/25, Train Loss: 0.0003, Val Loss: 0.0002\n"
     ]
    },
    {
     "name": "stderr",
     "output_type": "stream",
     "text": [
      "100%|███████████████████████████████████████████| 53/53 [00:03<00:00, 14.56it/s]\n"
     ]
    },
    {
     "name": "stdout",
     "output_type": "stream",
     "text": [
      "Unexpected exception formatting exception. Falling back to standard exception\n"
     ]
    },
    {
     "name": "stderr",
     "output_type": "stream",
     "text": [
      "Traceback (most recent call last):\n",
      "  File \"<string>\", line 1, in <module>\n",
      "  File \"/Users/michaelzhou/miniforge3/envs/tf_m1/lib/python3.8/multiprocessing/spawn.py\", line 116, in spawn_main\n",
      "    exitcode = _main(fd, parent_sentinel)\n",
      "  File \"/Users/michaelzhou/miniforge3/envs/tf_m1/lib/python3.8/multiprocessing/spawn.py\", line 126, in _main\n",
      "    self = reduction.pickle.load(from_parent)\n",
      "  File \"/Users/michaelzhou/miniforge3/envs/tf_m1/lib/python3.8/site-packages/torch/__init__.py\", line 1539, in <module>\n",
      "    from .functional import *  # noqa: F403\n",
      "  File \"/Users/michaelzhou/miniforge3/envs/tf_m1/lib/python3.8/site-packages/torch/functional.py\", line 9, in <module>\n",
      "    import torch.nn.functional as F\n",
      "  File \"/Users/michaelzhou/miniforge3/envs/tf_m1/lib/python3.8/site-packages/torch/nn/__init__.py\", line 1, in <module>\n",
      "    from .modules import *  # noqa: F403\n",
      "  File \"/Users/michaelzhou/miniforge3/envs/tf_m1/lib/python3.8/site-packages/torch/nn/modules/__init__.py\", line 1, in <module>\n",
      "    from .module import Module\n",
      "  File \"/Users/michaelzhou/miniforge3/envs/tf_m1/lib/python3.8/site-packages/torch/nn/modules/module.py\", line 354, in <module>\n",
      "    class Module:\n",
      "  File \"/Users/michaelzhou/miniforge3/envs/tf_m1/lib/python3.8/site-packages/torch/nn/modules/module.py\", line 898, in Module\n",
      "    def cuda(self: T, device: Optional[Union[int, device]] = None) -> T:\n",
      "  File \"/Users/michaelzhou/miniforge3/envs/tf_m1/lib/python3.8/typing.py\", line 258, in inner\n",
      "    return cached(*args, **kwds)\n",
      "  File \"/Users/michaelzhou/miniforge3/envs/tf_m1/lib/python3.8/typing.py\", line 364, in __getitem__\n",
      "    arg = _type_check(parameters, \"Optional[t] requires a single type.\")\n",
      "  File \"/Users/michaelzhou/miniforge3/envs/tf_m1/lib/python3.8/typing.py\", line 141, in _type_check\n",
      "    arg.__origin__ in invalid_generic_forms):\n",
      "  File \"/Users/michaelzhou/miniforge3/envs/tf_m1/lib/python3.8/typing.py\", line 327, in __eq__\n",
      "    return self._name == other._name\n",
      "KeyboardInterrupt\n",
      "Traceback (most recent call last):\n",
      "  File \"<string>\", line 1, in <module>\n",
      "  File \"/Users/michaelzhou/miniforge3/envs/tf_m1/lib/python3.8/multiprocessing/spawn.py\", line 116, in spawn_main\n",
      "    exitcode = _main(fd, parent_sentinel)\n",
      "  File \"/Users/michaelzhou/miniforge3/envs/tf_m1/lib/python3.8/multiprocessing/spawn.py\", line 126, in _main\n",
      "    self = reduction.pickle.load(from_parent)\n",
      "  File \"/Users/michaelzhou/miniforge3/envs/tf_m1/lib/python3.8/site-packages/torch/__init__.py\", line 1480, in <module>\n",
      "    _C._initExtension(manager_path())\n",
      "  File \"/Users/michaelzhou/miniforge3/envs/tf_m1/lib/python3.8/site-packages/torch/sparse/__init__.py\", line 9, in <module>\n",
      "    from .semi_structured import (\n",
      "  File \"/Users/michaelzhou/miniforge3/envs/tf_m1/lib/python3.8/site-packages/torch/sparse/semi_structured.py\", line 10, in <module>\n",
      "    from torch.sparse._semi_structured_ops import (\n",
      "  File \"<frozen importlib._bootstrap>\", line 991, in _find_and_load\n",
      "  File \"<frozen importlib._bootstrap>\", line 975, in _find_and_load_unlocked\n",
      "  File \"<frozen importlib._bootstrap>\", line 671, in _load_unlocked\n",
      "  File \"<frozen importlib._bootstrap_external>\", line 839, in exec_module\n",
      "  File \"<frozen importlib._bootstrap_external>\", line 928, in get_code\n",
      "  File \"<frozen importlib._bootstrap_external>\", line 1072, in path_stats\n",
      "  File \"<frozen importlib._bootstrap_external>\", line 142, in _path_stat\n",
      "KeyboardInterrupt\n",
      "Traceback (most recent call last):\n",
      "  File \"<string>\", line 1, in <module>\n",
      "  File \"/Users/michaelzhou/miniforge3/envs/tf_m1/lib/python3.8/multiprocessing/spawn.py\", line 116, in spawn_main\n",
      "    exitcode = _main(fd, parent_sentinel)\n",
      "  File \"/Users/michaelzhou/miniforge3/envs/tf_m1/lib/python3.8/multiprocessing/spawn.py\", line 126, in _main\n",
      "    self = reduction.pickle.load(from_parent)\n",
      "  File \"/Users/michaelzhou/miniforge3/envs/tf_m1/lib/python3.8/site-packages/torch/__init__.py\", line 1539, in <module>\n",
      "    from .functional import *  # noqa: F403\n",
      "  File \"/Users/michaelzhou/miniforge3/envs/tf_m1/lib/python3.8/site-packages/torch/functional.py\", line 9, in <module>\n",
      "    import torch.nn.functional as F\n",
      "  File \"/Users/michaelzhou/miniforge3/envs/tf_m1/lib/python3.8/site-packages/torch/nn/__init__.py\", line 1, in <module>\n",
      "    from .modules import *  # noqa: F403\n",
      "  File \"/Users/michaelzhou/miniforge3/envs/tf_m1/lib/python3.8/site-packages/torch/nn/modules/__init__.py\", line 1, in <module>\n",
      "    from .module import Module\n",
      "  File \"/Users/michaelzhou/miniforge3/envs/tf_m1/lib/python3.8/site-packages/torch/nn/modules/module.py\", line 354, in <module>\n",
      "    class Module:\n",
      "  File \"/Users/michaelzhou/miniforge3/envs/tf_m1/lib/python3.8/site-packages/torch/nn/modules/module.py\", line 1711, in Module\n",
      "    def __setattr__(self, name: str, value: Union[Tensor, 'Module']) -> None:\n",
      "  File \"/Users/michaelzhou/miniforge3/envs/tf_m1/lib/python3.8/typing.py\", line 258, in inner\n",
      "    return cached(*args, **kwds)\n",
      "  File \"/Users/michaelzhou/miniforge3/envs/tf_m1/lib/python3.8/typing.py\", line 358, in __getitem__\n",
      "    parameters = tuple(_type_check(p, msg) for p in parameters)\n",
      "  File \"/Users/michaelzhou/miniforge3/envs/tf_m1/lib/python3.8/typing.py\", line 358, in <genexpr>\n",
      "    parameters = tuple(_type_check(p, msg) for p in parameters)\n",
      "  File \"/Users/michaelzhou/miniforge3/envs/tf_m1/lib/python3.8/typing.py\", line 139, in _type_check\n",
      "    return ForwardRef(arg)\n",
      "  File \"/Users/michaelzhou/miniforge3/envs/tf_m1/lib/python3.8/typing.py\", line 500, in __init__\n",
      "    code = compile(arg, '<string>', 'eval')\n",
      "KeyboardInterrupt\n",
      "Traceback (most recent call last):\n",
      "  File \"<string>\", line 1, in <module>\n",
      "  File \"/Users/michaelzhou/miniforge3/envs/tf_m1/lib/python3.8/multiprocessing/spawn.py\", line 116, in spawn_main\n",
      "    exitcode = _main(fd, parent_sentinel)\n",
      "  File \"/Users/michaelzhou/miniforge3/envs/tf_m1/lib/python3.8/multiprocessing/spawn.py\", line 126, in _main\n",
      "    self = reduction.pickle.load(from_parent)\n",
      "  File \"/Users/michaelzhou/miniforge3/envs/tf_m1/lib/python3.8/site-packages/torch/__init__.py\", line 1480, in <module>\n",
      "    _C._initExtension(manager_path())\n",
      "  File \"/Users/michaelzhou/miniforge3/envs/tf_m1/lib/python3.8/site-packages/torch/sparse/__init__.py\", line 9, in <module>\n",
      "    from .semi_structured import (\n",
      "  File \"/Users/michaelzhou/miniforge3/envs/tf_m1/lib/python3.8/site-packages/torch/sparse/semi_structured.py\", line 29, in <module>\n",
      "    _SEMI_STRUCTURED_SPARSE_CONFIG = namedtuple(\n",
      "  File \"/Users/michaelzhou/miniforge3/envs/tf_m1/lib/python3.8/collections/__init__.py\", line 456, in namedtuple\n",
      "    result = type(typename, (tuple,), class_namespace)\n",
      "KeyboardInterrupt\n",
      "Traceback (most recent call last):\n",
      "  File \"/Users/michaelzhou/miniforge3/envs/tf_m1/lib/python3.8/site-packages/IPython/core/interactiveshell.py\", line 3508, in run_code\n",
      "    exec(code_obj, self.user_global_ns, self.user_ns)\n",
      "  File \"/var/folders/9r/mtq2vc395jd2kf7n3d7l_b9r0000gn/T/ipykernel_91156/1636424903.py\", line 11, in <module>\n",
      "    train_losses, val_losses = train_model(model, train_loader, val_loader, criterion, init_epochs, max_epochs, init_learning_rate, learning_rate_decay, device, early_stop_patience, cell_type=cell_type)\n",
      "  File \"/var/folders/9r/mtq2vc395jd2kf7n3d7l_b9r0000gn/T/ipykernel_91156/4223074558.py\", line 33, in train_model\n",
      "    for X_batch, y_batch in val_loader:\n",
      "  File \"/Users/michaelzhou/miniforge3/envs/tf_m1/lib/python3.8/site-packages/torch/utils/data/dataloader.py\", line 631, in __next__\n",
      "    data = self._next_data()\n",
      "  File \"/Users/michaelzhou/miniforge3/envs/tf_m1/lib/python3.8/site-packages/torch/utils/data/dataloader.py\", line 1329, in _next_data\n",
      "    idx, data = self._get_data()\n",
      "  File \"/Users/michaelzhou/miniforge3/envs/tf_m1/lib/python3.8/site-packages/torch/utils/data/dataloader.py\", line 1295, in _get_data\n",
      "    success, data = self._try_get_data()\n",
      "  File \"/Users/michaelzhou/miniforge3/envs/tf_m1/lib/python3.8/site-packages/torch/utils/data/dataloader.py\", line 1133, in _try_get_data\n",
      "    data = self._data_queue.get(timeout=timeout)\n",
      "  File \"/Users/michaelzhou/miniforge3/envs/tf_m1/lib/python3.8/multiprocessing/queues.py\", line 107, in get\n",
      "    if not self._poll(timeout):\n",
      "  File \"/Users/michaelzhou/miniforge3/envs/tf_m1/lib/python3.8/multiprocessing/connection.py\", line 257, in poll\n",
      "    return self._poll(timeout)\n",
      "  File \"/Users/michaelzhou/miniforge3/envs/tf_m1/lib/python3.8/multiprocessing/connection.py\", line 424, in _poll\n",
      "    r = wait([self], timeout)\n",
      "  File \"/Users/michaelzhou/miniforge3/envs/tf_m1/lib/python3.8/multiprocessing/connection.py\", line 931, in wait\n",
      "    ready = selector.select(timeout)\n",
      "  File \"/Users/michaelzhou/miniforge3/envs/tf_m1/lib/python3.8/selectors.py\", line 415, in select\n",
      "    fd_event_list = self._selector.poll(timeout)\n",
      "KeyboardInterrupt\n",
      "\n",
      "During handling of the above exception, another exception occurred:\n",
      "\n",
      "Traceback (most recent call last):\n",
      "  File \"/Users/michaelzhou/miniforge3/envs/tf_m1/lib/python3.8/site-packages/IPython/core/interactiveshell.py\", line 2105, in showtraceback\n",
      "    stb = self.InteractiveTB.structured_traceback(\n",
      "  File \"/Users/michaelzhou/miniforge3/envs/tf_m1/lib/python3.8/site-packages/IPython/core/ultratb.py\", line 1396, in structured_traceback\n",
      "    return FormattedTB.structured_traceback(\n",
      "  File \"/Users/michaelzhou/miniforge3/envs/tf_m1/lib/python3.8/site-packages/IPython/core/ultratb.py\", line 1287, in structured_traceback\n",
      "    return VerboseTB.structured_traceback(\n",
      "  File \"/Users/michaelzhou/miniforge3/envs/tf_m1/lib/python3.8/site-packages/IPython/core/ultratb.py\", line 1140, in structured_traceback\n",
      "    formatted_exception = self.format_exception_as_a_whole(etype, evalue, etb, number_of_lines_of_context,\n",
      "  File \"/Users/michaelzhou/miniforge3/envs/tf_m1/lib/python3.8/site-packages/IPython/core/ultratb.py\", line 1030, in format_exception_as_a_whole\n",
      "    self.get_records(etb, number_of_lines_of_context, tb_offset) if etb else []\n",
      "  File \"/Users/michaelzhou/miniforge3/envs/tf_m1/lib/python3.8/site-packages/IPython/core/ultratb.py\", line 1098, in get_records\n",
      "    mod = inspect.getmodule(cf.tb_frame)\n",
      "  File \"/Users/michaelzhou/miniforge3/envs/tf_m1/lib/python3.8/inspect.py\", line 737, in getmodule\n",
      "    file = getabsfile(object, _filename)\n",
      "  File \"/Users/michaelzhou/miniforge3/envs/tf_m1/lib/python3.8/inspect.py\", line 720, in getabsfile\n",
      "    _filename = getsourcefile(object) or getfile(object)\n",
      "  File \"/Users/michaelzhou/miniforge3/envs/tf_m1/lib/python3.8/inspect.py\", line 708, in getsourcefile\n",
      "    if getattr(getmodule(object, filename), '__loader__', None) is not None:\n",
      "  File \"/Users/michaelzhou/miniforge3/envs/tf_m1/lib/python3.8/inspect.py\", line 745, in getmodule\n",
      "    if ismodule(module) and hasattr(module, '__file__'):\n",
      "  File \"/Users/michaelzhou/miniforge3/envs/tf_m1/lib/python3.8/site-packages/torch/utils/data/_utils/signal_handling.py\", line 66, in handler\n",
      "    _error_if_any_worker_fails()\n",
      "RuntimeError: DataLoader worker (pid 23315) is killed by signal: Interrupt: 2. \n"
     ]
    }
   ],
   "source": [
    "# Initialize model\n",
    "device = torch.device('cuda' if torch.cuda.is_available() else 'cpu')\n",
    "cell_type = 'gru'\n",
    "model = CustomRNNModel(input_dim=input_size, hidden_dim=num_units, output_dim=input_size, num_layers=num_layers, dropout_rate=dropout_rate, dense_units=dense_units, cell_type=cell_type).to(device)\n",
    "\n",
    "if train_needed:\n",
    "    # loss function\n",
    "    criterion = choose_loss_function('huber')\n",
    "    early_stop_patience = hyperparams[cell_type].get('early_stop_patience', None)\n",
    "    \n",
    "    train_losses, val_losses = train_model(model, train_loader, val_loader, criterion, init_epochs, max_epochs, init_learning_rate, learning_rate_decay, device, early_stop_patience, cell_type=cell_type)\n",
    "else:\n",
    "    # Load the model\n",
    "    model.load_state_dict(torch.load(f'models/SP500_{cell_type}_model.pth'))\n",
    "    print(\"Model loaded successfully\")"
   ]
  },
  {
   "cell_type": "code",
   "execution_count": null,
   "id": "9eaad883-90fd-49f2-b7fd-57f7510cbbb7",
   "metadata": {},
   "outputs": [],
   "source": [
    "# Function to make predictions\n",
    "def make_predictions(model, data_loader, device):\n",
    "    model.eval()\n",
    "    predictions = []\n",
    "    actuals = []\n",
    "    with torch.no_grad():\n",
    "        for X_batch, y_batch in data_loader:\n",
    "            X_batch, y_batch = X_batch.to(device), y_batch.to(device)\n",
    "            outputs = model(X_batch)\n",
    "            predictions.extend(outputs.cpu().numpy())\n",
    "            actuals.extend(y_batch.cpu().numpy())\n",
    "    return np.array(predictions), np.array(actuals)\n",
    "\n",
    "# Get predictions and actual values\n",
    "predictions, actuals = make_predictions(model, test_loader, device)\n",
    "predictions = predictions.flatten()\n",
    "actuals = actuals.flatten()"
   ]
  },
  {
   "cell_type": "code",
   "execution_count": null,
   "id": "b3ac756a-1ce0-4846-999c-165ab5c283bb",
   "metadata": {},
   "outputs": [],
   "source": [
    "# Plot the predictions against the actual values\n",
    "plt.figure(figsize=(10, 5))\n",
    "x = np.arange(len(actuals))\n",
    "plt.bar(x - 0.2, actuals, label='Actual Prices')\n",
    "plt.bar(x + 0.2, predictions, label='Predicted Prices')\n",
    "plt.xlabel('Value')\n",
    "plt.ylabel('Normalized Price')\n",
    "plt.ylim(-0.1, 0.1)\n",
    "plt.legend()\n",
    "plt.show()"
   ]
  },
  {
   "cell_type": "code",
   "execution_count": null,
   "id": "7cb49e11-a485-4c64-a223-f10f321fc59e",
   "metadata": {},
   "outputs": [],
   "source": [
    "# Check for overfitting/underfitting\n",
    "plt.figure(figsize=(10, 5))\n",
    "plt.plot(train_losses, label='Train Loss')\n",
    "plt.plot(val_losses, label='Validation Loss')\n",
    "plt.xlabel('Epoch')\n",
    "plt.ylabel('Loss')\n",
    "plt.legend()\n",
    "plt.show()"
   ]
  },
  {
   "cell_type": "code",
   "execution_count": null,
   "id": "d0941196-b379-471e-8741-4eea2c85fe74",
   "metadata": {},
   "outputs": [],
   "source": [
    "print(\"Global classification rate (raise or fall):\", np.mean((predictions > 0) == (actuals > 0)))"
   ]
  },
  {
   "cell_type": "code",
   "execution_count": null,
   "id": "a3292b5d-e5dc-4e19-ae07-233d37db86d4",
   "metadata": {},
   "outputs": [],
   "source": [
    "# import numpy as np\n",
    "# from scipy.special import kl_div\n",
    "\n",
    "# # Sample data for demonstration purposes\n",
    "# # In practice, you would use actual activation data from the model\n",
    "# def get_fp32_activation_data():\n",
    "#     # Replace this with actual data collection\n",
    "#     return np.array([0.5, 1.0, 2.0, -1.0, -0.5, 3.0, -3.0, 0.1])\n",
    "\n",
    "# # **1. Calibration: Collect Data and Compute Scale Factor**\n",
    "\n",
    "# # Collect activation data (replace with actual FP32 data)\n",
    "# activation_data_fp32 = get_fp32_activation_data()\n",
    "\n",
    "# # Step 1: Determine the maximum absolute value\n",
    "# max_abs_value = np.max(np.abs(activation_data_fp32))\n",
    "\n",
    "# # Step 2: Compute the scale factor for symmetric quantization\n",
    "# def compute_scale(max_abs_value):\n",
    "#     return max_abs_value / 127  # 127 because 8-bit quantization uses values from -128 to 127\n",
    "\n",
    "# scale = compute_scale(max_abs_value)\n",
    "\n",
    "# # Step 3: Perform preliminary quantization of FP32 data\n",
    "# def preliminary_quantize(fp32_data, scale):\n",
    "#     return np.clip(np.round(fp32_data / scale), -128, 127).astype(np.int8)\n",
    "\n",
    "# activation_data_int8 = preliminary_quantize(activation_data_fp32, scale)\n",
    "\n",
    "# # Step 4: Compute histograms for FP32 and INT8\n",
    "# def compute_histograms(fp32_data, int8_data):\n",
    "#     hist_fp32, _ = np.histogram(fp32_data, bins=2048, range=(-128, 127), density=True)\n",
    "#     hist_int8, _ = np.histogram(int8_data, bins=2048, range=(-128, 127), density=True)\n",
    "#     return hist_fp32, hist_int8\n",
    "\n",
    "# hist_fp32, hist_int8 = compute_histograms(activation_data_fp32, activation_data_int8)\n",
    "\n",
    "# # Step 5: Compute KL divergence\n",
    "# def compute_kl_divergence(hist_fp32, hist_int8):\n",
    "#     # Adding a small constant to avoid log(0)\n",
    "#     return np.sum(kl_div(hist_fp32 + 1e-8, hist_int8 + 1e-8))\n",
    "\n",
    "# kl_divergence = compute_kl_divergence(hist_fp32, hist_int8)\n",
    "# print(f\"KL Divergence: {kl_divergence}\")\n",
    "\n",
    "# # **2. Quantization: Convert FP32 to INT8**\n",
    "\n",
    "# # Final quantization of FP32 data\n",
    "# def quantize_to_int8(fp32_data, scale):\n",
    "#     return np.clip(np.round(fp32_data / scale), -128, 127).astype(np.int8)\n",
    "\n",
    "# activation_data_int8_final = quantize_to_int8(activation_data_fp32, scale)\n",
    "\n",
    "# # **3. INT32 Computations: Perform Layer Operations**\n",
    "\n",
    "# # Example INT32 computation function\n",
    "# def int32_computations(weights, activations, bias):\n",
    "#     # Perform INT32 matrix multiplication and add bias\n",
    "#     int32_result = np.dot(weights, activations) + bias\n",
    "#     return int32_result\n",
    "\n",
    "# # Sample weights and bias for demonstration\n",
    "# weights = np.array([[1, -1], [2, 3]])\n",
    "# bias = np.array([1, -1])\n",
    "\n",
    "# # Perform INT32 computations\n",
    "# int32_result = int32_computations(weights, activation_data_int8_final, bias)\n",
    "# print(f\"INT32 Computation Result: {int32_result}\")\n",
    "\n",
    "# # **4. Re-Quantization: Convert INT32 to INT8**\n",
    "\n",
    "# # Re-quantization process\n",
    "# def requantize(int32_activations, scale, zero_point, bias):\n",
    "#     # Add bias and then requantize\n",
    "#     int32_activations_with_bias = int32_activations + bias\n",
    "#     return np.clip(np.round(int32_activations_with_bias * scale) + zero_point, -128, 127).astype(np.int8)\n",
    "\n",
    "# # Assuming zero_point = 0 for symmetric quantization\n",
    "# zero_point = 0\n",
    "\n",
    "# # Re-quantize INT32 results to INT8\n",
    "# activation_data_int8_requantized = requantize(int32_result, scale, zero_point, bias)\n",
    "# print(f\"Re-Quantized INT8 Data: {activation_data_int8_requantized}\")\n",
    "\n",
    "# # **5. De-Quantization: Convert INT8 Back to FP32**\n",
    "\n",
    "# # De-quantization process\n",
    "# def dequantize_to_fp32(int8_data, scale, zero_point):\n",
    "#     return (int8_data - zero_point) * scale\n",
    "\n",
    "# # Convert INT8 results back to FP32\n",
    "# fp32_reconstructed_data = dequantize_to_fp32(activation_data_int8_requantized, scale, zero_point)\n",
    "# print(f\"De-Quantized FP32 Data: {fp32_reconstructed_data}\")"
   ]
  }
 ],
 "metadata": {
  "kernelspec": {
   "display_name": "Python 3 (ipykernel)",
   "language": "python",
   "name": "python3"
  },
  "language_info": {
   "codemirror_mode": {
    "name": "ipython",
    "version": 3
   },
   "file_extension": ".py",
   "mimetype": "text/x-python",
   "name": "python",
   "nbconvert_exporter": "python",
   "pygments_lexer": "ipython3",
   "version": "3.8.16"
  }
 },
 "nbformat": 4,
 "nbformat_minor": 5
}
