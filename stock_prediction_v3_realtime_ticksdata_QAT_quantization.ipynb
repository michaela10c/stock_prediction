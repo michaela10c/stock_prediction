{
 "cells": [
  {
   "cell_type": "code",
   "execution_count": 6,
   "metadata": {
    "id": "4CATJiF_A1VI"
   },
   "outputs": [],
   "source": [
    "import torch\n",
    "import torch.nn as nn\n",
    "import torch.optim as optim\n",
    "import torch.optim.lr_scheduler as lr_scheduler\n",
    "from torch.profiler import profile, record_function, ProfilerActivity\n",
    "from torch.cuda.amp import autocast, GradScaler\n",
    "from torch.utils.data import DataLoader, TensorDataset, Subset\n",
    "import numpy as np\n",
    "import pandas as pd\n",
    "from sklearn.preprocessing import MinMaxScaler, StandardScaler\n",
    "from sklearn.model_selection import train_test_split, ParameterGrid\n",
    "import matplotlib.pyplot as plt\n",
    "from tqdm.auto import tqdm\n",
    "import random\n",
    "import json\n",
    "import seaborn as sns\n",
    "import time\n",
    "import itertools\n",
    "import cProfile\n",
    "from torch.utils.checkpoint import checkpoint\n",
    "import torch.nn.functional as F\n",
    "from scipy.stats import entropy\n",
    "from scipy.interpolate import interp1d\n",
    "from TimeSeriesDataset import TimeSeriesDataset\n",
    "import logging"
   ]
  },
  {
   "cell_type": "markdown",
   "metadata": {
    "id": "XXcNnnW_C3XC"
   },
   "source": [
    "## Data Preparation & Preprocessing"
   ]
  },
  {
   "cell_type": "code",
   "execution_count": 7,
   "metadata": {
    "id": "UOXSnPeqEO7q"
   },
   "outputs": [],
   "source": [
    "def load_configs(filename):\n",
    "    with open(f'configs/{filename}.json', 'r') as file:\n",
    "        return json.load(file)"
   ]
  },
  {
   "cell_type": "code",
   "execution_count": 8,
   "metadata": {
    "id": "nxRE-Z-hBRWh"
   },
   "outputs": [],
   "source": [
    "# Plot functions\n",
    "def plot_last_prices(last_prices, normalized=True):\n",
    "    plt.figure(figsize=(10, 5))\n",
    "    plt.plot(last_prices, label='Normalized Prices')\n",
    "    plt.legend()\n",
    "    plt.ylabel('Normalized Price' if normalized else 'Price')\n",
    "    plt.xlabel('Time Index')\n",
    "    plt.title('Relative Change Rates of Close Prices' if normalized else 'Close Prices')\n",
    "    plt.show()\n",
    "\n",
    "def plot_volume(data, title):\n",
    "    plt.figure(figsize=(10, 5))\n",
    "    plt.plot(data['datetime'], data['volume'])\n",
    "    plt.xlabel('Date')\n",
    "    plt.ylabel('Trade Volume')\n",
    "    plt.title(title)\n",
    "    plt.xticks(rotation=45)\n",
    "    plt.show()\n",
    "\n",
    "def plot_prices_with_ma(data, period, period_labels):\n",
    "    plt.figure(figsize=(10, 5))\n",
    "    plt.plot(data.index, data['last_price'], label='Last Price')\n",
    "    for i in range(len(period)):\n",
    "      t = period[i]\n",
    "      period_label = period_labels[i]\n",
    "      plt.plot(data.index, data[f'ma({t})'], label=f'{period_label} MA')\n",
    "    plt.xlabel('Date')\n",
    "    plt.ylabel('Last Price')\n",
    "    plt.title('Prices with Moving Average')\n",
    "    plt.legend()\n",
    "    plt.show()\n",
    "\n",
    "def plot_prices_with_macd(data, short_period, long_period, signal_period):\n",
    "    for i in range(len(short_period)):\n",
    "      plt.figure(figsize=(10, 5))\n",
    "      a = short_period[i]\n",
    "      b = long_period[i]\n",
    "      c = signal_period[i]\n",
    "      plt.plot(data.index, data[f'macd_line({a},{b},{c})'], label=f'MACD')\n",
    "      plt.plot(data.index, data[f'signal_line({a},{b},{c})'], label=f'Signal')\n",
    "      plt.plot(data.index, data[f'macd_histogram({a},{b},{c})'], label=f'Histogram')\n",
    "      plt.xlabel('Date')\n",
    "      plt.ylabel('Convergence/Divergence')\n",
    "      plt.title(f\"MACD({a},{b},{c})\")\n",
    "      plt.legend()\n",
    "      plt.show()"
   ]
  },
  {
   "cell_type": "code",
   "execution_count": 9,
   "metadata": {
    "id": "XkiCBffzERr9"
   },
   "outputs": [],
   "source": [
    "# Moving Average (MA)\n",
    "def moving_average(last_prices, num_periods):\n",
    "    ma = last_prices.rolling(window=num_periods, min_periods=1).mean()\n",
    "    # Forward fill the first num_periods-1 NaN values with the first non-NaN value\n",
    "    ma.ffill(inplace=True)\n",
    "    return ma\n",
    "\n",
    "def calculate_ema(data, period):\n",
    "    alpha = 2 / (period + 1)\n",
    "    ema = [data.iloc[0]]  # EMA starts with the first data point\n",
    "\n",
    "    for price in data.iloc[1:]:\n",
    "        ema.append(alpha * price + (1 - alpha) * ema[-1])\n",
    "\n",
    "    return pd.Series(ema, index=data.index)\n",
    "\n",
    "# Moving Average Convergence/Divergence (MACD)\n",
    "def calculate_macd(data, short_period, long_period, signal_period):\n",
    "    short_ema = calculate_ema(data, short_period)\n",
    "    long_ema = calculate_ema(data, long_period)\n",
    "\n",
    "    macd_line = short_ema - long_ema\n",
    "    signal_line = calculate_ema(macd_line, signal_period)\n",
    "    macd_histogram = macd_line - signal_line\n",
    "\n",
    "    return macd_line, signal_line, macd_histogram"
   ]
  },
  {
   "cell_type": "code",
   "execution_count": 10,
   "metadata": {
    "id": "kq3mxEWoEUt-"
   },
   "outputs": [],
   "source": [
    "def filter_data_by_intervals(data, intervals):\n",
    "    # Initialize a mask with False values\n",
    "    interval_mask = pd.Series([False] * len(data))\n",
    "\n",
    "    # Iterate over intervals and apply masks\n",
    "    for start, end in intervals:\n",
    "        start_time = pd.to_datetime(start).time()\n",
    "        end_time = pd.to_datetime(end).time()\n",
    "\n",
    "        # Create masks for start and end times\n",
    "        start_time_mask = (data['datetime'].dt.time >= start_time)\n",
    "        end_time_mask = (data['datetime'].dt.time <= end_time)\n",
    "\n",
    "        # Combine masks based on interval crossing midnight or not\n",
    "        if start_time <= end_time:\n",
    "            interval_mask |= (start_time_mask & end_time_mask)\n",
    "        else:\n",
    "            interval_mask |= (start_time_mask | end_time_mask)\n",
    "\n",
    "    # Apply the final mask to filter the data\n",
    "    data_filtered = data[interval_mask]\n",
    "    return data_filtered\n",
    "\n",
    "def assert_time_intervals(df, intervals):\n",
    "    df.index = pd.to_datetime(df.index)\n",
    "    times = df.index.time\n",
    "\n",
    "    time_intervals = [(pd.Timestamp(start).time(), pd.Timestamp(end).time()) for start, end in intervals]\n",
    "\n",
    "    def is_within_intervals(t):\n",
    "        return any(start <= t <= end if start <= end else start <= t or t <= end for start, end in time_intervals)\n",
    "\n",
    "    outside_intervals = ~np.vectorize(is_within_intervals)(times)\n",
    "\n",
    "    if outside_intervals.any():\n",
    "        print(\"There are times outside the specified intervals:\")\n",
    "        print(df[outside_intervals])\n",
    "    else:\n",
    "        print(\"All times are within the specified intervals.\")\n",
    "\n",
    "    assert(not outside_intervals.any())\n",
    "\n",
    "def set_seed(seed):\n",
    "    np.random.seed(seed)\n",
    "    torch.manual_seed(seed)\n",
    "    if torch.cuda.is_available():\n",
    "        torch.cuda.manual_seed(seed)\n",
    "        torch.cuda.manual_seed_all(seed)\n",
    "        torch.backends.cudnn.deterministic = True\n",
    "        torch.backends.cudnn.benchmark = False\n",
    "\n",
    "def extract_main_contract(data_filtered, window=1000, min_periods=1, quantile=0.80):\n",
    "    # Compute the rolling mean of volume\n",
    "    data_filtered.loc[:, 'volume_rolling'] = data_filtered['volume'].rolling(window=window, min_periods=min_periods).mean()\n",
    "\n",
    "    # Calculate the volume threshold based on the quantile\n",
    "    volume_threshold = data_filtered['volume_rolling'].quantile(quantile)\n",
    "\n",
    "    # Identify high volume segments\n",
    "    data_filtered.loc[:, 'high_volume'] = data_filtered['volume_rolling'] > volume_threshold\n",
    "\n",
    "    # Segment identification by cumulative sum of changes in high_volume status\n",
    "    data_filtered.loc[:, 'segment'] = data_filtered['high_volume'].ne(data_filtered['high_volume'].shift()).cumsum()\n",
    "\n",
    "    # Filter the high volume segments and fill NaN values\n",
    "    high_volume_segments = data_filtered[data_filtered['high_volume']]\n",
    "    high_volume_segments.loc[:, 'volume'] = high_volume_segments['volume'].ffill()\n",
    "\n",
    "    # Drop the temporary columns\n",
    "    high_volume_segments.drop(columns=['high_volume', 'segment', 'volume_rolling'], inplace=True)\n",
    "\n",
    "    return high_volume_segments\n",
    "\n",
    "\n",
    "def normalize_prices(data_array, intervals, timestamps, num_steps, input_size, last_price_index=0):\n",
    "    # Convert timestamps to time objects\n",
    "    timestamp_times = timestamps.time\n",
    "\n",
    "    # Create an empty array to collect normalized prices\n",
    "    normalized_last_price = np.full(len(data_array), np.nan)  # Use NaN to identify unassigned values\n",
    "\n",
    "    for start, end in intervals:\n",
    "        start_time = pd.Timestamp(start).time()\n",
    "        end_time = pd.Timestamp(end).time()\n",
    "\n",
    "        # Create masks for the interval\n",
    "        start_mask = timestamp_times >= start_time\n",
    "        end_mask = timestamp_times <= end_time\n",
    "        if start_time <= end_time:\n",
    "            interval_mask = start_mask & end_mask\n",
    "        else:\n",
    "            interval_mask = start_mask | end_mask\n",
    "\n",
    "        # Filter data by interval\n",
    "        interval_data = data_array[interval_mask]\n",
    "        clear_gpu_cache()\n",
    "        if len(interval_data) == 0:\n",
    "            continue\n",
    "\n",
    "        num_windows = (len(interval_data) + input_size - 1) // input_size\n",
    "        windows = np.array_split(interval_data, num_windows)\n",
    "\n",
    "        # Create array to hold normalized values for the current interval\n",
    "        interval_normalized_last_price = np.full(len(interval_data), np.nan)\n",
    "\n",
    "        start_idx = 0\n",
    "        for window_data in windows:\n",
    "            if len(window_data) == 0:\n",
    "                continue\n",
    "\n",
    "            if start_idx == 0:\n",
    "                window_first_price = window_data[0, last_price_index]\n",
    "                values = window_data[:, last_price_index] / window_first_price - 1.0\n",
    "            else:\n",
    "                window_last_price = window_data[-1, last_price_index]\n",
    "                values = window_data[:, last_price_index] / window_last_price - 1.0\n",
    "\n",
    "            end_idx = start_idx + len(window_data)\n",
    "            interval_normalized_last_price[start_idx:end_idx] = values\n",
    "            start_idx = end_idx\n",
    "\n",
    "        normalized_last_price[interval_mask] = interval_normalized_last_price\n",
    "\n",
    "    # Set to the data array\n",
    "    data_array[:, last_price_index] = normalized_last_price\n",
    "\n",
    "    # Process all outliers - impute with its previous non-outlying value\n",
    "    postprocess_outliers(data_array)\n",
    "\n",
    "    # Check for NaN values\n",
    "    if np.isnan(data_array[:, last_price_index]).any():\n",
    "        raise ValueError(\"Data contains NaN values after normalization. Please check the normalization process.\")\n",
    "\n",
    "    return data_array\n",
    "\n",
    "\n",
    "def postprocess_outliers(data, threshold=0.5):\n",
    "    outlier_indices = np.where(np.abs(data[:, 0]) > threshold)[0]\n",
    "\n",
    "    for idx in outlier_indices:\n",
    "        previous_value_idx = idx - 1\n",
    "        while data[previous_value_idx, 0] > threshold and previous_value_idx > 0:\n",
    "            previous_value_idx -= 1\n",
    "        data[idx, 0] = data[previous_value_idx, 0]\n",
    "\n",
    "def roll_data(data_array, num_steps, input_size):\n",
    "    # Roll data to reshape it into the 4D shape (N, num_steps, input_size, # features)\n",
    "    data_array = [np.array(data_array[i * input_size: (i + 1) * input_size])\n",
    "                  for i in range(len(data_array) // input_size)]\n",
    "    data_array = np.stack(data_array)\n",
    "    return data_array\n",
    "\n",
    "\n",
    "# Generator function\n",
    "def data_generator(data_array, indices, num_steps, batch_size, last_price_index=0):\n",
    "    total_len = len(indices)\n",
    "    for start_idx in range(0, total_len, batch_size):\n",
    "        end_idx = min(start_idx + batch_size, total_len)\n",
    "        batch_indices = indices[start_idx:end_idx]\n",
    "        X_batch = np.array([data_array[i: i + num_steps] for i in batch_indices])\n",
    "        y_batch = data_array[batch_indices + num_steps, :, last_price_index]\n",
    "        yield X_batch, y_batch\n",
    "\n",
    "\n",
    "# Train-test split function\n",
    "def train_test_split(data_array, num_steps, input_size, val_split, test_split, last_price_index=0):\n",
    "    # Calculate the total number of samples\n",
    "    total_len = len(data_array) - num_steps\n",
    "\n",
    "    X = np.empty((total_len, num_steps, input_size, data_array.shape[-1] - 1), dtype=np.float32)\n",
    "    y = np.empty((total_len, num_steps), dtype=np.float32)\n",
    "\n",
    "    for i in range(total_len):\n",
    "        X[i] = data_array[i:i + num_steps, :, 1:]  # Exclude the last_price column (column 0)\n",
    "        y[i] = data_array[i:i + num_steps, :, last_price_index]  # Store the last_price values\n",
    "\n",
    "    # Check the shapes of X and y\n",
    "    num_features = data_array.shape[-1] - 1  # Exclude the last_price column\n",
    "    assert X.shape == (total_len, num_steps, input_size, num_features), f\"X shape mismatch: {X.shape}\"\n",
    "    assert y.shape == (total_len, num_steps), f\"y shape mismatch: {y.shape}\"\n",
    "    assert len(X) == len(y), \"Number of samples in X and y must be equal\"\n",
    "\n",
    "    # Determine the split indices\n",
    "    test_start = int(total_len * (1 - test_split))\n",
    "    val_start = int(total_len * (1 - test_split - val_split))\n",
    "\n",
    "    # Split the data\n",
    "    X_train, X_val, X_test = X[:val_start], X[val_start:test_start], X[test_start:]\n",
    "    y_train, y_val, y_test = y[:val_start], y[val_start:test_start], y[test_start:]\n",
    "\n",
    "    return X_train, y_train, X_val, y_val, X_test, y_test\n",
    "\n",
    "def normalize_data(data):\n",
    "    scaler = MinMaxScaler()\n",
    "    normalized_data = scaler.fit_transform(data)\n",
    "    normalized_df = pd.DataFrame(normalized_data, index=data.index, columns=data.columns)\n",
    "    return normalized_df\n",
    "\n",
    "# Create dataloader instances\n",
    "def create_dataloader_instances(dataset, val_split, test_split, batch_size, num_workers=8):\n",
    "    dataset_size = len(dataset)\n",
    "    test_size = int(test_split * dataset_size)\n",
    "    val_size = int(val_split * (dataset_size - test_size))\n",
    "    train_size = dataset_size - val_size - test_size\n",
    "\n",
    "    train_dataset, val_dataset, test_dataset = torch.utils.data.random_split(dataset, [train_size, val_size, test_size])\n",
    "\n",
    "    train_loader = DataLoader(train_dataset, batch_size=batch_size, shuffle=True, num_workers=num_workers, pin_memory=True)\n",
    "    val_loader = DataLoader(val_dataset, batch_size=batch_size, shuffle=False, num_workers=num_workers, pin_memory=True)\n",
    "    test_loader = DataLoader(test_dataset, batch_size=batch_size, shuffle=False, num_workers=num_workers, pin_memory=True)\n",
    "\n",
    "    return train_loader, val_loader, test_loader\n",
    "\n",
    "# Create forward fill bid custom\n",
    "def forward_fill_bid_custom(data, price_cols):\n",
    "    # Forward fill NaN values across rows for specified columns\n",
    "    data[price_cols] = data[price_cols].ffill(axis=1)\n",
    "\n",
    "    # Forward fill NaN values across columns for specified columns\n",
    "    data[price_cols] = data[price_cols].ffill(axis=0)\n",
    "\n",
    "    return data\n",
    "\n",
    "def clear_gpu_cache():\n",
    "    torch.cuda.empty_cache()\n",
    "\n",
    "\n",
    "# Create sequences based on the extended_segment\n",
    "def create_sequences(extended_segment, num_steps, input_size, normalize, val_split=0.1, test_split=0.1, batch_size=64):\n",
    "    # Ensure no NaN values\n",
    "    assert(np.isnan(extended_segment).sum().sum() == 0)\n",
    "\n",
    "    # Setup\n",
    "    timestamps = extended_segment.index\n",
    "    extended_segment = extended_segment.to_numpy()\n",
    "    last_price_index = 0\n",
    "\n",
    "    # Prevent a division by 0 by imputing 0s to a very small number\n",
    "    extended_segment[:, last_price_index] = np.where(extended_segment[:, last_price_index] == 0, 1e-6, extended_segment[:, last_price_index])\n",
    "\n",
    "    # Plot the prices before normalization\n",
    "    plot_last_prices(extended_segment[:, last_price_index], normalized=False)\n",
    "\n",
    "    # Normalize prices - retrieve relative change rates\n",
    "    if normalize:\n",
    "        extended_segment = normalize_prices(extended_segment, intervals, timestamps, num_steps, input_size, last_price_index)\n",
    "\n",
    "    clear_gpu_cache()\n",
    "\n",
    "    # Plot the prices after normalization\n",
    "    plot_last_prices(extended_segment[:, last_price_index])\n",
    "\n",
    "    # Roll data for RNN\n",
    "    extended_segment = roll_data(extended_segment, num_steps, input_size)\n",
    "    clear_gpu_cache()\n",
    "\n",
    "    # Create dataset and dataloader instances\n",
    "    dataset = TimeSeriesDataset(extended_segment, num_steps, last_price_index)\n",
    "    clear_gpu_cache()\n",
    "    train_loader, val_loader, test_loader = create_dataloader_instances(dataset, val_split=val_split, test_split=test_split, batch_size=batch_size)\n",
    "    clear_gpu_cache()\n",
    "    \n",
    "    # # Remove all rows with exceptionally small bid ask spread\n",
    "    # extended_segment = extended_segment[:, ]\n",
    "\n",
    "    return extended_segment, train_loader, val_loader, test_loader, dataset.num_features\n",
    "\n",
    "\n",
    "def add_derived_features(extended_segment):\n",
    "    # Forward fill nan values in bid_prices (NOTE: This may not reflect the changes in market!)\n",
    "    bid_price_cols = ['bid_price1', 'bid_price2', 'bid_price3', 'bid_price4', 'bid_price5']\n",
    "    ask_price_cols = ['ask_price1', 'ask_price2', 'ask_price3', 'ask_price4', 'ask_price5']\n",
    "    extended_segment = forward_fill_bid_custom(extended_segment, bid_price_cols)\n",
    "\n",
    "    # Bid & Ask Volumes\n",
    "    bid_volume_cols = ['bid_volume1', 'bid_volume2', 'bid_volume3', 'bid_volume4', 'bid_volume5']\n",
    "    ask_volume_cols = ['ask_volume1', 'ask_volume2', 'ask_volume3', 'ask_volume4', 'ask_volume5']\n",
    "\n",
    "    # Calculate Bid-Ask Spread\n",
    "    extended_segment.loc[:, 'bid_ask_spread'] = extended_segment['ask_price1'] - extended_segment['bid_price1']\n",
    "\n",
    "    # Calculate Market Depth (total bid and ask volumes)\n",
    "    extended_segment.loc[:, 'total_bid_volume'] = extended_segment[bid_volume_cols].sum(axis=1)\n",
    "    extended_segment.loc[:, 'total_ask_volume'] = extended_segment[ask_volume_cols].sum(axis=1)\n",
    "\n",
    "    # Calculate Order Imbalance Ratio\n",
    "    extended_segment.loc[:, 'order_imbalance_ratio'] = (extended_segment['total_bid_volume'] - extended_segment['total_ask_volume']) / (extended_segment['total_bid_volume'] + extended_segment['total_ask_volume'])\n",
    "\n",
    "    # Calculate Volume Order Imbalance\n",
    "    delta_bid_vol = extended_segment[bid_volume_cols].diff().fillna(0)\n",
    "    delta_ask_vol = extended_segment[ask_volume_cols].diff().fillna(0)\n",
    "    delta_bid_price = extended_segment[bid_price_cols].diff().fillna(0)\n",
    "    delta_ask_price = extended_segment[ask_price_cols].diff().fillna(0)\n",
    "\n",
    "    for i in range(1, 6):\n",
    "        bid_vol_col = f'bid_volume{i}'\n",
    "        ask_vol_col = f'ask_volume{i}'\n",
    "        bid_price_col = f'bid_price{i}'\n",
    "        ask_price_col = f'ask_price{i}'\n",
    "\n",
    "        # Clip delta_bid_vol to bid_volume on a rise\n",
    "        delta_bid_vol[bid_vol_col] = np.where(delta_bid_price[bid_price_col] > 0,\n",
    "                                              np.minimum(delta_bid_vol[bid_vol_col], extended_segment[bid_vol_col]),\n",
    "                                              delta_bid_vol[bid_vol_col])\n",
    "\n",
    "        # Clip delta_ask_vol to ask_volume on a fall\n",
    "        delta_ask_vol[ask_vol_col] = np.where(delta_ask_price[ask_price_col] < 0,\n",
    "                                              np.minimum(delta_ask_vol[ask_vol_col], extended_segment[ask_vol_col]),\n",
    "                                              delta_ask_vol[ask_vol_col])\n",
    "\n",
    "    extended_segment.loc[:, 'volume_order_imbalance'] = delta_bid_vol.sum(axis=1) - delta_ask_vol.sum(axis=1)\n",
    "\n",
    "    # Calculate Mid-Price Basis\n",
    "    extended_segment.loc[:, 'mid_price'] = (extended_segment.loc[:, 'bid_price1'] + extended_segment.loc[:, 'ask_price1']) / 2\n",
    "\n",
    "    # Calculate average trade price if it doesn't exist\n",
    "    if 'average_trade_price' not in extended_segment.columns:\n",
    "        extended_segment['average_trade_price'] = np.where(\n",
    "            extended_segment['volume'].diff() != 0,\n",
    "            (extended_segment['amount'].diff() / extended_segment['volume'].diff()).fillna(0),\n",
    "            extended_segment['mid_price']\n",
    "        )\n",
    "    else:\n",
    "        extended_segment['average_trade_price'] = np.where(\n",
    "            extended_segment['volume'].diff() != 0,\n",
    "            (extended_segment['amount'].diff() / extended_segment['volume'].diff()).fillna(0),\n",
    "            extended_segment['average_trade_price'].shift(1).fillna(0)\n",
    "        )\n",
    "\n",
    "    extended_segment['mid_price_basis'] = extended_segment['average_trade_price'] - extended_segment['mid_price']\n",
    "\n",
    "    # Drop intermediary derived feature columns\n",
    "    intermediary_columns = [\n",
    "        'total_bid_volume', 'total_ask_volume', 'mid_price', 'average_trade_price'\n",
    "    ]\n",
    "    extended_segment = extended_segment.drop(columns=intermediary_columns)\n",
    "\n",
    "    # Ensure there are no NaN values\n",
    "    assert not extended_segment.isnull().values.any(), \"There are NaN values in the derived features\"\n",
    "    assert(np.isnan(extended_segment).sum().sum() == 0)\n",
    "\n",
    "\n",
    "def add_factors(extended_segment, short_period, long_period, signal_period, period):\n",
    "    # Compute Factors: MA & MACD\n",
    "    for i in range(len(period)):\n",
    "      # Calculate MA\n",
    "      t = period[i]\n",
    "      extended_segment[f'ma({t})'] = moving_average(extended_segment['last_price'], t)\n",
    "      extended_segment[f'ma({t})'] = extended_segment[f'ma({t})'].fillna(method='ffill')\n",
    "\n",
    "      # Calculate MACD\n",
    "      a = short_period[i]\n",
    "      b = long_period[i]\n",
    "      c = signal_period[i]\n",
    "      macd_line, signal_line, macd_histogram = calculate_macd(extended_segment['last_price'], a, b, c)\n",
    "      extended_segment[f'macd_line({a},{b},{c})'] = macd_line\n",
    "      extended_segment[f'signal_line({a},{b},{c})'] = signal_line\n",
    "      extended_segment[f'macd_histogram({a},{b},{c})'] = macd_histogram\n",
    "\n",
    "    print(extended_segment.columns)"
   ]
  },
  {
   "cell_type": "code",
   "execution_count": 11,
   "metadata": {
    "colab": {
     "base_uri": "https://localhost:8080/",
     "height": 1000
    },
    "id": "DVuKsKrMC7iP",
    "outputId": "907ed828-ba3b-453e-9a0f-f94d442eb1c5"
   },
   "outputs": [
    {
     "name": "stdout",
     "output_type": "stream",
     "text": [
      "All times are within the specified intervals.\n"
     ]
    },
    {
     "data": {
      "image/png": "[encoded data removed]",
      "text/plain": [
       "<Figure size 1000x500 with 1 Axes>"
      ]
     },
     "metadata": {},
     "output_type": "display_data"
    },
    {
     "name": "stderr",
     "output_type": "stream",
     "text": [
      "/var/folders/9r/mtq2vc395jd2kf7n3d7l_b9r0000gn/T/ipykernel_11931/588933284.py:54: SettingWithCopyWarning: \n",
      "A value is trying to be set on a copy of a slice from a DataFrame.\n",
      "Try using .loc[row_indexer,col_indexer] = value instead\n",
      "\n",
      "See the caveats in the documentation: https://pandas.pydata.org/pandas-docs/stable/user_guide/indexing.html#returning-a-view-versus-a-copy\n",
      "  data_filtered.loc[:, 'volume_rolling'] = data_filtered['volume'].rolling(window=window, min_periods=min_periods).mean()\n",
      "/var/folders/9r/mtq2vc395jd2kf7n3d7l_b9r0000gn/T/ipykernel_11931/588933284.py:60: SettingWithCopyWarning: \n",
      "A value is trying to be set on a copy of a slice from a DataFrame.\n",
      "Try using .loc[row_indexer,col_indexer] = value instead\n",
      "\n",
      "See the caveats in the documentation: https://pandas.pydata.org/pandas-docs/stable/user_guide/indexing.html#returning-a-view-versus-a-copy\n",
      "  data_filtered.loc[:, 'high_volume'] = data_filtered['volume_rolling'] > volume_threshold\n",
      "/var/folders/9r/mtq2vc395jd2kf7n3d7l_b9r0000gn/T/ipykernel_11931/588933284.py:63: SettingWithCopyWarning: \n",
      "A value is trying to be set on a copy of a slice from a DataFrame.\n",
      "Try using .loc[row_indexer,col_indexer] = value instead\n",
      "\n",
      "See the caveats in the documentation: https://pandas.pydata.org/pandas-docs/stable/user_guide/indexing.html#returning-a-view-versus-a-copy\n",
      "  data_filtered.loc[:, 'segment'] = data_filtered['high_volume'].ne(data_filtered['high_volume'].shift()).cumsum()\n",
      "/var/folders/9r/mtq2vc395jd2kf7n3d7l_b9r0000gn/T/ipykernel_11931/588933284.py:70: SettingWithCopyWarning: \n",
      "A value is trying to be set on a copy of a slice from a DataFrame\n",
      "\n",
      "See the caveats in the documentation: https://pandas.pydata.org/pandas-docs/stable/user_guide/indexing.html#returning-a-view-versus-a-copy\n",
      "  high_volume_segments.drop(columns=['high_volume', 'segment', 'volume_rolling'], inplace=True)\n"
     ]
    },
    {
     "data": {
      "image/png": "[encoded data removed]",
      "text/plain": [
       "<Figure size 1000x500 with 1 Axes>"
      ]
     },
     "metadata": {},
     "output_type": "display_data"
    },
    {
     "name": "stdout",
     "output_type": "stream",
     "text": [
      "All times are within the specified intervals.\n"
     ]
    },
    {
     "name": "stderr",
     "output_type": "stream",
     "text": [
      "/var/folders/9r/mtq2vc395jd2kf7n3d7l_b9r0000gn/T/ipykernel_11931/588933284.py:217: SettingWithCopyWarning: \n",
      "A value is trying to be set on a copy of a slice from a DataFrame.\n",
      "Try using .loc[row_indexer,col_indexer] = value instead\n",
      "\n",
      "See the caveats in the documentation: https://pandas.pydata.org/pandas-docs/stable/user_guide/indexing.html#returning-a-view-versus-a-copy\n",
      "  data[price_cols] = data[price_cols].ffill(axis=1)\n",
      "/var/folders/9r/mtq2vc395jd2kf7n3d7l_b9r0000gn/T/ipykernel_11931/588933284.py:220: SettingWithCopyWarning: \n",
      "A value is trying to be set on a copy of a slice from a DataFrame.\n",
      "Try using .loc[row_indexer,col_indexer] = value instead\n",
      "\n",
      "See the caveats in the documentation: https://pandas.pydata.org/pandas-docs/stable/user_guide/indexing.html#returning-a-view-versus-a-copy\n",
      "  data[price_cols] = data[price_cols].ffill(axis=0)\n",
      "/var/folders/9r/mtq2vc395jd2kf7n3d7l_b9r0000gn/T/ipykernel_11931/588933284.py:280: SettingWithCopyWarning: \n",
      "A value is trying to be set on a copy of a slice from a DataFrame.\n",
      "Try using .loc[row_indexer,col_indexer] = value instead\n",
      "\n",
      "See the caveats in the documentation: https://pandas.pydata.org/pandas-docs/stable/user_guide/indexing.html#returning-a-view-versus-a-copy\n",
      "  extended_segment.loc[:, 'bid_ask_spread'] = extended_segment['ask_price1'] - extended_segment['bid_price1']\n",
      "/var/folders/9r/mtq2vc395jd2kf7n3d7l_b9r0000gn/T/ipykernel_11931/588933284.py:283: SettingWithCopyWarning: \n",
      "A value is trying to be set on a copy of a slice from a DataFrame.\n",
      "Try using .loc[row_indexer,col_indexer] = value instead\n",
      "\n",
      "See the caveats in the documentation: https://pandas.pydata.org/pandas-docs/stable/user_guide/indexing.html#returning-a-view-versus-a-copy\n",
      "  extended_segment.loc[:, 'total_bid_volume'] = extended_segment[bid_volume_cols].sum(axis=1)\n",
      "/var/folders/9r/mtq2vc395jd2kf7n3d7l_b9r0000gn/T/ipykernel_11931/588933284.py:284: SettingWithCopyWarning: \n",
      "A value is trying to be set on a copy of a slice from a DataFrame.\n",
      "Try using .loc[row_indexer,col_indexer] = value instead\n",
      "\n",
      "See the caveats in the documentation: https://pandas.pydata.org/pandas-docs/stable/user_guide/indexing.html#returning-a-view-versus-a-copy\n",
      "  extended_segment.loc[:, 'total_ask_volume'] = extended_segment[ask_volume_cols].sum(axis=1)\n",
      "/var/folders/9r/mtq2vc395jd2kf7n3d7l_b9r0000gn/T/ipykernel_11931/588933284.py:287: SettingWithCopyWarning: \n",
      "A value is trying to be set on a copy of a slice from a DataFrame.\n",
      "Try using .loc[row_indexer,col_indexer] = value instead\n",
      "\n",
      "See the caveats in the documentation: https://pandas.pydata.org/pandas-docs/stable/user_guide/indexing.html#returning-a-view-versus-a-copy\n",
      "  extended_segment.loc[:, 'order_imbalance_ratio'] = (extended_segment['total_bid_volume'] - extended_segment['total_ask_volume']) / (extended_segment['total_bid_volume'] + extended_segment['total_ask_volume'])\n",
      "/var/folders/9r/mtq2vc395jd2kf7n3d7l_b9r0000gn/T/ipykernel_11931/588933284.py:311: SettingWithCopyWarning: \n",
      "A value is trying to be set on a copy of a slice from a DataFrame.\n",
      "Try using .loc[row_indexer,col_indexer] = value instead\n",
      "\n",
      "See the caveats in the documentation: https://pandas.pydata.org/pandas-docs/stable/user_guide/indexing.html#returning-a-view-versus-a-copy\n",
      "  extended_segment.loc[:, 'volume_order_imbalance'] = delta_bid_vol.sum(axis=1) - delta_ask_vol.sum(axis=1)\n",
      "/var/folders/9r/mtq2vc395jd2kf7n3d7l_b9r0000gn/T/ipykernel_11931/588933284.py:314: SettingWithCopyWarning: \n",
      "A value is trying to be set on a copy of a slice from a DataFrame.\n",
      "Try using .loc[row_indexer,col_indexer] = value instead\n",
      "\n",
      "See the caveats in the documentation: https://pandas.pydata.org/pandas-docs/stable/user_guide/indexing.html#returning-a-view-versus-a-copy\n",
      "  extended_segment.loc[:, 'mid_price'] = (extended_segment.loc[:, 'bid_price1'] + extended_segment.loc[:, 'ask_price1']) / 2\n",
      "/var/folders/9r/mtq2vc395jd2kf7n3d7l_b9r0000gn/T/ipykernel_11931/588933284.py:318: SettingWithCopyWarning: \n",
      "A value is trying to be set on a copy of a slice from a DataFrame.\n",
      "Try using .loc[row_indexer,col_indexer] = value instead\n",
      "\n",
      "See the caveats in the documentation: https://pandas.pydata.org/pandas-docs/stable/user_guide/indexing.html#returning-a-view-versus-a-copy\n",
      "  extended_segment['average_trade_price'] = np.where(\n",
      "/var/folders/9r/mtq2vc395jd2kf7n3d7l_b9r0000gn/T/ipykernel_11931/588933284.py:330: SettingWithCopyWarning: \n",
      "A value is trying to be set on a copy of a slice from a DataFrame.\n",
      "Try using .loc[row_indexer,col_indexer] = value instead\n",
      "\n",
      "See the caveats in the documentation: https://pandas.pydata.org/pandas-docs/stable/user_guide/indexing.html#returning-a-view-versus-a-copy\n",
      "  extended_segment['mid_price_basis'] = extended_segment['average_trade_price'] - extended_segment['mid_price']\n",
      "/var/folders/9r/mtq2vc395jd2kf7n3d7l_b9r0000gn/T/ipykernel_11931/588933284.py:348: SettingWithCopyWarning: \n",
      "A value is trying to be set on a copy of a slice from a DataFrame.\n",
      "Try using .loc[row_indexer,col_indexer] = value instead\n",
      "\n",
      "See the caveats in the documentation: https://pandas.pydata.org/pandas-docs/stable/user_guide/indexing.html#returning-a-view-versus-a-copy\n",
      "  extended_segment[f'ma({t})'] = moving_average(extended_segment['last_price'], t)\n",
      "/var/folders/9r/mtq2vc395jd2kf7n3d7l_b9r0000gn/T/ipykernel_11931/588933284.py:349: SettingWithCopyWarning: \n",
      "A value is trying to be set on a copy of a slice from a DataFrame.\n",
      "Try using .loc[row_indexer,col_indexer] = value instead\n",
      "\n",
      "See the caveats in the documentation: https://pandas.pydata.org/pandas-docs/stable/user_guide/indexing.html#returning-a-view-versus-a-copy\n",
      "  extended_segment[f'ma({t})'] = extended_segment[f'ma({t})'].fillna(method='ffill')\n",
      "/var/folders/9r/mtq2vc395jd2kf7n3d7l_b9r0000gn/T/ipykernel_11931/588933284.py:356: SettingWithCopyWarning: \n",
      "A value is trying to be set on a copy of a slice from a DataFrame.\n",
      "Try using .loc[row_indexer,col_indexer] = value instead\n",
      "\n",
      "See the caveats in the documentation: https://pandas.pydata.org/pandas-docs/stable/user_guide/indexing.html#returning-a-view-versus-a-copy\n",
      "  extended_segment[f'macd_line({a},{b},{c})'] = macd_line\n",
      "/var/folders/9r/mtq2vc395jd2kf7n3d7l_b9r0000gn/T/ipykernel_11931/588933284.py:357: SettingWithCopyWarning: \n",
      "A value is trying to be set on a copy of a slice from a DataFrame.\n",
      "Try using .loc[row_indexer,col_indexer] = value instead\n",
      "\n",
      "See the caveats in the documentation: https://pandas.pydata.org/pandas-docs/stable/user_guide/indexing.html#returning-a-view-versus-a-copy\n",
      "  extended_segment[f'signal_line({a},{b},{c})'] = signal_line\n",
      "/var/folders/9r/mtq2vc395jd2kf7n3d7l_b9r0000gn/T/ipykernel_11931/588933284.py:358: SettingWithCopyWarning: \n",
      "A value is trying to be set on a copy of a slice from a DataFrame.\n",
      "Try using .loc[row_indexer,col_indexer] = value instead\n",
      "\n",
      "See the caveats in the documentation: https://pandas.pydata.org/pandas-docs/stable/user_guide/indexing.html#returning-a-view-versus-a-copy\n",
      "  extended_segment[f'macd_histogram({a},{b},{c})'] = macd_histogram\n",
      "/var/folders/9r/mtq2vc395jd2kf7n3d7l_b9r0000gn/T/ipykernel_11931/588933284.py:348: SettingWithCopyWarning: \n",
      "A value is trying to be set on a copy of a slice from a DataFrame.\n",
      "Try using .loc[row_indexer,col_indexer] = value instead\n",
      "\n",
      "See the caveats in the documentation: https://pandas.pydata.org/pandas-docs/stable/user_guide/indexing.html#returning-a-view-versus-a-copy\n",
      "  extended_segment[f'ma({t})'] = moving_average(extended_segment['last_price'], t)\n",
      "/var/folders/9r/mtq2vc395jd2kf7n3d7l_b9r0000gn/T/ipykernel_11931/588933284.py:349: SettingWithCopyWarning: \n",
      "A value is trying to be set on a copy of a slice from a DataFrame.\n",
      "Try using .loc[row_indexer,col_indexer] = value instead\n",
      "\n",
      "See the caveats in the documentation: https://pandas.pydata.org/pandas-docs/stable/user_guide/indexing.html#returning-a-view-versus-a-copy\n",
      "  extended_segment[f'ma({t})'] = extended_segment[f'ma({t})'].fillna(method='ffill')\n",
      "/var/folders/9r/mtq2vc395jd2kf7n3d7l_b9r0000gn/T/ipykernel_11931/588933284.py:356: SettingWithCopyWarning: \n",
      "A value is trying to be set on a copy of a slice from a DataFrame.\n",
      "Try using .loc[row_indexer,col_indexer] = value instead\n",
      "\n",
      "See the caveats in the documentation: https://pandas.pydata.org/pandas-docs/stable/user_guide/indexing.html#returning-a-view-versus-a-copy\n",
      "  extended_segment[f'macd_line({a},{b},{c})'] = macd_line\n",
      "/var/folders/9r/mtq2vc395jd2kf7n3d7l_b9r0000gn/T/ipykernel_11931/588933284.py:357: SettingWithCopyWarning: \n",
      "A value is trying to be set on a copy of a slice from a DataFrame.\n",
      "Try using .loc[row_indexer,col_indexer] = value instead\n",
      "\n",
      "See the caveats in the documentation: https://pandas.pydata.org/pandas-docs/stable/user_guide/indexing.html#returning-a-view-versus-a-copy\n",
      "  extended_segment[f'signal_line({a},{b},{c})'] = signal_line\n",
      "/var/folders/9r/mtq2vc395jd2kf7n3d7l_b9r0000gn/T/ipykernel_11931/588933284.py:358: SettingWithCopyWarning: \n",
      "A value is trying to be set on a copy of a slice from a DataFrame.\n",
      "Try using .loc[row_indexer,col_indexer] = value instead\n",
      "\n",
      "See the caveats in the documentation: https://pandas.pydata.org/pandas-docs/stable/user_guide/indexing.html#returning-a-view-versus-a-copy\n",
      "  extended_segment[f'macd_histogram({a},{b},{c})'] = macd_histogram\n",
      "/var/folders/9r/mtq2vc395jd2kf7n3d7l_b9r0000gn/T/ipykernel_11931/588933284.py:348: SettingWithCopyWarning: \n",
      "A value is trying to be set on a copy of a slice from a DataFrame.\n",
      "Try using .loc[row_indexer,col_indexer] = value instead\n",
      "\n",
      "See the caveats in the documentation: https://pandas.pydata.org/pandas-docs/stable/user_guide/indexing.html#returning-a-view-versus-a-copy\n",
      "  extended_segment[f'ma({t})'] = moving_average(extended_segment['last_price'], t)\n",
      "/var/folders/9r/mtq2vc395jd2kf7n3d7l_b9r0000gn/T/ipykernel_11931/588933284.py:349: SettingWithCopyWarning: \n",
      "A value is trying to be set on a copy of a slice from a DataFrame.\n",
      "Try using .loc[row_indexer,col_indexer] = value instead\n",
      "\n",
      "See the caveats in the documentation: https://pandas.pydata.org/pandas-docs/stable/user_guide/indexing.html#returning-a-view-versus-a-copy\n",
      "  extended_segment[f'ma({t})'] = extended_segment[f'ma({t})'].fillna(method='ffill')\n",
      "/var/folders/9r/mtq2vc395jd2kf7n3d7l_b9r0000gn/T/ipykernel_11931/588933284.py:356: SettingWithCopyWarning: \n",
      "A value is trying to be set on a copy of a slice from a DataFrame.\n",
      "Try using .loc[row_indexer,col_indexer] = value instead\n",
      "\n",
      "See the caveats in the documentation: https://pandas.pydata.org/pandas-docs/stable/user_guide/indexing.html#returning-a-view-versus-a-copy\n",
      "  extended_segment[f'macd_line({a},{b},{c})'] = macd_line\n",
      "/var/folders/9r/mtq2vc395jd2kf7n3d7l_b9r0000gn/T/ipykernel_11931/588933284.py:357: SettingWithCopyWarning: \n",
      "A value is trying to be set on a copy of a slice from a DataFrame.\n",
      "Try using .loc[row_indexer,col_indexer] = value instead\n",
      "\n",
      "See the caveats in the documentation: https://pandas.pydata.org/pandas-docs/stable/user_guide/indexing.html#returning-a-view-versus-a-copy\n",
      "  extended_segment[f'signal_line({a},{b},{c})'] = signal_line\n",
      "/var/folders/9r/mtq2vc395jd2kf7n3d7l_b9r0000gn/T/ipykernel_11931/588933284.py:358: SettingWithCopyWarning: \n",
      "A value is trying to be set on a copy of a slice from a DataFrame.\n",
      "Try using .loc[row_indexer,col_indexer] = value instead\n",
      "\n",
      "See the caveats in the documentation: https://pandas.pydata.org/pandas-docs/stable/user_guide/indexing.html#returning-a-view-versus-a-copy\n",
      "  extended_segment[f'macd_histogram({a},{b},{c})'] = macd_histogram\n",
      "/var/folders/9r/mtq2vc395jd2kf7n3d7l_b9r0000gn/T/ipykernel_11931/588933284.py:348: SettingWithCopyWarning: \n",
      "A value is trying to be set on a copy of a slice from a DataFrame.\n",
      "Try using .loc[row_indexer,col_indexer] = value instead\n",
      "\n",
      "See the caveats in the documentation: https://pandas.pydata.org/pandas-docs/stable/user_guide/indexing.html#returning-a-view-versus-a-copy\n",
      "  extended_segment[f'ma({t})'] = moving_average(extended_segment['last_price'], t)\n",
      "/var/folders/9r/mtq2vc395jd2kf7n3d7l_b9r0000gn/T/ipykernel_11931/588933284.py:349: SettingWithCopyWarning: \n",
      "A value is trying to be set on a copy of a slice from a DataFrame.\n",
      "Try using .loc[row_indexer,col_indexer] = value instead\n",
      "\n",
      "See the caveats in the documentation: https://pandas.pydata.org/pandas-docs/stable/user_guide/indexing.html#returning-a-view-versus-a-copy\n",
      "  extended_segment[f'ma({t})'] = extended_segment[f'ma({t})'].fillna(method='ffill')\n",
      "/var/folders/9r/mtq2vc395jd2kf7n3d7l_b9r0000gn/T/ipykernel_11931/588933284.py:356: SettingWithCopyWarning: \n",
      "A value is trying to be set on a copy of a slice from a DataFrame.\n",
      "Try using .loc[row_indexer,col_indexer] = value instead\n",
      "\n",
      "See the caveats in the documentation: https://pandas.pydata.org/pandas-docs/stable/user_guide/indexing.html#returning-a-view-versus-a-copy\n",
      "  extended_segment[f'macd_line({a},{b},{c})'] = macd_line\n",
      "/var/folders/9r/mtq2vc395jd2kf7n3d7l_b9r0000gn/T/ipykernel_11931/588933284.py:357: SettingWithCopyWarning: \n",
      "A value is trying to be set on a copy of a slice from a DataFrame.\n",
      "Try using .loc[row_indexer,col_indexer] = value instead\n",
      "\n",
      "See the caveats in the documentation: https://pandas.pydata.org/pandas-docs/stable/user_guide/indexing.html#returning-a-view-versus-a-copy\n",
      "  extended_segment[f'signal_line({a},{b},{c})'] = signal_line\n",
      "/var/folders/9r/mtq2vc395jd2kf7n3d7l_b9r0000gn/T/ipykernel_11931/588933284.py:358: SettingWithCopyWarning: \n",
      "A value is trying to be set on a copy of a slice from a DataFrame.\n",
      "Try using .loc[row_indexer,col_indexer] = value instead\n",
      "\n",
      "See the caveats in the documentation: https://pandas.pydata.org/pandas-docs/stable/user_guide/indexing.html#returning-a-view-versus-a-copy\n",
      "  extended_segment[f'macd_histogram({a},{b},{c})'] = macd_histogram\n"
     ]
    },
    {
     "name": "stdout",
     "output_type": "stream",
     "text": [
      "Index(['last_price', 'highest', 'lowest', 'bid_price1', 'bid_volume1',\n",
      "       'bid_price2', 'bid_volume2', 'bid_price3', 'bid_volume3', 'bid_price4',\n",
      "       'bid_volume4', 'bid_price5', 'bid_volume5', 'ask_price1', 'ask_volume1',\n",
      "       'ask_price2', 'ask_volume2', 'ask_price3', 'ask_volume3', 'ask_price4',\n",
      "       'ask_volume4', 'ask_price5', 'ask_volume5', 'volume', 'amount',\n",
      "       'open_interest', 'bid_ask_spread', 'total_bid_volume',\n",
      "       'total_ask_volume', 'order_imbalance_ratio', 'volume_order_imbalance',\n",
      "       'mid_price', 'average_trade_price', 'mid_price_basis', 'ma(5)',\n",
      "       'macd_line(5,15,10)', 'signal_line(5,15,10)', 'macd_histogram(5,15,10)',\n",
      "       'ma(10)', 'macd_line(10,20,20)', 'signal_line(10,20,20)',\n",
      "       'macd_histogram(10,20,20)', 'ma(15)', 'macd_line(15,25,30)',\n",
      "       'signal_line(15,25,30)', 'macd_histogram(15,25,30)', 'ma(20)',\n",
      "       'macd_line(20,30,40)', 'signal_line(20,30,40)',\n",
      "       'macd_histogram(20,30,40)'],\n",
      "      dtype='object')\n"
     ]
    },
    {
     "data": {
      "image/png": "[encoded data removed]",
      "text/plain": [
       "<Figure size 1000x500 with 1 Axes>"
      ]
     },
     "metadata": {},
     "output_type": "display_data"
    },
    {
     "data": {
      "image/png": "[encoded data removed]",
      "text/plain": [
       "<Figure size 1000x500 with 1 Axes>"
      ]
     },
     "metadata": {},
     "output_type": "display_data"
    },
    {
     "data": {
      "image/png": "[encoded data removed]",
      "text/plain": [
       "<Figure size 1000x500 with 1 Axes>"
      ]
     },
     "metadata": {},
     "output_type": "display_data"
    },
    {
     "data": {
      "image/png": "[encoded data removed]",
      "text/plain": [
       "<Figure size 1000x500 with 1 Axes>"
      ]
     },
     "metadata": {},
     "output_type": "display_data"
    },
    {
     "data": {
      "image/png": "[encoded data removed]",
      "text/plain": [
       "<Figure size 1000x500 with 1 Axes>"
      ]
     },
     "metadata": {},
     "output_type": "display_data"
    },
    {
     "data": {
      "image/png": "[encoded data removed]",
      "text/plain": [
       "<Figure size 1000x500 with 1 Axes>"
      ]
     },
     "metadata": {},
     "output_type": "display_data"
    },
    {
     "data": {
      "image/png": "[encoded data removed]",
      "text/plain": [
       "<Figure size 1000x500 with 1 Axes>"
      ]
     },
     "metadata": {},
     "output_type": "display_data"
    }
   ],
   "source": [
    "# Params\n",
    "dataset_filename = 'INE.sc2010'\n",
    "intervals = [\n",
    "    ('21:00:00', '02:30:00'),\n",
    "    ('09:00:00', '10:15:00'),\n",
    "    ('10:30:00', '11:30:00'),\n",
    "    ('13:30:00', '15:00:00')\n",
    "]\n",
    "configs_filename = 'configs'\n",
    "\n",
    "# Load configs file\n",
    "configs = load_configs(configs_filename)\n",
    "clear_gpu_cache()\n",
    "\n",
    "# Read data\n",
    "# data = pd.read_csv('data/' + dataset_filename + '.csv')\n",
    "data = pd.read_csv(f'data/{dataset_filename}.csv')\n",
    "data['datetime'] = pd.to_datetime(data['datetime'])\n",
    "\n",
    "# Set seed\n",
    "set_seed(42)\n",
    "\n",
    "with cProfile.Profile() as pr:\n",
    "    # Only include data within the specified intervals\n",
    "    data_filtered = filter_data_by_intervals(data, intervals)\n",
    "    # pr.print_stats()\n",
    "\n",
    "    # Make sure there are no values outside the given time intervals\n",
    "    assert_time_intervals(data_filtered, intervals)\n",
    "    # pr.print_stats()\n",
    "\n",
    "    # Plot trading volume data\n",
    "    plot_volume(data_filtered, 'Daily Trading Volume of SC2010 Stocks')\n",
    "\n",
    "    # Extract the main contract\n",
    "    # data_filtered = data_filtered.copy() # Avoid SettingWithCopyWarning\n",
    "    # pr.print_stats()\n",
    "    data_filtered.iloc[:, 1:] = data_filtered.iloc[:, 1:].astype(np.float32)\n",
    "    # pr.print_stats()\n",
    "    extended_segment = extract_main_contract(data_filtered)\n",
    "    # pr.print_stats()\n",
    "\n",
    "    # Plot main contract segment\n",
    "    plot_volume(extended_segment, 'Trading Volume of Main Contract Segment')\n",
    "    # pr.print_stats()\n",
    "\n",
    "    # Set index of the resulting dataframe\n",
    "    extended_segment.set_index('datetime', inplace=True)\n",
    "    # pr.print_stats()\n",
    "\n",
    "    # Make sure there are no values outside the given time intervals\n",
    "    assert_time_intervals(extended_segment, intervals)\n",
    "    # pr.print_stats()\n",
    "\n",
    "    # Extract needed hyperparams\n",
    "    input_size = configs['input_size']\n",
    "    num_steps = configs['num_steps']\n",
    "    normalize = configs['normalize']\n",
    "    batch_size = configs['batch_size']\n",
    "\n",
    "    # Add derived features\n",
    "    add_derived_features(extended_segment)\n",
    "\n",
    "    # Add factors\n",
    "    period_labels = np.array(['2.5s', '5s', '7.5s', '10s'])\n",
    "    period = np.array([5, 10, 15, 20])\n",
    "    short_period = period\n",
    "    long_period = period + 10\n",
    "    signal_period = 2 * period\n",
    "\n",
    "    add_factors(extended_segment, short_period, long_period, signal_period, period)\n",
    "    # pr.print_stats()\n",
    "\n",
    "    # Plot closing prices with factors\n",
    "    plot_prices_with_ma(extended_segment, period, period_labels)\n",
    "    plot_prices_with_macd(extended_segment, short_period, long_period, signal_period)\n",
    "\n",
    "    # Normalize data\n",
    "    extended_segment = normalize_data(extended_segment)\n",
    "    assert(extended_segment.isna().sum().sum() == 0)\n",
    "\n",
    "    # Create sequences based on the extended_segment\n",
    "    extended_segment, train_loader, val_loader, test_loader, num_features = create_sequences(extended_segment, num_steps, input_size, normalize, val_split=0.1, test_split=0.1, batch_size=batch_size)"
   ]
  },
  {
   "cell_type": "markdown",
   "metadata": {
    "id": "ZYSFG2CvRdl3"
   },
   "source": [
    "## RNN Model Definition \n",
    "\n",
    "Include quantized components when Quantized-Aware Training (QAT) enabled."
   ]
  },
  {
   "cell_type": "code",
   "execution_count": 123,
   "metadata": {
    "id": "97w6HrsKqROK"
   },
   "outputs": [],
   "source": [
    "def convert_to_labels(val, flat_gap=0.01):\n",
    "    return 2 if val > flat_gap else 0 if val < -flat_gap else 1"
   ]
  },
  {
   "cell_type": "code",
   "execution_count": 124,
   "metadata": {
    "id": "z6Jc4p_Rqguf"
   },
   "outputs": [],
   "source": [
    "def classification_accuracy(y_pred, y_true):\n",
    "    y_pred_labels = torch.tensor([convert_to_labels(y) for y in torch.flatten(y_pred)])\n",
    "    y_true_labels = torch.tensor([convert_to_labels(y) for y in torch.flatten(y_true)])\n",
    "    return torch.sum(y_pred_labels == y_true_labels) / len(y_true_labels)"
   ]
  },
  {
   "cell_type": "code",
   "execution_count": 176,
   "metadata": {},
   "outputs": [],
   "source": [
    "# Utility function to fake quantize input\n",
    "def fake_quantize(x, scale, zero_point, qmin=-128, qmax=127):\n",
    "    x = x.to(torch.float32)  # Ensure x is of float type\n",
    "    scale = torch.tensor(scale, dtype=torch.float32, device=x.device)\n",
    "    zero_point = torch.tensor(zero_point, dtype=torch.float32, device=x.device)\n",
    "    qx = torch.round(x / scale + zero_point).clamp(qmin, qmax)\n",
    "    xq = scale * (qx - zero_point)\n",
    "    return xq\n",
    "\n",
    "# Quantize per channel\n",
    "def fake_quantize_per_channel(tensor, scales, zero_points, axis=0, qmin=-128, qmax=127):\n",
    "    # Ensure scales and zero_points are reshaped for broadcasting\n",
    "    scales = scales.unsqueeze(axis).expand_as(tensor)\n",
    "    zero_points = zero_points.unsqueeze(axis).expand_as(tensor)\n",
    "    \n",
    "    # Quantization and dequantization\n",
    "    quantized_tensor = torch.round(tensor / scales + zero_points).clamp(qmin, qmax)\n",
    "    dequantized_tensor = (quantized_tensor - zero_points) * scales\n",
    "    \n",
    "    return dequantized_tensor\n",
    "\n",
    "def update_scale_and_zero_point(x, num_bits=8):\n",
    "    qmin, qmax = 0, (1 << num_bits) - 1  # [0, 255] for 8-bit\n",
    "\n",
    "    min_val, max_val = x.min().item(), x.max().item()\n",
    "\n",
    "    if min_val == max_val:\n",
    "        scale = 1.0\n",
    "        zero_point = 0\n",
    "    else:\n",
    "        scale = (max_val - min_val) / (qmax - qmin)\n",
    "        zero_point = qmin - min_val / scale\n",
    "        zero_point = torch.round(torch.tensor(zero_point)).int()\n",
    "        zero_point = torch.clamp(zero_point, qmin, qmax)\n",
    "    \n",
    "    return scale, zero_point\n",
    "\n",
    "def update_scale_and_zero_point_per_channel(tensor, axis=0, num_bits=8):\n",
    "    qmin, qmax = 0, (1 << num_bits) - 1\n",
    "    tensor_min = tensor.min(dim=axis, keepdim=True).values\n",
    "    tensor_max = tensor.max(dim=axis, keepdim=True).values\n",
    "\n",
    "    # Avoid division by zero by ensuring scale is non-zero\n",
    "    scale = (tensor_max - tensor_min) / (qmax - qmin)\n",
    "    scale = torch.where(scale == 0, torch.ones_like(scale), scale)\n",
    "\n",
    "    zero_point = torch.round(qmin - tensor_min / scale).int()\n",
    "\n",
    "    # Clamp zero_point to be within the quantization range\n",
    "    zero_point = torch.clamp(zero_point, qmin, qmax)\n",
    "\n",
    "    return scale.squeeze(dim=axis), zero_point.squeeze(dim=axis)\n",
    "\n",
    "\n",
    "# def quantize_tensor(tensor, scales=None, zero_points=None, num_bits=8):\n",
    "#     # Calculate the number of channels (assume channels are along the 0th dimension)\n",
    "#     num_channels = tensor.size(0)\n",
    "\n",
    "#     # Determine the quantization parameters for each channel\n",
    "#     min_vals = tensor.min(dim=1, keepdim=True).values  # Min value along each channel\n",
    "#     max_vals = tensor.max(dim=1, keepdim=True).values  # Max value along each channel\n",
    "\n",
    "#     # Calculate scales and zero points for each channel\n",
    "#     scales = (max_vals - min_vals) / (2**num_bits - 1)\n",
    "#     zero_points = torch.round(-min_vals / scales).int()\n",
    "\n",
    "#     # Initialize the quantized tensor\n",
    "#     quantized_tensor = torch.zeros_like(tensor, dtype=torch.int32)\n",
    "\n",
    "#     # Perform quantization channel-wise\n",
    "#     for i in range(num_channels):\n",
    "#         if scales[i].item() != 0:  # Avoid division by zero\n",
    "#             quantized_tensor[i, :] = torch.round(tensor[i, :] / scales[i] + zero_points[i])\n",
    "\n",
    "#     # Clipping the values to ensure they stay within the range\n",
    "#     quantized_tensor = torch.clamp(quantized_tensor, 0, 2**num_bits - 1)\n",
    "\n",
    "#     return quantized_tensor, scales, zero_points\n",
    "\n",
    "def quantize_tensor(tensor, scale, zero_point, qmin=-128, qmax=127):\n",
    "    q_tensor = zero_point + torch.round(tensor / scale)\n",
    "    q_tensor = torch.clamp(q_tensor, qmin, qmax)\n",
    "    return q_tensor\n",
    "\n",
    "# # Quantize tensor per channel\n",
    "# def quantize_per_channel(tensor, axis=0):\n",
    "#     num_channels = tensor.size(axis)\n",
    "#     scales = []\n",
    "#     zero_points = []\n",
    "    \n",
    "#     for c in range(num_channels):\n",
    "#         # Slice the tensor along the given axis\n",
    "#         if axis == 0:\n",
    "#             channel_data = tensor[c, :]\n",
    "#         elif axis == 1:\n",
    "#             channel_data = tensor[:, c]\n",
    "#         else:\n",
    "#             raise ValueError(f\"Unsupported axis {axis} for per-channel quantization\")\n",
    "        \n",
    "#         scale, zero_point = update_scale_and_zero_point(channel_data)\n",
    "#         scales.append(scale)\n",
    "#         zero_points.append(zero_point)\n",
    "\n",
    "#     scales = torch.tensor(scales, dtype=torch.float32)\n",
    "#     zero_points = torch.tensor(zero_points, dtype=torch.float32)\n",
    "    \n",
    "#     # Quantize the tensor per channel\n",
    "#     if axis == 0:\n",
    "#         tensor_quant = fake_quantize_per_channel(tensor, scales, zero_points, axis=0)\n",
    "#     elif axis == 1:\n",
    "#         tensor_quant = fake_quantize_per_channel(tensor, scales, zero_points, axis=1)\n",
    "    \n",
    "#     return tensor_quant, scales, zero_points\n",
    "\n",
    "def quantize_per_channel(tensor, axis=0, num_bits=8):\n",
    "    # Calculate scales and zero_points\n",
    "    scales, zero_points = update_scale_and_zero_point_per_channel(tensor, axis=axis, num_bits=num_bits)\n",
    "    \n",
    "    # Quantize the tensor per channel\n",
    "    quantized_tensor = fake_quantize_per_channel(tensor, scales, zero_points, axis=axis)\n",
    "    \n",
    "    return quantized_tensor, scales, zero_points\n",
    "\n",
    "\n",
    "# Export parameters (weights, scales, zero points) from model\n",
    "def export_model_parameters(model, filepath):\n",
    "    model_params = {}\n",
    "\n",
    "    for name, param in model.named_parameters():\n",
    "        if param.dim() > 0:  # Ensure we're not trying to quantize a 0-dim tensor\n",
    "            q_tensor, scales, zero_points = quantize_per_channel(param)\n",
    "            model_params[name] = {\n",
    "                \"weights\": q_tensor.tolist(),\n",
    "                \"scales\": scales.tolist(),\n",
    "                \"zero_points\": zero_points.tolist()\n",
    "            }\n",
    "        else:\n",
    "            # For 0-dim tensors, handle separately\n",
    "            model_params[name] = {\n",
    "                \"weights\": [param.item()],\n",
    "                \"scales\": [1.0],\n",
    "                \"zero_points\": [0]\n",
    "            }\n",
    "\n",
    "    with open(filepath, 'w') as f:\n",
    "        json.dump(model_params, f, indent=4)"
   ]
  },
  {
   "cell_type": "code",
   "execution_count": 177,
   "metadata": {},
   "outputs": [],
   "source": [
    "class CustomLayerNorm(nn.Module):\n",
    "    def __init__(self, normalized_shape):\n",
    "        super(CustomLayerNorm, self).__init__()\n",
    "        self.normalized_shape = normalized_shape\n",
    "        self.eps = 1e-5\n",
    "\n",
    "    def forward(self, x):\n",
    "        mean = x.mean(dim=-1, keepdim=True)\n",
    "        var = x.var(dim=-1, keepdim=True, unbiased=False)\n",
    "        return (x - mean) / torch.sqrt(var + self.eps)"
   ]
  },
  {
   "cell_type": "code",
   "execution_count": 178,
   "metadata": {
    "id": "kTpoDSrwJxeA"
   },
   "outputs": [],
   "source": [
    "class CustomLSTMCell(nn.Module):\n",
    "    def __init__(self, input_dim, hidden_dim, dropout_rate=0.0, quantize=False):\n",
    "        super(CustomLSTMCell, self).__init__()\n",
    "        self.hidden_dim = hidden_dim\n",
    "        self.quantize = quantize\n",
    "\n",
    "        # Ensure the input_dim and hidden_dim are set correctly\n",
    "        self.W_i = nn.Parameter(torch.randn(hidden_dim, input_dim).float())\n",
    "        self.U_i = nn.Parameter(torch.randn(hidden_dim, hidden_dim).float())\n",
    "        self.b_i = nn.Parameter(torch.zeros(hidden_dim).float())\n",
    "\n",
    "        self.W_f = nn.Parameter(torch.randn(hidden_dim, input_dim).float())\n",
    "        self.U_f = nn.Parameter(torch.randn(hidden_dim, hidden_dim).float())\n",
    "        self.b_f = nn.Parameter(torch.zeros(hidden_dim).float())\n",
    "\n",
    "        self.W_c = nn.Parameter(torch.randn(hidden_dim, input_dim).float())\n",
    "        self.U_c = nn.Parameter(torch.randn(hidden_dim, hidden_dim).float())\n",
    "        self.b_c = nn.Parameter(torch.zeros(hidden_dim).float())\n",
    "\n",
    "        self.W_o = nn.Parameter(torch.randn(hidden_dim, input_dim).float())\n",
    "        self.U_o = nn.Parameter(torch.randn(hidden_dim, hidden_dim).float())\n",
    "        self.b_o = nn.Parameter(torch.zeros(hidden_dim).float())\n",
    "        \n",
    "        self.batch_norm = nn.BatchNorm1d(hidden_dim)  # BatchNorm layer\n",
    "\n",
    "        self.dropout = nn.Dropout(dropout_rate)\n",
    "\n",
    "        self.init_weights()\n",
    "\n",
    "    def init_weights(self):\n",
    "        for name, param in self.named_parameters():\n",
    "            if 'W_' in name or 'U_' in name:\n",
    "                nn.init.orthogonal_(param)\n",
    "            elif 'b_' in name:\n",
    "                nn.init.constant_(param, 0.0)\n",
    "            assert not torch.isnan(param).any()\n",
    "\n",
    "    def forward(self, x, h, c):\n",
    "        if self.quantize:   \n",
    "            W_i, scale_w_i, zero_point_w_i = quantize_per_channel(self.W_i, axis=0)\n",
    "            U_i, scale_u_i, zero_point_u_i = quantize_per_channel(self.U_i, axis=0)\n",
    "            b_i = quantize_tensor(self.b_i, scale_w_i[0], zero_point_w_i[0])\n",
    "            x_q = fake_quantize(x, scale_w_i.float().mean(), zero_point_w_i.float().mean())\n",
    "            i_t = torch.sigmoid(self.dropout(torch.mm(x_q, W_i.t()) + torch.mm(h, U_i.t()) + b_i))\n",
    "    \n",
    "            W_f, scale_w_f, zero_point_w_f = quantize_per_channel(self.W_f, axis=0)\n",
    "            U_f, scale_u_f, zero_point_u_f = quantize_per_channel(self.U_f, axis=0)\n",
    "            b_f = quantize_tensor(self.b_f, scale_w_f[0], zero_point_w_f[0])\n",
    "            x_q = fake_quantize(x, scale_w_f.float().mean(), zero_point_w_f.float().mean())\n",
    "            f_t = torch.sigmoid(self.dropout(torch.mm(x_q, W_f.t()) + torch.mm(h, U_f.t()) + b_f))\n",
    "    \n",
    "            W_o, scale_w_o, zero_point_w_o = quantize_per_channel(self.W_o, axis=0)\n",
    "            U_o, scale_u_o, zero_point_u_o = quantize_per_channel(self.U_o, axis=0)\n",
    "            b_o = quantize_tensor(self.b_o, scale_w_o[0], zero_point_w_o[0])\n",
    "            x_q = fake_quantize(x, scale_w_o.float().mean(), zero_point_w_o.float().mean())\n",
    "            o_t = torch.sigmoid(self.dropout(torch.mm(x_q, W_o.t()) + torch.mm(h, U_o.t()) + b_o))\n",
    "    \n",
    "            W_c, scale_w_c, zero_point_w_c = quantize_per_channel(self.W_c, axis=0)\n",
    "            U_c, scale_u_c, zero_point_u_c = quantize_per_channel(self.U_c, axis=0)\n",
    "            b_c = quantize_tensor(self.b_c, scale_w_c[0], zero_point_w_c[0])\n",
    "            x_q = fake_quantize(x, scale_w_c.float().mean(), zero_point_w_c.float().mean())\n",
    "            c_tilda = torch.tanh(self.dropout(torch.mm(x_q, W_c.t()) + torch.mm(h, U_c.t()) + b_c))\n",
    "            \n",
    "            c_next = f_t * c + i_t * c_tilda\n",
    "            h_next = o_t * torch.tanh(self.batch_norm(c_next))\n",
    "    \n",
    "            return h_next, c_next\n",
    "        else:\n",
    "            # Forward pass without quantization\n",
    "            i_t = torch.sigmoid(self.dropout(torch.mm(x, self.W_i.t()) + torch.mm(h, self.U_i.t()) + self.b_i))\n",
    "            f_t = torch.sigmoid(self.dropout(torch.mm(x, self.W_f.t()) + torch.mm(h, self.U_f.t()) + self.b_f))\n",
    "            o_t = torch.sigmoid(self.dropout(torch.mm(x, self.W_o.t()) + torch.mm(h, self.U_o.t()) + self.b_o))\n",
    "            c_tilda = torch.tanh(self.dropout(torch.mm(x, self.W_c.t()) + torch.mm(h, self.U_c.t()) + self.b_c))\n",
    "            \n",
    "            c_next = f_t * c + i_t * c_tilda\n",
    "            h_next = o_t * torch.tanh(self.batch_norm(c_next))  # Apply batch normalization\n",
    "\n",
    "            return h_next, c_next\n",
    "\n",
    "class CustomLSTM(nn.Module):\n",
    "    def __init__(self, input_dim, hidden_dim, num_layers, dropout_rate=0.0, quantize=False):\n",
    "        super(CustomLSTM, self).__init__()\n",
    "        self.hidden_dim = hidden_dim\n",
    "        self.num_layers = num_layers\n",
    "        self.quantize = quantize\n",
    "\n",
    "        self.layers = nn.ModuleList([\n",
    "            CustomLSTMCell(input_dim if i == 0 else hidden_dim, hidden_dim, dropout_rate, quantize)\n",
    "            for i in range(num_layers)\n",
    "        ])\n",
    "\n",
    "    def forward(self, x):\n",
    "        batch_size, seq_len, _ = x.size()\n",
    "        hidden_states = [self.init_hidden(batch_size) for _ in range(self.num_layers)]\n",
    "    \n",
    "        outputs = []\n",
    "    \n",
    "        for t in range(seq_len):\n",
    "            x_t = x[:, t, :] \n",
    "            # Pass through each layer\n",
    "            for i, layer in enumerate(self.layers):\n",
    "                h, c = hidden_states[i]\n",
    "                # For the first layer, use x_t; for subsequent layers, use h from the last\n",
    "                x_t, new_c = layer(x_t, h, c)\n",
    "                hidden_states[i] = (x_t, new_c)\n",
    "            # Append output from last layer\n",
    "            outputs.append(x_t)\n",
    "    \n",
    "        # Stack outputs to get the final shape (batch_size, num_steps, hidden_dim)\n",
    "        outputs = torch.stack(outputs, dim=1)\n",
    "        return outputs\n",
    "\n",
    "    def init_hidden(self, batch_size):\n",
    "        h = torch.zeros(batch_size, self.hidden_dim)\n",
    "        c = torch.zeros(batch_size, self.hidden_dim)\n",
    "        return h, c"
   ]
  },
  {
   "cell_type": "code",
   "execution_count": 179,
   "metadata": {
    "id": "ckdaPSaxJxhM"
   },
   "outputs": [],
   "source": [
    "class CustomGRUCell(nn.Module):\n",
    "    def __init__(self, input_dim, hidden_dim, dropout_rate=0.1, quantize=False):\n",
    "        super(CustomGRUCell, self).__init__()\n",
    "        self.hidden_dim = hidden_dim\n",
    "        self.quantize = quantize\n",
    "\n",
    "        self.W_z = nn.Parameter(torch.randn(hidden_dim, input_dim).float())\n",
    "        self.U_z = nn.Parameter(torch.randn(hidden_dim, hidden_dim).float())\n",
    "        self.b_z = nn.Parameter(torch.zeros(hidden_dim).float())\n",
    "\n",
    "        self.W_r = nn.Parameter(torch.randn(hidden_dim, input_dim).float())\n",
    "        self.U_r = nn.Parameter(torch.randn(hidden_dim, hidden_dim).float())\n",
    "        self.b_r = nn.Parameter(torch.zeros(hidden_dim).float())\n",
    "\n",
    "        self.W_h = nn.Parameter(torch.randn(hidden_dim, input_dim).float())\n",
    "        self.U_h = nn.Parameter(torch.randn(hidden_dim, hidden_dim).float())\n",
    "        self.b_h = nn.Parameter(torch.zeros(hidden_dim).float())\n",
    "\n",
    "        self.batch_norm = nn.BatchNorm1d(hidden_dim)  # BatchNorm layer\n",
    "\n",
    "        self.dropout = nn.Dropout(dropout_rate)\n",
    "\n",
    "        self.init_weights()\n",
    "\n",
    "    def init_weights(self):\n",
    "        for name, param in self.named_parameters():\n",
    "            if 'W_' in name or 'U_' in name:\n",
    "                nn.init.orthogonal_(param)\n",
    "            elif 'b_' in name:\n",
    "                nn.init.constant_(param, 0.0)\n",
    "            assert not torch.isnan(param).any()\n",
    "\n",
    "    def forward(self, x, h):\n",
    "        if self.quantize:\n",
    "            # Quantize input and weights for each gate\n",
    "            W_z, scale_w_z, zero_point_w_z = quantize_per_channel(self.W_z, axis=0)\n",
    "            U_z, scale_u_z, zero_point_u_z = quantize_per_channel(self.U_z, axis=0)\n",
    "            b_z = quantize_tensor(self.b_z, scale_w_z[0], zero_point_w_z[0])\n",
    "            x_q = fake_quantize(x, scale_w_z[0], zero_point_w_z[0])\n",
    "            z_t = torch.sigmoid(self.dropout(torch.mm(x_q, W_z.t()) + torch.mm(h, U_z.t()) + b_z))\n",
    "\n",
    "            W_r, scale_w_r, zero_point_w_r = quantize_per_channel(self.W_r, axis=0)\n",
    "            U_r, scale_u_r, zero_point_u_r = quantize_per_channel(self.U_r, axis=0)\n",
    "            b_r = quantize_tensor(self.b_r, scale_w_r[0], zero_point_w_r[0])\n",
    "            x_q = fake_quantize(x, scale_w_r[0], zero_point_w_r[0])\n",
    "            r_t = torch.sigmoid(self.dropout(torch.mm(x_q, W_r.t()) + torch.mm(h, U_r.t()) + b_r))\n",
    "\n",
    "            W_h, scale_w_h, zero_point_w_h = quantize_per_channel(self.W_h, axis=0)\n",
    "            U_h, scale_u_h, zero_point_u_h = quantize_per_channel(self.U_h, axis=0)\n",
    "            b_h = quantize_tensor(self.b_h, scale_w_h[0], zero_point_w_h[0])\n",
    "            x_q = fake_quantize(x, scale_w_h[0], zero_point_w_h[0])\n",
    "            h_tilde = torch.tanh(self.dropout(torch.mm(x_q, W_h.t()) + torch.mm(r_t * h, U_h.t()) + b_h))\n",
    "        else:\n",
    "            z_t = torch.sigmoid(self.dropout(torch.mm(x, self.W_z.t()) + torch.mm(h, self.U_z.t()) + self.b_z))\n",
    "            r_t = torch.sigmoid(self.dropout(torch.mm(x, self.W_r.t()) + torch.mm(h, self.U_r.t()) + self.b_r))\n",
    "            h_tilde = torch.tanh(self.dropout(torch.mm(x, self.W_h.t()) + torch.mm(r_t * h, self.U_h.t()) + self.b_h))\n",
    "\n",
    "        h_t = (1 - z_t) * h + z_t * h_tilde\n",
    "\n",
    "        assert not torch.isnan(h_t).any()\n",
    "\n",
    "        return h_t\n",
    "\n",
    "class CustomGRU(nn.Module):\n",
    "    def __init__(self, input_dim, hidden_dim, num_layers, dropout_rate=0.0, quantize=False):\n",
    "        super(CustomGRU, self).__init__()\n",
    "        self.hidden_dim = hidden_dim\n",
    "        self.num_layers = num_layers\n",
    "        self.quantize = quantize\n",
    "\n",
    "        self.layers = nn.ModuleList([\n",
    "            CustomGRUCell(input_dim if i == 0 else hidden_dim, hidden_dim, dropout_rate, quantize)\n",
    "            for i in range(num_layers)\n",
    "        ])\n",
    "\n",
    "    def forward(self, x):\n",
    "        batch_size, seq_len, _ = x.size()\n",
    "        hidden_states = [self.init_hidden(batch_size) for _ in range(self.num_layers)]\n",
    "    \n",
    "        outputs = []\n",
    "    \n",
    "        for t in range(seq_len):\n",
    "            x_t = x[:, t, :]\n",
    "            # Pass through each layer\n",
    "            for i, layer in enumerate(self.layers):\n",
    "                h = hidden_states[i]\n",
    "                # For the first layer, use x_t; for subsequent layers, use h from the last\n",
    "                h = layer(x_t, h)\n",
    "                hidden_states[i] = h\n",
    "                x_t = h  # Pass the hidden state to the next layer\n",
    "            # Append output from the last layer\n",
    "            outputs.append(x_t)\n",
    "    \n",
    "        # Stack outputs to get the final shape (batch_size, num_steps, hidden_dim)\n",
    "        outputs = torch.stack(outputs, dim=1)\n",
    "        return outputs\n",
    "\n",
    "    def init_hidden(self, batch_size):\n",
    "        h = torch.zeros(batch_size, self.hidden_dim)\n",
    "        return h"
   ]
  },
  {
   "cell_type": "code",
   "execution_count": 180,
   "metadata": {},
   "outputs": [],
   "source": [
    "class CustomLinear(nn.Module):\n",
    "    def __init__(self, in_features, out_features, quantize=False):\n",
    "        super(CustomLinear, self).__init__()\n",
    "        self.weight = nn.Parameter(torch.randn(out_features, in_features))\n",
    "        self.bias = nn.Parameter(torch.zeros(out_features))\n",
    "        self.quantize = quantize\n",
    "        \n",
    "        # Initialize weights and bias using Xavier/Glorot initialization\n",
    "        nn.init.xavier_uniform_(self.weight)\n",
    "        nn.init.constant_(self.bias, 0.0)\n",
    "        \n",
    "        if self.quantize:\n",
    "            self.scale_w, self.zero_point_w = None, None  # Initialize as None initially\n",
    "\n",
    "    def forward(self, x):\n",
    "        if self.quantize:\n",
    "            # Update scale and zero points for per-channel quantization\n",
    "            if self.scale_w is None or self.zero_point_w is None:\n",
    "                self.scale_w, self.zero_point_w = update_scale_and_zero_point_per_channel(self.weight, axis=0)\n",
    "            # Apply per-channel quantization to weights\n",
    "            weight = fake_quantize_per_channel(self.weight, self.scale_w, self.zero_point_w, axis=0)\n",
    "            x = torch.matmul(x, weight.t()) + self.bias\n",
    "        else:\n",
    "            x = torch.matmul(x, self.weight.t()) + self.bias\n",
    "        return x"
   ]
  },
  {
   "cell_type": "code",
   "execution_count": 181,
   "metadata": {},
   "outputs": [],
   "source": [
    "class CustomRNNModel(nn.Module):\n",
    "    def __init__(self, num_steps=20, input_size=10, hidden_units=128, num_layers=3, dropout_rate=0.1, quantize=False, rnn_type='lstm'):\n",
    "        super(CustomRNNModel, self).__init__()\n",
    "        self.quantize = quantize\n",
    "        self.rnn_type = rnn_type\n",
    "        \n",
    "        # Select RNN type\n",
    "        if rnn_type == 'lstm':\n",
    "            self.rnn = CustomLSTM(input_size * num_features, hidden_units, num_layers, dropout_rate=dropout_rate, quantize=quantize)\n",
    "        elif rnn_type == 'gru':\n",
    "            self.rnn = CustomGRU(input_size * num_features, hidden_units, num_layers, dropout_rate=dropout_rate, quantize=quantize)\n",
    "        \n",
    "        self.fc = CustomLinear(hidden_units, input_size, quantize=quantize)  # CustomLinear layer with quantization\n",
    "        \n",
    "        self.init_weights()\n",
    "    \n",
    "        # Assign names to RNN layers for easy quantization handling\n",
    "        for layer_idx, layer in enumerate(self.rnn.layers):\n",
    "            for name, param in layer.named_parameters():\n",
    "                name = name.replace('.', '_')\n",
    "                self.register_buffer(f'rnn{layer_idx}_{name}', param)\n",
    "\n",
    "        # Assign names to linear layers\n",
    "        for name, param in self.fc.named_parameters():\n",
    "            name = name.replace('.', '_')\n",
    "            self.register_buffer(f'fc_{name}', param)\n",
    "        \n",
    "    def init_weights(self):\n",
    "        for name, param in self.named_parameters():\n",
    "            if 'fc' in name:\n",
    "                if len(param.shape) >= 2:\n",
    "                    nn.init.xavier_uniform_(param)\n",
    "            elif 'b' in name:\n",
    "                nn.init.constant_(param, 0.0)\n",
    "    \n",
    "    def forward(self, x):\n",
    "        # Reshape input to batch_size, num_steps, input_size\n",
    "        batch_size, num_steps, input_size, num_features = x.shape\n",
    "        x = torch.reshape(x, (batch_size, num_steps, input_size * num_features))\n",
    "        \n",
    "        # Pass input through RNN\n",
    "        rnn_output = self.rnn(x)\n",
    "        \n",
    "        # Apply the fully connected layer on the output of the last time step\n",
    "        output = self.fc(rnn_output)\n",
    "\n",
    "        output = torch.reshape(output, (batch_size, num_steps, input_size))\n",
    "        \n",
    "        return output"
   ]
  },
  {
   "cell_type": "code",
   "execution_count": 182,
   "metadata": {
    "id": "7x14GluDn5Yt"
   },
   "outputs": [],
   "source": [
    "def train_model(model, train_loader, val_loader, config, device, print_freq=10, quantize=False):\n",
    "    criterion = nn.MSELoss()\n",
    "    optimizer = optim.AdamW(model.parameters(), lr=config['init_learning_rate'], weight_decay=1e-5)  # Using AdamW\n",
    "    scheduler = optim.lr_scheduler.StepLR(optimizer, step_size=1, gamma=config['learning_rate_decay'])  \n",
    "    # optimizer = optim.Adam(model.parameters(), lr=config['init_learning_rate'])\n",
    "    # scheduler = optim.lr_scheduler.StepLR(optimizer, step_size=1, gamma=config['learning_rate_decay'])\n",
    "\n",
    "    early_stop_patience = config['early_stop_patience']\n",
    "    best_val_loss = float('inf')\n",
    "    patience = 0\n",
    "    scaler = torch.cuda.amp.GradScaler()  # For mixed precision\n",
    "\n",
    "    for epoch in tqdm(range(config['max_epochs']), position=0, leave=True):\n",
    "        model.train()\n",
    "        train_loss = 0.0\n",
    "        \n",
    "        for i, (x_batch, y_batch) in tqdm(enumerate(train_loader), position=0, leave=True):\n",
    "            x_batch, y_batch = x_batch.to(device), y_batch.to(device)\n",
    "            optimizer.zero_grad()\n",
    "\n",
    "            # Mixed precision training\n",
    "            with torch.cuda.amp.autocast():\n",
    "                y_pred = model(x_batch)\n",
    "                loss = criterion(y_pred, y_batch)\n",
    "\n",
    "            scaler.scale(loss).backward(retain_graph=True)  # Use scaled loss for backward pass\n",
    "            torch.nn.utils.clip_grad_norm_(model.parameters(), max_norm=1.0)  # Gradient clipping\n",
    "            scaler.step(optimizer)\n",
    "            scaler.update()\n",
    "\n",
    "            train_loss += loss.item()\n",
    "\n",
    "            if i % print_freq == 0:\n",
    "                print(f'Epoch [{epoch + 1}/{config[\"max_epochs\"]}], Step [{i + 1}/{len(train_loader)}], Loss: {loss.item()}')\n",
    "                print('Training classification:', classification_accuracy(y_pred, y_batch).item())\n",
    "\n",
    "        model.eval()\n",
    "        val_loss = 0.0\n",
    "        with torch.no_grad():\n",
    "            for i, (x_batch, y_batch) in tqdm(enumerate(val_loader), position=0, leave=True):\n",
    "                x_batch, y_batch = x_batch.to(device), y_batch.to(device)\n",
    "                with torch.cuda.amp.autocast():\n",
    "                    y_pred = model(x_batch)\n",
    "                    loss = criterion(y_pred, y_batch)\n",
    "                val_loss += loss.item()\n",
    "\n",
    "                if i % print_freq == 0:\n",
    "                    print(f'Epoch [{epoch + 1}/{config[\"max_epochs\"]}], Step [{i + 1}/{len(val_loader)}], Loss: {loss.item()}')\n",
    "                    print('Validation classification:', classification_accuracy(y_pred, y_batch).item())\n",
    "\n",
    "        print(f\"Epoch {epoch + 1}/{config['max_epochs']}, Train Loss: {train_loss / len(train_loader)}, Val Loss: {val_loss / len(val_loader)}\")\n",
    "\n",
    "        if config['use_early_stop']:\n",
    "            if val_loss < best_val_loss:\n",
    "                best_val_loss = val_loss\n",
    "                patience = 0\n",
    "            else:\n",
    "                patience += 1\n",
    "                if patience >= early_stop_patience:\n",
    "                    print(\"Early stopping triggered.\")\n",
    "                    return model  # Make sure to exit cleanly\n",
    "\n",
    "        scheduler.step()\n",
    "    \n",
    "    return model"
   ]
  },
  {
   "cell_type": "code",
   "execution_count": 183,
   "metadata": {
    "id": "noAjxW3sppPC"
   },
   "outputs": [],
   "source": [
    "def load_model(model, rnn_type, device, quantize=False):\n",
    "    model_path = f'models/SC2010_{rnn_type}_model_quantized.pth' if quantize else f'models/SC2010_{rnn_type}_model.pth' \n",
    "    model.load_state_dict(torch.load(model_path, map_location=device))\n",
    "    model.to(device)\n",
    "    return model"
   ]
  },
  {
   "cell_type": "code",
   "execution_count": 184,
   "metadata": {
    "id": "vFfMKnlIPjmo"
   },
   "outputs": [],
   "source": [
    "def train_or_load_model(configs, train_loader, val_loader, rnn_type, device, quantize=False):\n",
    "    # Define model & load into device\n",
    "    # model = CustomRNNModel(rnn_type=rnn_type, num_steps=configs['num_steps'], input_size=configs['input_size'], hidden_units=configs[rnn_type][f'{rnn_type}_units'], num_layers=configs[rnn_type][f'{rnn_type}_layers'], dropout_rate=configs[rnn_type]['dropout_rate'], dense_units=configs[rnn_type]['dense_units'], quantize=quantize)\n",
    "    model = CustomRNNModel(rnn_type=rnn_type, num_steps=configs['num_steps'], input_size=configs['input_size'], hidden_units=configs[rnn_type][f'{rnn_type}_units'], num_layers=configs[rnn_type][f'{rnn_type}_layers'], dropout_rate=configs[rnn_type]['dropout_rate'], quantize=quantize)\n",
    "    model.to(device)\n",
    "    \n",
    "    if configs[rnn_type]['pretrain']:\n",
    "        # Train the model\n",
    "        model = train_model(model, train_loader, val_loader, configs[rnn_type], device, quantize=quantize)\n",
    "\n",
    "        # Save model\n",
    "        model_path = f'models/SC2010_{rnn_type}_model_quantized.pth' if quantize else f'models/SC2010_{rnn_type}_model.pth' \n",
    "        torch.save(model.state_dict(), model_path)\n",
    "    else:\n",
    "        # Load the model from a pre-saved file\n",
    "        model = load_model(model, rnn_type, device, quantize)\n",
    "\n",
    "    return model"
   ]
  },
  {
   "cell_type": "code",
   "execution_count": 185,
   "metadata": {
    "id": "-1-42q_WQxoq"
   },
   "outputs": [],
   "source": [
    "def mean_percent_diff(quant_outputs, noquant_outputs):\n",
    "    total_abs_diff = 0.0\n",
    "    total_elements = 0\n",
    "    \n",
    "    # Iterate through each batch in the list\n",
    "    for i in range(len(test_preds_lstm_noquant)):\n",
    "        noquant = noquant_outputs[i]\n",
    "        quant = quant_outputs[i]\n",
    "        \n",
    "        # Ensure shapes match\n",
    "        if noquant.shape != quant.shape:\n",
    "            raise ValueError(f\"Shape mismatch: {noquant.shape} vs {quant.shape}\")\n",
    "        \n",
    "        # Calculate absolute differences\n",
    "        abs_diff = np.abs(noquant - quant)\n",
    "        \n",
    "        # Calculate percent differences\n",
    "        percent_diff = (abs_diff / (np.abs(noquant) + 1e-8)) * 100\n",
    "        \n",
    "        # Aggregate differences\n",
    "        total_abs_diff += np.sum(percent_diff)\n",
    "        total_elements += np.size(percent_diff)\n",
    "    \n",
    "    # Calculate mean percent difference\n",
    "    percent_diff = total_abs_diff / total_elements   \n",
    "    return percent_diff\n",
    "\n",
    "\n",
    "# Evaluate the model\n",
    "def evaluate_model(model, test_loader, device):\n",
    "    # Set the model to evaluation mode\n",
    "    model.eval()\n",
    "\n",
    "    test_loss = 0.0\n",
    "    test_accuracy = 0.0\n",
    "    \n",
    "    preds = []\n",
    "\n",
    "    # Disable gradient computation during evaluation\n",
    "    with torch.no_grad():\n",
    "        # Iterate over test set data\n",
    "        for i, (x_batch, y_batch) in tqdm(enumerate(test_loader), position=0, leave=True):\n",
    "            x_batch, y_batch = x_batch.to(device), y_batch.to(device)\n",
    "            y_pred = model(x_batch)\n",
    "            loss = nn.MSELoss()(y_pred, y_batch)\n",
    "            preds.append(y_pred.numpy())\n",
    "            test_loss += loss.item()\n",
    "            test_accuracy += classification_accuracy(y_pred, y_batch).item()\n",
    "    \n",
    "    test_loss = test_loss / len(test_loader)\n",
    "    test_accuracy = test_accuracy / len(test_loader)\n",
    "\n",
    "    print(\"Test Loss:\", test_loss)\n",
    "    print('Test classification:', test_accuracy)\n",
    "    \n",
    "    return preds, test_loss, test_accuracy"
   ]
  },
  {
   "cell_type": "code",
   "execution_count": 186,
   "metadata": {
    "id": "wtfCK8cen5dZ"
   },
   "outputs": [],
   "source": [
    "# Set up device\n",
    "device = torch.device('cuda' if torch.cuda.is_available() else 'cpu')"
   ]
  },
  {
   "cell_type": "code",
   "execution_count": 187,
   "metadata": {},
   "outputs": [],
   "source": [
    "# Reset configs\n",
    "configs = load_configs('configs')"
   ]
  },
  {
   "cell_type": "markdown",
   "metadata": {
    "id": "SXCWMY1ERPb4"
   },
   "source": [
    "## Training + Evaluation Results:"
   ]
  },
  {
   "cell_type": "markdown",
   "metadata": {},
   "source": [
    "### LSTM:"
   ]
  },
  {
   "cell_type": "markdown",
   "metadata": {},
   "source": [
    "#### Without Quantization:"
   ]
  },
  {
   "cell_type": "code",
   "execution_count": 26,
   "metadata": {
    "colab": {
     "base_uri": "https://localhost:8080/",
     "height": 1000,
     "referenced_widgets": [
      "95eca35a46a14aa4abf7c91b1ccee065",
      "01289697a46a4749808002f2a6eaaf73",
      "9ff6b3cf75b746f5a11dc7a7eadc2009",
      "e86b3864d880446081ae53689493f24e",
      "c275aca6f2c84125923cbd7246786078",
      "b1f95063a92b48e0b5ca86e7a6716236",
      "abf1a93ee34843578018f72eeb64a9ea",
      "18429f5771a24ae1a72150c16e7f97d3",
      "a583468ab883499e9d8cc9dadac9c597",
      "497e7dd3069a4b5dbc883e4695332963",
      "5ab32519140341eebad1e15228deb3e2",
      "6b7700e80d854914ad4f75c34e338d3e",
      "77b06e361d74438fad7a17c8f34c0aa1",
      "c2ba33ed9a314536bffb427470ee1957",
      "b15dd251352142d39fb0c1a46cf9b388",
      "2ee881decbf04d1cbc933c20ab8bc714",
      "e879cb6793ff45e4886866587f71db62",
      "08f0ea7c403040968f079e0e694286b7",
      "04aac2c8d09544f88e1b50f7ac048ca7",
      "22f0476c8b2f48a8868bd2216ed4d7cf",
      "abc2dd3740504f31bcc05d4ca007e658",
      "d0ab580d14614370b83ce50e456b1e75"
     ]
    },
    "id": "O3dmAEtuQ9l5",
    "outputId": "b4634db3-939c-4a67-c6f8-8975af1ed448",
    "scrolled": true
   },
   "outputs": [
    {
     "name": "stderr",
     "output_type": "stream",
     "text": [
      "/Users/michaelzhou/miniforge3/envs/tf_m1/lib/python3.8/site-packages/torch/amp/grad_scaler.py:131: UserWarning: torch.cuda.amp.GradScaler is enabled, but CUDA is not available.  Disabling.\n",
      "  warnings.warn(\n"
     ]
    },
    {
     "data": {
      "application/vnd.jupyter.widget-view+json": {
       "model_id": "f59b031941d74c539705cb1f9bd3be59",
       "version_major": 2,
       "version_minor": 0
      },
      "text/plain": [
       "  0%|          | 0/1000 [00:00<?, ?it/s]"
      ]
     },
     "metadata": {},
     "output_type": "display_data"
    },
    {
     "ename": "KeyboardInterrupt",
     "evalue": "",
     "output_type": "error",
     "traceback": [
      "\u001b[0;31m---------------------------------------------------------------------------\u001b[0m",
      "\u001b[0;31mKeyboardInterrupt\u001b[0m                         Traceback (most recent call last)",
      "Cell \u001b[0;32mIn[26], line 5\u001b[0m\n\u001b[1;32m      3\u001b[0m \u001b[38;5;66;03m# Training\u001b[39;00m\n\u001b[1;32m      4\u001b[0m configs[rnn_type][\u001b[38;5;124m'\u001b[39m\u001b[38;5;124mpretrain\u001b[39m\u001b[38;5;124m'\u001b[39m] \u001b[38;5;241m=\u001b[39m \u001b[38;5;28;01mTrue\u001b[39;00m\n\u001b[0;32m----> 5\u001b[0m model_lstm_noquant \u001b[38;5;241m=\u001b[39m \u001b[43mtrain_or_load_model\u001b[49m\u001b[43m(\u001b[49m\u001b[43mconfigs\u001b[49m\u001b[43m,\u001b[49m\u001b[43m \u001b[49m\u001b[43mtrain_loader\u001b[49m\u001b[43m,\u001b[49m\u001b[43m \u001b[49m\u001b[43mval_loader\u001b[49m\u001b[43m,\u001b[49m\u001b[43m \u001b[49m\u001b[43mrnn_type\u001b[49m\u001b[43m,\u001b[49m\u001b[43m \u001b[49m\u001b[43mdevice\u001b[49m\u001b[43m,\u001b[49m\u001b[43m \u001b[49m\u001b[43mquantize\u001b[49m\u001b[38;5;241;43m=\u001b[39;49m\u001b[38;5;28;43;01mFalse\u001b[39;49;00m\u001b[43m)\u001b[49m\n\u001b[1;32m      7\u001b[0m \u001b[38;5;66;03m# Evaluation\u001b[39;00m\n\u001b[1;32m      8\u001b[0m test_preds_lstm_noquant, test_loss_lstm_noquant, test_accuracy_lstm_noquant \u001b[38;5;241m=\u001b[39m evaluate_model(model_lstm_noquant, test_loader, device)\n",
      "Cell \u001b[0;32mIn[22], line 9\u001b[0m, in \u001b[0;36mtrain_or_load_model\u001b[0;34m(configs, train_loader, val_loader, rnn_type, device, quantize)\u001b[0m\n\u001b[1;32m      5\u001b[0m model\u001b[38;5;241m.\u001b[39mto(device)\n\u001b[1;32m      7\u001b[0m \u001b[38;5;28;01mif\u001b[39;00m configs[rnn_type][\u001b[38;5;124m'\u001b[39m\u001b[38;5;124mpretrain\u001b[39m\u001b[38;5;124m'\u001b[39m]:\n\u001b[1;32m      8\u001b[0m     \u001b[38;5;66;03m# Train the model\u001b[39;00m\n\u001b[0;32m----> 9\u001b[0m     model \u001b[38;5;241m=\u001b[39m \u001b[43mtrain_model\u001b[49m\u001b[43m(\u001b[49m\u001b[43mmodel\u001b[49m\u001b[43m,\u001b[49m\u001b[43m \u001b[49m\u001b[43mtrain_loader\u001b[49m\u001b[43m,\u001b[49m\u001b[43m \u001b[49m\u001b[43mval_loader\u001b[49m\u001b[43m,\u001b[49m\u001b[43m \u001b[49m\u001b[43mconfigs\u001b[49m\u001b[43m[\u001b[49m\u001b[43mrnn_type\u001b[49m\u001b[43m]\u001b[49m\u001b[43m,\u001b[49m\u001b[43m \u001b[49m\u001b[43mdevice\u001b[49m\u001b[43m,\u001b[49m\u001b[43m \u001b[49m\u001b[43mquantize\u001b[49m\u001b[38;5;241;43m=\u001b[39;49m\u001b[43mquantize\u001b[49m\u001b[43m)\u001b[49m\n\u001b[1;32m     11\u001b[0m     \u001b[38;5;66;03m# Save model\u001b[39;00m\n\u001b[1;32m     12\u001b[0m     model_path \u001b[38;5;241m=\u001b[39m \u001b[38;5;124mf\u001b[39m\u001b[38;5;124m'\u001b[39m\u001b[38;5;124mmodels/SC2010_\u001b[39m\u001b[38;5;132;01m{\u001b[39;00mrnn_type\u001b[38;5;132;01m}\u001b[39;00m\u001b[38;5;124m_model_quantized.pth\u001b[39m\u001b[38;5;124m'\u001b[39m \u001b[38;5;28;01mif\u001b[39;00m quantize \u001b[38;5;28;01melse\u001b[39;00m \u001b[38;5;124mf\u001b[39m\u001b[38;5;124m'\u001b[39m\u001b[38;5;124mmodels/SC2010_\u001b[39m\u001b[38;5;132;01m{\u001b[39;00mrnn_type\u001b[38;5;132;01m}\u001b[39;00m\u001b[38;5;124m_model.pth\u001b[39m\u001b[38;5;124m'\u001b[39m \n",
      "Cell \u001b[0;32mIn[20], line 17\u001b[0m, in \u001b[0;36mtrain_model\u001b[0;34m(model, train_loader, val_loader, config, device, print_freq, quantize)\u001b[0m\n\u001b[1;32m     14\u001b[0m model\u001b[38;5;241m.\u001b[39mtrain()\n\u001b[1;32m     15\u001b[0m train_loss \u001b[38;5;241m=\u001b[39m \u001b[38;5;241m0.0\u001b[39m\n\u001b[0;32m---> 17\u001b[0m \u001b[38;5;28;01mfor\u001b[39;00m i, (x_batch, y_batch) \u001b[38;5;129;01min\u001b[39;00m tqdm(\u001b[38;5;28;43menumerate\u001b[39;49m\u001b[43m(\u001b[49m\u001b[43mtrain_loader\u001b[49m\u001b[43m)\u001b[49m, position\u001b[38;5;241m=\u001b[39m\u001b[38;5;241m0\u001b[39m, leave\u001b[38;5;241m=\u001b[39m\u001b[38;5;28;01mTrue\u001b[39;00m):\n\u001b[1;32m     18\u001b[0m     x_batch, y_batch \u001b[38;5;241m=\u001b[39m x_batch\u001b[38;5;241m.\u001b[39mto(device), y_batch\u001b[38;5;241m.\u001b[39mto(device)\n\u001b[1;32m     19\u001b[0m     optimizer\u001b[38;5;241m.\u001b[39mzero_grad()\n",
      "File \u001b[0;32m~/miniforge3/envs/tf_m1/lib/python3.8/site-packages/torch/utils/data/dataloader.py:439\u001b[0m, in \u001b[0;36mDataLoader.__iter__\u001b[0;34m(self)\u001b[0m\n\u001b[1;32m    437\u001b[0m     \u001b[38;5;28;01mreturn\u001b[39;00m \u001b[38;5;28mself\u001b[39m\u001b[38;5;241m.\u001b[39m_iterator\n\u001b[1;32m    438\u001b[0m \u001b[38;5;28;01melse\u001b[39;00m:\n\u001b[0;32m--> 439\u001b[0m     \u001b[38;5;28;01mreturn\u001b[39;00m \u001b[38;5;28;43mself\u001b[39;49m\u001b[38;5;241;43m.\u001b[39;49m\u001b[43m_get_iterator\u001b[49m\u001b[43m(\u001b[49m\u001b[43m)\u001b[49m\n",
      "File \u001b[0;32m~/miniforge3/envs/tf_m1/lib/python3.8/site-packages/torch/utils/data/dataloader.py:387\u001b[0m, in \u001b[0;36mDataLoader._get_iterator\u001b[0;34m(self)\u001b[0m\n\u001b[1;32m    385\u001b[0m \u001b[38;5;28;01melse\u001b[39;00m:\n\u001b[1;32m    386\u001b[0m     \u001b[38;5;28mself\u001b[39m\u001b[38;5;241m.\u001b[39mcheck_worker_number_rationality()\n\u001b[0;32m--> 387\u001b[0m     \u001b[38;5;28;01mreturn\u001b[39;00m \u001b[43m_MultiProcessingDataLoaderIter\u001b[49m\u001b[43m(\u001b[49m\u001b[38;5;28;43mself\u001b[39;49m\u001b[43m)\u001b[49m\n",
      "File \u001b[0;32m~/miniforge3/envs/tf_m1/lib/python3.8/site-packages/torch/utils/data/dataloader.py:1040\u001b[0m, in \u001b[0;36m_MultiProcessingDataLoaderIter.__init__\u001b[0;34m(self, loader)\u001b[0m\n\u001b[1;32m   1033\u001b[0m w\u001b[38;5;241m.\u001b[39mdaemon \u001b[38;5;241m=\u001b[39m \u001b[38;5;28;01mTrue\u001b[39;00m\n\u001b[1;32m   1034\u001b[0m \u001b[38;5;66;03m# NB: Process.start() actually take some time as it needs to\u001b[39;00m\n\u001b[1;32m   1035\u001b[0m \u001b[38;5;66;03m#     start a process and pass the arguments over via a pipe.\u001b[39;00m\n\u001b[1;32m   1036\u001b[0m \u001b[38;5;66;03m#     Therefore, we only add a worker to self._workers list after\u001b[39;00m\n\u001b[1;32m   1037\u001b[0m \u001b[38;5;66;03m#     it started, so that we do not call .join() if program dies\u001b[39;00m\n\u001b[1;32m   1038\u001b[0m \u001b[38;5;66;03m#     before it starts, and __del__ tries to join but will get:\u001b[39;00m\n\u001b[1;32m   1039\u001b[0m \u001b[38;5;66;03m#     AssertionError: can only join a started process.\u001b[39;00m\n\u001b[0;32m-> 1040\u001b[0m \u001b[43mw\u001b[49m\u001b[38;5;241;43m.\u001b[39;49m\u001b[43mstart\u001b[49m\u001b[43m(\u001b[49m\u001b[43m)\u001b[49m\n\u001b[1;32m   1041\u001b[0m \u001b[38;5;28mself\u001b[39m\u001b[38;5;241m.\u001b[39m_index_queues\u001b[38;5;241m.\u001b[39mappend(index_queue)\n\u001b[1;32m   1042\u001b[0m \u001b[38;5;28mself\u001b[39m\u001b[38;5;241m.\u001b[39m_workers\u001b[38;5;241m.\u001b[39mappend(w)\n",
      "File \u001b[0;32m~/miniforge3/envs/tf_m1/lib/python3.8/multiprocessing/process.py:121\u001b[0m, in \u001b[0;36mBaseProcess.start\u001b[0;34m(self)\u001b[0m\n\u001b[1;32m    118\u001b[0m \u001b[38;5;28;01massert\u001b[39;00m \u001b[38;5;129;01mnot\u001b[39;00m _current_process\u001b[38;5;241m.\u001b[39m_config\u001b[38;5;241m.\u001b[39mget(\u001b[38;5;124m'\u001b[39m\u001b[38;5;124mdaemon\u001b[39m\u001b[38;5;124m'\u001b[39m), \\\n\u001b[1;32m    119\u001b[0m        \u001b[38;5;124m'\u001b[39m\u001b[38;5;124mdaemonic processes are not allowed to have children\u001b[39m\u001b[38;5;124m'\u001b[39m\n\u001b[1;32m    120\u001b[0m _cleanup()\n\u001b[0;32m--> 121\u001b[0m \u001b[38;5;28mself\u001b[39m\u001b[38;5;241m.\u001b[39m_popen \u001b[38;5;241m=\u001b[39m \u001b[38;5;28;43mself\u001b[39;49m\u001b[38;5;241;43m.\u001b[39;49m\u001b[43m_Popen\u001b[49m\u001b[43m(\u001b[49m\u001b[38;5;28;43mself\u001b[39;49m\u001b[43m)\u001b[49m\n\u001b[1;32m    122\u001b[0m \u001b[38;5;28mself\u001b[39m\u001b[38;5;241m.\u001b[39m_sentinel \u001b[38;5;241m=\u001b[39m \u001b[38;5;28mself\u001b[39m\u001b[38;5;241m.\u001b[39m_popen\u001b[38;5;241m.\u001b[39msentinel\n\u001b[1;32m    123\u001b[0m \u001b[38;5;66;03m# Avoid a refcycle if the target function holds an indirect\u001b[39;00m\n\u001b[1;32m    124\u001b[0m \u001b[38;5;66;03m# reference to the process object (see bpo-30775)\u001b[39;00m\n",
      "File \u001b[0;32m~/miniforge3/envs/tf_m1/lib/python3.8/multiprocessing/context.py:224\u001b[0m, in \u001b[0;36mProcess._Popen\u001b[0;34m(process_obj)\u001b[0m\n\u001b[1;32m    222\u001b[0m \u001b[38;5;129m@staticmethod\u001b[39m\n\u001b[1;32m    223\u001b[0m \u001b[38;5;28;01mdef\u001b[39;00m \u001b[38;5;21m_Popen\u001b[39m(process_obj):\n\u001b[0;32m--> 224\u001b[0m     \u001b[38;5;28;01mreturn\u001b[39;00m \u001b[43m_default_context\u001b[49m\u001b[38;5;241;43m.\u001b[39;49m\u001b[43mget_context\u001b[49m\u001b[43m(\u001b[49m\u001b[43m)\u001b[49m\u001b[38;5;241;43m.\u001b[39;49m\u001b[43mProcess\u001b[49m\u001b[38;5;241;43m.\u001b[39;49m\u001b[43m_Popen\u001b[49m\u001b[43m(\u001b[49m\u001b[43mprocess_obj\u001b[49m\u001b[43m)\u001b[49m\n",
      "File \u001b[0;32m~/miniforge3/envs/tf_m1/lib/python3.8/multiprocessing/context.py:284\u001b[0m, in \u001b[0;36mSpawnProcess._Popen\u001b[0;34m(process_obj)\u001b[0m\n\u001b[1;32m    281\u001b[0m \u001b[38;5;129m@staticmethod\u001b[39m\n\u001b[1;32m    282\u001b[0m \u001b[38;5;28;01mdef\u001b[39;00m \u001b[38;5;21m_Popen\u001b[39m(process_obj):\n\u001b[1;32m    283\u001b[0m     \u001b[38;5;28;01mfrom\u001b[39;00m \u001b[38;5;21;01m.\u001b[39;00m\u001b[38;5;21;01mpopen_spawn_posix\u001b[39;00m \u001b[38;5;28;01mimport\u001b[39;00m Popen\n\u001b[0;32m--> 284\u001b[0m     \u001b[38;5;28;01mreturn\u001b[39;00m \u001b[43mPopen\u001b[49m\u001b[43m(\u001b[49m\u001b[43mprocess_obj\u001b[49m\u001b[43m)\u001b[49m\n",
      "File \u001b[0;32m~/miniforge3/envs/tf_m1/lib/python3.8/multiprocessing/popen_spawn_posix.py:32\u001b[0m, in \u001b[0;36mPopen.__init__\u001b[0;34m(self, process_obj)\u001b[0m\n\u001b[1;32m     30\u001b[0m \u001b[38;5;28;01mdef\u001b[39;00m \u001b[38;5;21m__init__\u001b[39m(\u001b[38;5;28mself\u001b[39m, process_obj):\n\u001b[1;32m     31\u001b[0m     \u001b[38;5;28mself\u001b[39m\u001b[38;5;241m.\u001b[39m_fds \u001b[38;5;241m=\u001b[39m []\n\u001b[0;32m---> 32\u001b[0m     \u001b[38;5;28;43msuper\u001b[39;49m\u001b[43m(\u001b[49m\u001b[43m)\u001b[49m\u001b[38;5;241;43m.\u001b[39;49m\u001b[38;5;21;43m__init__\u001b[39;49m\u001b[43m(\u001b[49m\u001b[43mprocess_obj\u001b[49m\u001b[43m)\u001b[49m\n",
      "File \u001b[0;32m~/miniforge3/envs/tf_m1/lib/python3.8/multiprocessing/popen_fork.py:19\u001b[0m, in \u001b[0;36mPopen.__init__\u001b[0;34m(self, process_obj)\u001b[0m\n\u001b[1;32m     17\u001b[0m \u001b[38;5;28mself\u001b[39m\u001b[38;5;241m.\u001b[39mreturncode \u001b[38;5;241m=\u001b[39m \u001b[38;5;28;01mNone\u001b[39;00m\n\u001b[1;32m     18\u001b[0m \u001b[38;5;28mself\u001b[39m\u001b[38;5;241m.\u001b[39mfinalizer \u001b[38;5;241m=\u001b[39m \u001b[38;5;28;01mNone\u001b[39;00m\n\u001b[0;32m---> 19\u001b[0m \u001b[38;5;28;43mself\u001b[39;49m\u001b[38;5;241;43m.\u001b[39;49m\u001b[43m_launch\u001b[49m\u001b[43m(\u001b[49m\u001b[43mprocess_obj\u001b[49m\u001b[43m)\u001b[49m\n",
      "File \u001b[0;32m~/miniforge3/envs/tf_m1/lib/python3.8/multiprocessing/popen_spawn_posix.py:47\u001b[0m, in \u001b[0;36mPopen._launch\u001b[0;34m(self, process_obj)\u001b[0m\n\u001b[1;32m     45\u001b[0m \u001b[38;5;28;01mtry\u001b[39;00m:\n\u001b[1;32m     46\u001b[0m     reduction\u001b[38;5;241m.\u001b[39mdump(prep_data, fp)\n\u001b[0;32m---> 47\u001b[0m     \u001b[43mreduction\u001b[49m\u001b[38;5;241;43m.\u001b[39;49m\u001b[43mdump\u001b[49m\u001b[43m(\u001b[49m\u001b[43mprocess_obj\u001b[49m\u001b[43m,\u001b[49m\u001b[43m \u001b[49m\u001b[43mfp\u001b[49m\u001b[43m)\u001b[49m\n\u001b[1;32m     48\u001b[0m \u001b[38;5;28;01mfinally\u001b[39;00m:\n\u001b[1;32m     49\u001b[0m     set_spawning_popen(\u001b[38;5;28;01mNone\u001b[39;00m)\n",
      "File \u001b[0;32m~/miniforge3/envs/tf_m1/lib/python3.8/multiprocessing/reduction.py:60\u001b[0m, in \u001b[0;36mdump\u001b[0;34m(obj, file, protocol)\u001b[0m\n\u001b[1;32m     58\u001b[0m \u001b[38;5;28;01mdef\u001b[39;00m \u001b[38;5;21mdump\u001b[39m(obj, file, protocol\u001b[38;5;241m=\u001b[39m\u001b[38;5;28;01mNone\u001b[39;00m):\n\u001b[1;32m     59\u001b[0m \u001b[38;5;250m    \u001b[39m\u001b[38;5;124;03m'''Replacement for pickle.dump() using ForkingPickler.'''\u001b[39;00m\n\u001b[0;32m---> 60\u001b[0m     \u001b[43mForkingPickler\u001b[49m\u001b[43m(\u001b[49m\u001b[43mfile\u001b[49m\u001b[43m,\u001b[49m\u001b[43m \u001b[49m\u001b[43mprotocol\u001b[49m\u001b[43m)\u001b[49m\u001b[38;5;241;43m.\u001b[39;49m\u001b[43mdump\u001b[49m\u001b[43m(\u001b[49m\u001b[43mobj\u001b[49m\u001b[43m)\u001b[49m\n",
      "File \u001b[0;32m~/miniforge3/envs/tf_m1/lib/python3.8/site-packages/numpy/core/__init__.py:144\u001b[0m, in \u001b[0;36m_DType_reduce\u001b[0;34m(DType)\u001b[0m\n\u001b[1;32m    137\u001b[0m \u001b[38;5;28;01mdef\u001b[39;00m \u001b[38;5;21m_DType_reconstruct\u001b[39m(scalar_type):\n\u001b[1;32m    138\u001b[0m     \u001b[38;5;66;03m# This is a work-around to pickle type(np.dtype(np.float64)), etc.\u001b[39;00m\n\u001b[1;32m    139\u001b[0m     \u001b[38;5;66;03m# and it should eventually be replaced with a better solution, e.g. when\u001b[39;00m\n\u001b[1;32m    140\u001b[0m     \u001b[38;5;66;03m# DTypes become HeapTypes.\u001b[39;00m\n\u001b[1;32m    141\u001b[0m     \u001b[38;5;28;01mreturn\u001b[39;00m \u001b[38;5;28mtype\u001b[39m(dtype(scalar_type))\n\u001b[0;32m--> 144\u001b[0m \u001b[38;5;28;01mdef\u001b[39;00m \u001b[38;5;21m_DType_reduce\u001b[39m(DType):\n\u001b[1;32m    145\u001b[0m     \u001b[38;5;66;03m# To pickle a DType without having to add top-level names, pickle the\u001b[39;00m\n\u001b[1;32m    146\u001b[0m     \u001b[38;5;66;03m# scalar type for now (and assume that reconstruction will be possible).\u001b[39;00m\n\u001b[1;32m    147\u001b[0m     \u001b[38;5;28;01mif\u001b[39;00m DType \u001b[38;5;129;01mis\u001b[39;00m dtype:\n\u001b[1;32m    148\u001b[0m         \u001b[38;5;28;01mreturn\u001b[39;00m \u001b[38;5;124m\"\u001b[39m\u001b[38;5;124mdtype\u001b[39m\u001b[38;5;124m\"\u001b[39m  \u001b[38;5;66;03m# must pickle `np.dtype` as a singleton.\u001b[39;00m\n",
      "\u001b[0;31mKeyboardInterrupt\u001b[0m: "
     ]
    }
   ],
   "source": [
    "rnn_type = 'lstm'\n",
    "\n",
    "# Training\n",
    "configs[rnn_type]['pretrain'] = True\n",
    "model_lstm_noquant = train_or_load_model(configs, train_loader, val_loader, rnn_type, device, quantize=False)\n",
    "\n",
    "# Evaluation\n",
    "test_preds_lstm_noquant, test_loss_lstm_noquant, test_accuracy_lstm_noquant = evaluate_model(model_lstm_noquant, test_loader, device)"
   ]
  },
  {
   "cell_type": "markdown",
   "metadata": {},
   "source": [
    "#### With Quantization:"
   ]
  },
  {
   "cell_type": "code",
   "execution_count": null,
   "metadata": {},
   "outputs": [
    {
     "data": {
      "application/vnd.jupyter.widget-view+json": {
       "model_id": "2c58b6d615824a5c9cf4098371232f41",
       "version_major": 2,
       "version_minor": 0
      },
      "text/plain": [
       "  0%|          | 0/1000 [00:00<?, ?it/s]"
      ]
     },
     "metadata": {},
     "output_type": "display_data"
    },
    {
     "data": {
      "application/vnd.jupyter.widget-view+json": {
       "model_id": "73bf2c3e5c034c99951f184000609f2d",
       "version_major": 2,
       "version_minor": 0
      },
      "text/plain": [
       "0it [00:00, ?it/s]"
      ]
     },
     "metadata": {},
     "output_type": "display_data"
    },
    {
     "name": "stderr",
     "output_type": "stream",
     "text": [
      "/var/folders/9r/mtq2vc395jd2kf7n3d7l_b9r0000gn/T/ipykernel_11931/2733329305.py:4: UserWarning: To copy construct from a tensor, it is recommended to use sourceTensor.clone().detach() or sourceTensor.clone().detach().requires_grad_(True), rather than torch.tensor(sourceTensor).\n",
      "  scale = torch.tensor(scale, dtype=torch.float32, device=x.device)\n",
      "/var/folders/9r/mtq2vc395jd2kf7n3d7l_b9r0000gn/T/ipykernel_11931/2733329305.py:5: UserWarning: To copy construct from a tensor, it is recommended to use sourceTensor.clone().detach() or sourceTensor.clone().detach().requires_grad_(True), rather than torch.tensor(sourceTensor).\n",
      "  zero_point = torch.tensor(zero_point, dtype=torch.float32, device=x.device)\n"
     ]
    },
    {
     "name": "stdout",
     "output_type": "stream",
     "text": [
      "Epoch [1/1000], Step [1/57], Loss: 2.1472025764524005e-05\n",
      "Training classification: 0.9793649911880493\n"
     ]
    },
    {
     "name": "stderr",
     "output_type": "stream",
     "text": [
      "\n",
      "KeyboardInterrupt\n",
      "\n"
     ]
    }
   ],
   "source": [
    "rnn_type = 'lstm'\n",
    "\n",
    "# Training\n",
    "model_lstm_quant = train_or_load_model(configs, train_loader, val_loader, rnn_type, device, quantize=True)\n",
    "\n",
    "# Evaluation\n",
    "test_preds_lstm_quant, test_loss_lstm_quant, test_accuracy_lstm_quant = evaluate_model(model_lstm_quant, test_loader, device)\n",
    "\n",
    "# Export model parameters to JSON file\n",
    "export_model_parameters(model_lstm_quant, f'models/SC2010_quantized_{rnn_type}_parameters.json')"
   ]
  },
  {
   "cell_type": "markdown",
   "metadata": {},
   "source": [
    "#### Percent Difference:"
   ]
  },
  {
   "cell_type": "code",
   "execution_count": null,
   "metadata": {},
   "outputs": [],
   "source": [
    "# Check results\n",
    "percent_diff_lstm = mean_percent_diff(test_preds_lstm_quant, test_preds_lstm_noquant)\n",
    "\n",
    "print(f\"Mean Percent Difference between outputs (non-quantized vs quantized) LSTM: {percent_diff_lstm:.2f}%\")"
   ]
  },
  {
   "cell_type": "code",
   "execution_count": null,
   "metadata": {
    "scrolled": true
   },
   "outputs": [],
   "source": [
    "test_preds_lstm_quant"
   ]
  },
  {
   "cell_type": "code",
   "execution_count": null,
   "metadata": {
    "scrolled": true
   },
   "outputs": [],
   "source": [
    "test_preds_lstm_noquant"
   ]
  },
  {
   "cell_type": "markdown",
   "metadata": {
    "id": "bliBob-oRT-A"
   },
   "source": [
    "### GRU:"
   ]
  },
  {
   "cell_type": "markdown",
   "metadata": {},
   "source": [
    "#### Without Quantization:"
   ]
  },
  {
   "cell_type": "code",
   "execution_count": null,
   "metadata": {
    "id": "yItI-2tcPEZf",
    "scrolled": true
   },
   "outputs": [
    {
     "data": {
      "application/vnd.jupyter.widget-view+json": {
       "model_id": "a108440fcc8344d99ce6a123792f6f2c",
       "version_major": 2,
       "version_minor": 0
      },
      "text/plain": [
       "  0%|          | 0/100 [00:00<?, ?it/s]"
      ]
     },
     "metadata": {},
     "output_type": "display_data"
    },
    {
     "data": {
      "application/vnd.jupyter.widget-view+json": {
       "model_id": "52bf947e32e6437f9b2ed143f54a897b",
       "version_major": 2,
       "version_minor": 0
      },
      "text/plain": [
       "0it [00:00, ?it/s]"
      ]
     },
     "metadata": {},
     "output_type": "display_data"
    },
    {
     "name": "stdout",
     "output_type": "stream",
     "text": [
      "Epoch [1/100], Step [1/57], Loss: 0.0184\n",
      "Training classification: 0.06909000128507614\n",
      "Epoch [1/100], Step [11/57], Loss: 0.0027\n",
      "Training classification: 0.1628900021314621\n",
      "Epoch [1/100], Step [21/57], Loss: 0.0014\n",
      "Training classification: 0.22232000529766083\n",
      "Epoch [1/100], Step [31/57], Loss: 0.0009\n",
      "Training classification: 0.26984500885009766\n",
      "Epoch [1/100], Step [41/57], Loss: 0.0007\n",
      "Training classification: 0.3134549856185913\n",
      "Epoch [1/100], Step [51/57], Loss: 0.0005\n",
      "Training classification: 0.35233500599861145\n"
     ]
    },
    {
     "data": {
      "application/vnd.jupyter.widget-view+json": {
       "model_id": "1bdbddcdcb7b4f4a9cee74ac18e5fc16",
       "version_major": 2,
       "version_minor": 0
      },
      "text/plain": [
       "0it [00:00, ?it/s]"
      ]
     },
     "metadata": {},
     "output_type": "display_data"
    },
    {
     "name": "stdout",
     "output_type": "stream",
     "text": [
      "Epoch [1/100], Step [1/7], Loss: 0.0001\n",
      "Validation classification: 0.8141199946403503\n",
      "Epoch 1/100, Train Loss: 0.002132632844190914, Val Loss: 8.090766017890669e-05\n"
     ]
    },
    {
     "data": {
      "application/vnd.jupyter.widget-view+json": {
       "model_id": "7da2efd6f9744096a7098c7c9fb1ac45",
       "version_major": 2,
       "version_minor": 0
      },
      "text/plain": [
       "0it [00:00, ?it/s]"
      ]
     },
     "metadata": {},
     "output_type": "display_data"
    },
    {
     "name": "stdout",
     "output_type": "stream",
     "text": [
      "Epoch [2/100], Step [1/57], Loss: 0.0005\n",
      "Training classification: 0.37637001276016235\n",
      "Epoch [2/100], Step [11/57], Loss: 0.0004\n",
      "Training classification: 0.4097149968147278\n",
      "Epoch [2/100], Step [21/57], Loss: 0.0003\n",
      "Training classification: 0.4411349892616272\n",
      "Epoch [2/100], Step [31/57], Loss: 0.0003\n",
      "Training classification: 0.4718100130558014\n",
      "Epoch [2/100], Step [41/57], Loss: 0.0003\n",
      "Training classification: 0.4975149929523468\n",
      "Epoch [2/100], Step [51/57], Loss: 0.0002\n",
      "Training classification: 0.5219550132751465\n"
     ]
    },
    {
     "data": {
      "application/vnd.jupyter.widget-view+json": {
       "model_id": "44aa587612af4c90998788b87a487701",
       "version_major": 2,
       "version_minor": 0
      },
      "text/plain": [
       "0it [00:00, ?it/s]"
      ]
     },
     "metadata": {},
     "output_type": "display_data"
    },
    {
     "name": "stdout",
     "output_type": "stream",
     "text": [
      "Epoch [2/100], Step [1/7], Loss: 0.0001\n",
      "Validation classification: 0.9309750199317932\n",
      "Epoch 2/100, Train Loss: 0.0003089463269836351, Val Loss: 5.032526470521199e-05\n"
     ]
    },
    {
     "data": {
      "application/vnd.jupyter.widget-view+json": {
       "model_id": "6f3891e85cfa4cb6851914759ce9b012",
       "version_major": 2,
       "version_minor": 0
      },
      "text/plain": [
       "0it [00:00, ?it/s]"
      ]
     },
     "metadata": {},
     "output_type": "display_data"
    },
    {
     "name": "stdout",
     "output_type": "stream",
     "text": [
      "Epoch [3/100], Step [1/57], Loss: 0.0002\n",
      "Training classification: 0.5431249737739563\n",
      "Epoch [3/100], Step [11/57], Loss: 0.0002\n",
      "Training classification: 0.5675899982452393\n",
      "Epoch [3/100], Step [21/57], Loss: 0.0002\n",
      "Training classification: 0.5888199806213379\n",
      "Epoch [3/100], Step [31/57], Loss: 0.0002\n",
      "Training classification: 0.6102849841117859\n",
      "Epoch [3/100], Step [41/57], Loss: 0.0002\n",
      "Training classification: 0.6391599774360657\n",
      "Epoch [3/100], Step [51/57], Loss: 0.0002\n",
      "Training classification: 0.6501449942588806\n"
     ]
    },
    {
     "data": {
      "application/vnd.jupyter.widget-view+json": {
       "model_id": "9abf0b7d294049af9ed3ced1bc1d8de4",
       "version_major": 2,
       "version_minor": 0
      },
      "text/plain": [
       "0it [00:00, ?it/s]"
      ]
     },
     "metadata": {},
     "output_type": "display_data"
    },
    {
     "name": "stdout",
     "output_type": "stream",
     "text": [
      "Epoch [3/100], Step [1/7], Loss: 0.0000\n",
      "Validation classification: 0.9606099724769592\n",
      "Epoch 3/100, Train Loss: 0.0001684713982588922, Val Loss: 3.999935766582244e-05\n"
     ]
    },
    {
     "data": {
      "application/vnd.jupyter.widget-view+json": {
       "model_id": "fda35df30a1d4d4f93959636e167f589",
       "version_major": 2,
       "version_minor": 0
      },
      "text/plain": [
       "0it [00:00, ?it/s]"
      ]
     },
     "metadata": {},
     "output_type": "display_data"
    },
    {
     "name": "stdout",
     "output_type": "stream",
     "text": [
      "Epoch [4/100], Step [1/57], Loss: 0.0001\n",
      "Training classification: 0.6688050031661987\n",
      "Epoch [4/100], Step [11/57], Loss: 0.0001\n",
      "Training classification: 0.6848300099372864\n",
      "Epoch [4/100], Step [21/57], Loss: 0.0001\n",
      "Training classification: 0.7034800052642822\n",
      "Epoch [4/100], Step [31/57], Loss: 0.0001\n",
      "Training classification: 0.723360002040863\n",
      "Epoch [4/100], Step [41/57], Loss: 0.0001\n",
      "Training classification: 0.737155020236969\n",
      "Epoch [4/100], Step [51/57], Loss: 0.0001\n",
      "Training classification: 0.7514749765396118\n"
     ]
    },
    {
     "data": {
      "application/vnd.jupyter.widget-view+json": {
       "model_id": "4f7cd43a53dd4ad7b8ea4ccf3934807b",
       "version_major": 2,
       "version_minor": 0
      },
      "text/plain": [
       "0it [00:00, ?it/s]"
      ]
     },
     "metadata": {},
     "output_type": "display_data"
    },
    {
     "name": "stdout",
     "output_type": "stream",
     "text": [
      "Epoch [4/100], Step [1/7], Loss: 0.0000\n",
      "Validation classification: 0.9685249924659729\n",
      "Epoch 4/100, Train Loss: 0.00011377174865756707, Val Loss: 3.456502989657955e-05\n"
     ]
    },
    {
     "data": {
      "application/vnd.jupyter.widget-view+json": {
       "model_id": "0bb7aa6c9fa74e7dae0322880ca3f0c0",
       "version_major": 2,
       "version_minor": 0
      },
      "text/plain": [
       "0it [00:00, ?it/s]"
      ]
     },
     "metadata": {},
     "output_type": "display_data"
    },
    {
     "name": "stdout",
     "output_type": "stream",
     "text": [
      "Epoch [5/100], Step [1/57], Loss: 0.0001\n",
      "Training classification: 0.7571449875831604\n",
      "Epoch [5/100], Step [11/57], Loss: 0.0001\n",
      "Training classification: 0.7686750292778015\n",
      "Epoch [5/100], Step [21/57], Loss: 0.0001\n",
      "Training classification: 0.788640022277832\n",
      "Epoch [5/100], Step [31/57], Loss: 0.0001\n",
      "Training classification: 0.7992299795150757\n",
      "Epoch [5/100], Step [41/57], Loss: 0.0001\n",
      "Training classification: 0.8086850047111511\n",
      "Epoch [5/100], Step [51/57], Loss: 0.0001\n",
      "Training classification: 0.8205699920654297\n"
     ]
    },
    {
     "data": {
      "application/vnd.jupyter.widget-view+json": {
       "model_id": "1d48e5f54a27485b83433aa2e11ac939",
       "version_major": 2,
       "version_minor": 0
      },
      "text/plain": [
       "0it [00:00, ?it/s]"
      ]
     },
     "metadata": {},
     "output_type": "display_data"
    },
    {
     "name": "stdout",
     "output_type": "stream",
     "text": [
      "Epoch [5/100], Step [1/7], Loss: 0.0000\n",
      "Validation classification: 0.9712700247764587\n",
      "Epoch 5/100, Train Loss: 8.632672790809648e-05, Val Loss: 3.14634879552094e-05\n"
     ]
    },
    {
     "data": {
      "application/vnd.jupyter.widget-view+json": {
       "model_id": "d7f8d77fc845457799b359417ffbb3d7",
       "version_major": 2,
       "version_minor": 0
      },
      "text/plain": [
       "0it [00:00, ?it/s]"
      ]
     },
     "metadata": {},
     "output_type": "display_data"
    },
    {
     "name": "stdout",
     "output_type": "stream",
     "text": [
      "Epoch [6/100], Step [1/57], Loss: 0.0001\n",
      "Training classification: 0.8287150263786316\n",
      "Epoch [6/100], Step [11/57], Loss: 0.0001\n",
      "Training classification: 0.842104971408844\n",
      "Epoch [6/100], Step [21/57], Loss: 0.0001\n",
      "Training classification: 0.8404049873352051\n",
      "Epoch [6/100], Step [31/57], Loss: 0.0001\n",
      "Training classification: 0.8562399744987488\n",
      "Epoch [6/100], Step [41/57], Loss: 0.0001\n",
      "Training classification: 0.8640599846839905\n",
      "Epoch [6/100], Step [51/57], Loss: 0.0001\n",
      "Training classification: 0.86701500415802\n"
     ]
    },
    {
     "data": {
      "application/vnd.jupyter.widget-view+json": {
       "model_id": "094f49ba080e46c88a4c693bc6d5c1db",
       "version_major": 2,
       "version_minor": 0
      },
      "text/plain": [
       "0it [00:00, ?it/s]"
      ]
     },
     "metadata": {},
     "output_type": "display_data"
    },
    {
     "name": "stdout",
     "output_type": "stream",
     "text": [
      "Epoch [6/100], Step [1/7], Loss: 0.0000\n",
      "Validation classification: 0.9722200036048889\n",
      "Epoch 6/100, Train Loss: 6.995197340106722e-05, Val Loss: 2.9268663118792964e-05\n"
     ]
    },
    {
     "data": {
      "application/vnd.jupyter.widget-view+json": {
       "model_id": "f41ac3fbbe8d44f3af3e6abe7c95bcc0",
       "version_major": 2,
       "version_minor": 0
      },
      "text/plain": [
       "0it [00:00, ?it/s]"
      ]
     },
     "metadata": {},
     "output_type": "display_data"
    },
    {
     "name": "stdout",
     "output_type": "stream",
     "text": [
      "Epoch [7/100], Step [1/57], Loss: 0.0001\n",
      "Training classification: 0.8735499978065491\n",
      "Epoch [7/100], Step [11/57], Loss: 0.0001\n",
      "Training classification: 0.8811749815940857\n",
      "Epoch [7/100], Step [21/57], Loss: 0.0001\n",
      "Training classification: 0.884784996509552\n",
      "Epoch [7/100], Step [31/57], Loss: 0.0000\n",
      "Training classification: 0.8989099860191345\n",
      "Epoch [7/100], Step [41/57], Loss: 0.0001\n",
      "Training classification: 0.8960850238800049\n",
      "Epoch [7/100], Step [51/57], Loss: 0.0000\n",
      "Training classification: 0.907355010509491\n"
     ]
    },
    {
     "data": {
      "application/vnd.jupyter.widget-view+json": {
       "model_id": "78cc3fb5130c497593467e578a7565b2",
       "version_major": 2,
       "version_minor": 0
      },
      "text/plain": [
       "0it [00:00, ?it/s]"
      ]
     },
     "metadata": {},
     "output_type": "display_data"
    },
    {
     "name": "stdout",
     "output_type": "stream",
     "text": [
      "Epoch [7/100], Step [1/7], Loss: 0.0000\n",
      "Validation classification: 0.9725800156593323\n",
      "Epoch 7/100, Train Loss: 5.9372761027413634e-05, Val Loss: 2.7885460180446637e-05\n"
     ]
    },
    {
     "data": {
      "application/vnd.jupyter.widget-view+json": {
       "model_id": "d596b61fd92e4cf984516d99b2c43a05",
       "version_major": 2,
       "version_minor": 0
      },
      "text/plain": [
       "0it [00:00, ?it/s]"
      ]
     },
     "metadata": {},
     "output_type": "display_data"
    },
    {
     "name": "stdout",
     "output_type": "stream",
     "text": [
      "Epoch [8/100], Step [1/57], Loss: 0.0000\n",
      "Training classification: 0.9081550240516663\n",
      "Epoch [8/100], Step [11/57], Loss: 0.0001\n",
      "Training classification: 0.9092100262641907\n",
      "Epoch [8/100], Step [21/57], Loss: 0.0000\n",
      "Training classification: 0.9223899841308594\n",
      "Epoch [8/100], Step [31/57], Loss: 0.0000\n",
      "Training classification: 0.921654999256134\n",
      "Epoch [8/100], Step [41/57], Loss: 0.0000\n",
      "Training classification: 0.9246500134468079\n",
      "Epoch [8/100], Step [51/57], Loss: 0.0001\n",
      "Training classification: 0.9251199960708618\n"
     ]
    },
    {
     "data": {
      "application/vnd.jupyter.widget-view+json": {
       "model_id": "3ad9ef30115f43d9a9f6fb5a31973266",
       "version_major": 2,
       "version_minor": 0
      },
      "text/plain": [
       "0it [00:00, ?it/s]"
      ]
     },
     "metadata": {},
     "output_type": "display_data"
    },
    {
     "name": "stdout",
     "output_type": "stream",
     "text": [
      "Epoch [8/100], Step [1/7], Loss: 0.0000\n",
      "Validation classification: 0.9727150201797485\n",
      "Epoch 8/100, Train Loss: 5.202808084472883e-05, Val Loss: 2.7162505440563628e-05\n"
     ]
    },
    {
     "data": {
      "application/vnd.jupyter.widget-view+json": {
       "model_id": "a95fe86b70464c26a8b04a22ef674042",
       "version_major": 2,
       "version_minor": 0
      },
      "text/plain": [
       "0it [00:00, ?it/s]"
      ]
     },
     "metadata": {},
     "output_type": "display_data"
    },
    {
     "name": "stdout",
     "output_type": "stream",
     "text": [
      "Epoch [9/100], Step [1/57], Loss: 0.0000\n",
      "Training classification: 0.9301999807357788\n",
      "Epoch [9/100], Step [11/57], Loss: 0.0000\n",
      "Training classification: 0.9320200085639954\n",
      "Epoch [9/100], Step [21/57], Loss: 0.0001\n",
      "Training classification: 0.9308000206947327\n",
      "Epoch [9/100], Step [31/57], Loss: 0.0000\n",
      "Training classification: 0.9396299719810486\n",
      "Epoch [9/100], Step [41/57], Loss: 0.0000\n",
      "Training classification: 0.9434249997138977\n",
      "Epoch [9/100], Step [51/57], Loss: 0.0000\n",
      "Training classification: 0.9404799938201904\n"
     ]
    },
    {
     "data": {
      "application/vnd.jupyter.widget-view+json": {
       "model_id": "83875bbe88174d90aa44f6f52c374ae5",
       "version_major": 2,
       "version_minor": 0
      },
      "text/plain": [
       "0it [00:00, ?it/s]"
      ]
     },
     "metadata": {},
     "output_type": "display_data"
    },
    {
     "name": "stdout",
     "output_type": "stream",
     "text": [
      "Epoch [9/100], Step [1/7], Loss: 0.0000\n",
      "Validation classification: 0.9728099703788757\n",
      "Epoch 9/100, Train Loss: 4.687761254006131e-05, Val Loss: 2.659915246892654e-05\n"
     ]
    },
    {
     "data": {
      "application/vnd.jupyter.widget-view+json": {
       "model_id": "62dc1f6bb1f9413b929c9a9662279c07",
       "version_major": 2,
       "version_minor": 0
      },
      "text/plain": [
       "0it [00:00, ?it/s]"
      ]
     },
     "metadata": {},
     "output_type": "display_data"
    },
    {
     "name": "stdout",
     "output_type": "stream",
     "text": [
      "Epoch [10/100], Step [1/57], Loss: 0.0000\n",
      "Training classification: 0.9474599957466125\n",
      "Epoch [10/100], Step [11/57], Loss: 0.0001\n",
      "Training classification: 0.9493749737739563\n",
      "Epoch [10/100], Step [21/57], Loss: 0.0000\n",
      "Training classification: 0.9478650093078613\n",
      "Epoch [10/100], Step [31/57], Loss: 0.0001\n",
      "Training classification: 0.949845016002655\n",
      "Epoch [10/100], Step [41/57], Loss: 0.0001\n",
      "Training classification: 0.9509750008583069\n",
      "Epoch [10/100], Step [51/57], Loss: 0.0000\n",
      "Training classification: 0.9561700224876404\n"
     ]
    },
    {
     "data": {
      "application/vnd.jupyter.widget-view+json": {
       "model_id": "2ddb50150239441d9daf775f877a962d",
       "version_major": 2,
       "version_minor": 0
      },
      "text/plain": [
       "0it [00:00, ?it/s]"
      ]
     },
     "metadata": {},
     "output_type": "display_data"
    },
    {
     "name": "stdout",
     "output_type": "stream",
     "text": [
      "Epoch [10/100], Step [1/7], Loss: 0.0000\n",
      "Validation classification: 0.9728350043296814\n",
      "Epoch 10/100, Train Loss: 4.2961037954164406e-05, Val Loss: 2.6197424761319e-05\n"
     ]
    },
    {
     "data": {
      "application/vnd.jupyter.widget-view+json": {
       "model_id": "7f5d9547b72f42e98f63f942326127d0",
       "version_major": 2,
       "version_minor": 0
      },
      "text/plain": [
       "0it [00:00, ?it/s]"
      ]
     },
     "metadata": {},
     "output_type": "display_data"
    },
    {
     "name": "stdout",
     "output_type": "stream",
     "text": [
      "Epoch [11/100], Step [1/57], Loss: 0.0001\n",
      "Training classification: 0.9603449702262878\n",
      "Epoch [11/100], Step [11/57], Loss: 0.0001\n",
      "Training classification: 0.9578649997711182\n",
      "Epoch [11/100], Step [21/57], Loss: 0.0000\n",
      "Training classification: 0.9588450193405151\n",
      "Epoch [11/100], Step [31/57], Loss: 0.0000\n",
      "Training classification: 0.9628250002861023\n",
      "Epoch [11/100], Step [41/57], Loss: 0.0000\n",
      "Training classification: 0.9617099761962891\n",
      "Epoch [11/100], Step [51/57], Loss: 0.0000\n",
      "Training classification: 0.9653699994087219\n"
     ]
    },
    {
     "data": {
      "application/vnd.jupyter.widget-view+json": {
       "model_id": "3d91f6e80637459f9744cffbef2256af",
       "version_major": 2,
       "version_minor": 0
      },
      "text/plain": [
       "0it [00:00, ?it/s]"
      ]
     },
     "metadata": {},
     "output_type": "display_data"
    },
    {
     "name": "stdout",
     "output_type": "stream",
     "text": [
      "Epoch [11/100], Step [1/7], Loss: 0.0000\n",
      "Validation classification: 0.9728450179100037\n",
      "Epoch 11/100, Train Loss: 3.995427482949341e-05, Val Loss: 2.591217630002315e-05\n"
     ]
    },
    {
     "data": {
      "application/vnd.jupyter.widget-view+json": {
       "model_id": "44a45236f4df45d895e1cbdcc179f2ca",
       "version_major": 2,
       "version_minor": 0
      },
      "text/plain": [
       "0it [00:00, ?it/s]"
      ]
     },
     "metadata": {},
     "output_type": "display_data"
    },
    {
     "name": "stdout",
     "output_type": "stream",
     "text": [
      "Epoch [12/100], Step [1/57], Loss: 0.0000\n",
      "Training classification: 0.9650899767875671\n",
      "Epoch [12/100], Step [11/57], Loss: 0.0000\n",
      "Training classification: 0.9631050229072571\n",
      "Epoch [12/100], Step [21/57], Loss: 0.0000\n",
      "Training classification: 0.9646599888801575\n",
      "Epoch [12/100], Step [31/57], Loss: 0.0000\n",
      "Training classification: 0.9692000150680542\n",
      "Epoch [12/100], Step [41/57], Loss: 0.0001\n",
      "Training classification: 0.9656400084495544\n",
      "Epoch [12/100], Step [51/57], Loss: 0.0000\n",
      "Training classification: 0.9649999737739563\n"
     ]
    },
    {
     "data": {
      "application/vnd.jupyter.widget-view+json": {
       "model_id": "4785eff60ea544ee8a1d2431c530af17",
       "version_major": 2,
       "version_minor": 0
      },
      "text/plain": [
       "0it [00:00, ?it/s]"
      ]
     },
     "metadata": {},
     "output_type": "display_data"
    },
    {
     "name": "stdout",
     "output_type": "stream",
     "text": [
      "Epoch [12/100], Step [1/7], Loss: 0.0000\n",
      "Validation classification: 0.9728549718856812\n",
      "Epoch 12/100, Train Loss: 3.774578107639396e-05, Val Loss: 2.572221585848768e-05\n"
     ]
    },
    {
     "data": {
      "application/vnd.jupyter.widget-view+json": {
       "model_id": "415c02d8e1ac48b697730667c646139a",
       "version_major": 2,
       "version_minor": 0
      },
      "text/plain": [
       "0it [00:00, ?it/s]"
      ]
     },
     "metadata": {},
     "output_type": "display_data"
    },
    {
     "name": "stdout",
     "output_type": "stream",
     "text": [
      "Epoch [13/100], Step [1/57], Loss: 0.0000\n",
      "Training classification: 0.9695349931716919\n",
      "Epoch [13/100], Step [11/57], Loss: 0.0001\n",
      "Training classification: 0.9710249900817871\n",
      "Epoch [13/100], Step [21/57], Loss: 0.0000\n",
      "Training classification: 0.9680749773979187\n",
      "Epoch [13/100], Step [31/57], Loss: 0.0000\n",
      "Training classification: 0.9724900126457214\n",
      "Epoch [13/100], Step [41/57], Loss: 0.0000\n",
      "Training classification: 0.9677000045776367\n",
      "Epoch [13/100], Step [51/57], Loss: 0.0000\n",
      "Training classification: 0.9660149812698364\n"
     ]
    },
    {
     "data": {
      "application/vnd.jupyter.widget-view+json": {
       "model_id": "673607ca409b44c99a1f7bddaae5279a",
       "version_major": 2,
       "version_minor": 0
      },
      "text/plain": [
       "0it [00:00, ?it/s]"
      ]
     },
     "metadata": {},
     "output_type": "display_data"
    },
    {
     "name": "stdout",
     "output_type": "stream",
     "text": [
      "Epoch [13/100], Step [1/7], Loss: 0.0000\n",
      "Validation classification: 0.9728800058364868\n",
      "Epoch 13/100, Train Loss: 3.582620490960197e-05, Val Loss: 2.5487861421424896e-05\n"
     ]
    },
    {
     "data": {
      "application/vnd.jupyter.widget-view+json": {
       "model_id": "b5974b72ff5645dd94daa98f7f5897b6",
       "version_major": 2,
       "version_minor": 0
      },
      "text/plain": [
       "0it [00:00, ?it/s]"
      ]
     },
     "metadata": {},
     "output_type": "display_data"
    },
    {
     "name": "stdout",
     "output_type": "stream",
     "text": [
      "Epoch [14/100], Step [1/57], Loss: 0.0000\n",
      "Training classification: 0.9728749990463257\n",
      "Epoch [14/100], Step [11/57], Loss: 0.0000\n",
      "Training classification: 0.9655150175094604\n",
      "Epoch [14/100], Step [21/57], Loss: 0.0000\n",
      "Training classification: 0.979420006275177\n",
      "Epoch [14/100], Step [31/57], Loss: 0.0000\n",
      "Training classification: 0.9710050225257874\n",
      "Epoch [14/100], Step [41/57], Loss: 0.0000\n",
      "Training classification: 0.9718949794769287\n",
      "Epoch [14/100], Step [51/57], Loss: 0.0001\n",
      "Training classification: 0.9753400087356567\n"
     ]
    },
    {
     "data": {
      "application/vnd.jupyter.widget-view+json": {
       "model_id": "a62d62fd0775402b93203c89fd391ae3",
       "version_major": 2,
       "version_minor": 0
      },
      "text/plain": [
       "0it [00:00, ?it/s]"
      ]
     },
     "metadata": {},
     "output_type": "display_data"
    },
    {
     "name": "stdout",
     "output_type": "stream",
     "text": [
      "Epoch [14/100], Step [1/7], Loss: 0.0000\n",
      "Validation classification: 0.9728749990463257\n",
      "Epoch 14/100, Train Loss: 3.449087026845582e-05, Val Loss: 2.5425917556276545e-05\n"
     ]
    },
    {
     "data": {
      "application/vnd.jupyter.widget-view+json": {
       "model_id": "873ff05c12d9496681bacaa2bd5075d2",
       "version_major": 2,
       "version_minor": 0
      },
      "text/plain": [
       "0it [00:00, ?it/s]"
      ]
     },
     "metadata": {},
     "output_type": "display_data"
    },
    {
     "name": "stdout",
     "output_type": "stream",
     "text": [
      "Epoch [15/100], Step [1/57], Loss: 0.0001\n",
      "Training classification: 0.9748650193214417\n",
      "Epoch [15/100], Step [11/57], Loss: 0.0000\n",
      "Training classification: 0.9718700051307678\n",
      "Epoch [15/100], Step [21/57], Loss: 0.0000\n",
      "Training classification: 0.969694972038269\n",
      "Epoch [15/100], Step [31/57], Loss: 0.0000\n",
      "Training classification: 0.9758350253105164\n",
      "Epoch [15/100], Step [41/57], Loss: 0.0000\n",
      "Training classification: 0.9738699793815613\n",
      "Epoch [15/100], Step [51/57], Loss: 0.0000\n",
      "Training classification: 0.9716449975967407\n"
     ]
    },
    {
     "data": {
      "application/vnd.jupyter.widget-view+json": {
       "model_id": "d2173e95c03b4f9cb172f63577f5b9ef",
       "version_major": 2,
       "version_minor": 0
      },
      "text/plain": [
       "0it [00:00, ?it/s]"
      ]
     },
     "metadata": {},
     "output_type": "display_data"
    },
    {
     "name": "stdout",
     "output_type": "stream",
     "text": [
      "Epoch [15/100], Step [1/7], Loss: 0.0000\n",
      "Validation classification: 0.9728900194168091\n",
      "Epoch 15/100, Train Loss: 3.3107611798505676e-05, Val Loss: 2.529649905877055e-05\n"
     ]
    },
    {
     "data": {
      "application/vnd.jupyter.widget-view+json": {
       "model_id": "f4339c81092347afb153603cbedc864e",
       "version_major": 2,
       "version_minor": 0
      },
      "text/plain": [
       "0it [00:00, ?it/s]"
      ]
     },
     "metadata": {},
     "output_type": "display_data"
    },
    {
     "name": "stdout",
     "output_type": "stream",
     "text": [
      "Epoch [16/100], Step [1/57], Loss: 0.0000\n",
      "Training classification: 0.9781699776649475\n",
      "Epoch [16/100], Step [11/57], Loss: 0.0000\n",
      "Training classification: 0.9740650057792664\n",
      "Epoch [16/100], Step [21/57], Loss: 0.0000\n",
      "Training classification: 0.9790149927139282\n",
      "Epoch [16/100], Step [31/57], Loss: 0.0000\n",
      "Training classification: 0.9716899991035461\n",
      "Epoch [16/100], Step [41/57], Loss: 0.0000\n",
      "Training classification: 0.9770699739456177\n",
      "Epoch [16/100], Step [51/57], Loss: 0.0000\n",
      "Training classification: 0.9720450043678284\n"
     ]
    },
    {
     "data": {
      "application/vnd.jupyter.widget-view+json": {
       "model_id": "8f2ebb13554749519ed41b654b00a619",
       "version_major": 2,
       "version_minor": 0
      },
      "text/plain": [
       "0it [00:00, ?it/s]"
      ]
     },
     "metadata": {},
     "output_type": "display_data"
    },
    {
     "name": "stdout",
     "output_type": "stream",
     "text": [
      "Epoch [16/100], Step [1/7], Loss: 0.0000\n",
      "Validation classification: 0.9728900194168091\n",
      "Epoch 16/100, Train Loss: 3.2125179451101936e-05, Val Loss: 2.5170932661110002e-05\n"
     ]
    },
    {
     "data": {
      "application/vnd.jupyter.widget-view+json": {
       "model_id": "5f6f112c26d94ff1a8657774ef925fed",
       "version_major": 2,
       "version_minor": 0
      },
      "text/plain": [
       "0it [00:00, ?it/s]"
      ]
     },
     "metadata": {},
     "output_type": "display_data"
    },
    {
     "name": "stdout",
     "output_type": "stream",
     "text": [
      "Epoch [17/100], Step [1/57], Loss: 0.0000\n",
      "Training classification: 0.9776250123977661\n",
      "Epoch [17/100], Step [11/57], Loss: 0.0000\n",
      "Training classification: 0.9778749942779541\n",
      "Epoch [17/100], Step [21/57], Loss: 0.0000\n",
      "Training classification: 0.9791799783706665\n",
      "Epoch [17/100], Step [31/57], Loss: 0.0000\n",
      "Training classification: 0.9721850156784058\n",
      "Epoch [17/100], Step [41/57], Loss: 0.0000\n",
      "Training classification: 0.9720600247383118\n",
      "Epoch [17/100], Step [51/57], Loss: 0.0000\n",
      "Training classification: 0.9734749794006348\n"
     ]
    },
    {
     "data": {
      "application/vnd.jupyter.widget-view+json": {
       "model_id": "93a699e1f44b41698c6dccea11538856",
       "version_major": 2,
       "version_minor": 0
      },
      "text/plain": [
       "0it [00:00, ?it/s]"
      ]
     },
     "metadata": {},
     "output_type": "display_data"
    },
    {
     "name": "stdout",
     "output_type": "stream",
     "text": [
      "Epoch [17/100], Step [1/7], Loss: 0.0000\n",
      "Validation classification: 0.9729049801826477\n",
      "Epoch 17/100, Train Loss: 3.12293271698556e-05, Val Loss: 2.510124431864824e-05\n"
     ]
    },
    {
     "data": {
      "application/vnd.jupyter.widget-view+json": {
       "model_id": "0bb7d49cc2e544f5867398ad24f1955f",
       "version_major": 2,
       "version_minor": 0
      },
      "text/plain": [
       "0it [00:00, ?it/s]"
      ]
     },
     "metadata": {},
     "output_type": "display_data"
    },
    {
     "name": "stdout",
     "output_type": "stream",
     "text": [
      "Epoch [18/100], Step [1/57], Loss: 0.0000\n",
      "Training classification: 0.9718800187110901\n",
      "Epoch [18/100], Step [11/57], Loss: 0.0000\n",
      "Training classification: 0.980650007724762\n",
      "Epoch [18/100], Step [21/57], Loss: 0.0000\n",
      "Training classification: 0.9776049852371216\n",
      "Epoch [18/100], Step [31/57], Loss: 0.0000\n",
      "Training classification: 0.9754049777984619\n",
      "Epoch [18/100], Step [41/57], Loss: 0.0000\n",
      "Training classification: 0.9745150208473206\n",
      "Epoch [18/100], Step [51/57], Loss: 0.0001\n",
      "Training classification: 0.9689300060272217\n"
     ]
    },
    {
     "data": {
      "application/vnd.jupyter.widget-view+json": {
       "model_id": "28dbfb8662d548448213e5241af2a9f2",
       "version_major": 2,
       "version_minor": 0
      },
      "text/plain": [
       "0it [00:00, ?it/s]"
      ]
     },
     "metadata": {},
     "output_type": "display_data"
    },
    {
     "name": "stdout",
     "output_type": "stream",
     "text": [
      "Epoch [18/100], Step [1/7], Loss: 0.0000\n",
      "Validation classification: 0.9728999733924866\n",
      "Epoch 18/100, Train Loss: 3.091611637373398e-05, Val Loss: 2.50382049021677e-05\n"
     ]
    },
    {
     "data": {
      "application/vnd.jupyter.widget-view+json": {
       "model_id": "a7f183b01aca45a8a7e10c389dbc0c7a",
       "version_major": 2,
       "version_minor": 0
      },
      "text/plain": [
       "0it [00:00, ?it/s]"
      ]
     },
     "metadata": {},
     "output_type": "display_data"
    },
    {
     "name": "stdout",
     "output_type": "stream",
     "text": [
      "Epoch [19/100], Step [1/57], Loss: 0.0000\n",
      "Training classification: 0.9739099740982056\n",
      "Epoch [19/100], Step [11/57], Loss: 0.0000\n",
      "Training classification: 0.9784650206565857\n",
      "Epoch [19/100], Step [21/57], Loss: 0.0000\n",
      "Training classification: 0.9782199859619141\n",
      "Epoch [19/100], Step [31/57], Loss: 0.0000\n",
      "Training classification: 0.9792550206184387\n",
      "Epoch [19/100], Step [41/57], Loss: 0.0000\n",
      "Training classification: 0.9710850119590759\n",
      "Epoch [19/100], Step [51/57], Loss: 0.0000\n",
      "Training classification: 0.9804800152778625\n"
     ]
    },
    {
     "data": {
      "application/vnd.jupyter.widget-view+json": {
       "model_id": "44e0ab1cc488407190d1b82858114103",
       "version_major": 2,
       "version_minor": 0
      },
      "text/plain": [
       "0it [00:00, ?it/s]"
      ]
     },
     "metadata": {},
     "output_type": "display_data"
    },
    {
     "name": "stdout",
     "output_type": "stream",
     "text": [
      "Epoch [19/100], Step [1/7], Loss: 0.0000\n",
      "Validation classification: 0.9729099869728088\n",
      "Epoch 19/100, Train Loss: 3.0323375157374693e-05, Val Loss: 2.4975060244157377e-05\n"
     ]
    },
    {
     "data": {
      "application/vnd.jupyter.widget-view+json": {
       "model_id": "116772254aba46f6a2a8c7ac182c6c0b",
       "version_major": 2,
       "version_minor": 0
      },
      "text/plain": [
       "0it [00:00, ?it/s]"
      ]
     },
     "metadata": {},
     "output_type": "display_data"
    },
    {
     "name": "stdout",
     "output_type": "stream",
     "text": [
      "Epoch [20/100], Step [1/57], Loss: 0.0000\n",
      "Training classification: 0.9753550291061401\n",
      "Epoch [20/100], Step [11/57], Loss: 0.0000\n",
      "Training classification: 0.9746699929237366\n",
      "Epoch [20/100], Step [21/57], Loss: 0.0000\n",
      "Training classification: 0.9777699708938599\n",
      "Epoch [20/100], Step [31/57], Loss: 0.0000\n",
      "Training classification: 0.980970025062561\n",
      "Epoch [20/100], Step [41/57], Loss: 0.0000\n",
      "Training classification: 0.9730899930000305\n",
      "Epoch [20/100], Step [51/57], Loss: 0.0000\n",
      "Training classification: 0.9753950238227844\n"
     ]
    },
    {
     "data": {
      "application/vnd.jupyter.widget-view+json": {
       "model_id": "770b114dbb9648ab8a731c36a3ff9a72",
       "version_major": 2,
       "version_minor": 0
      },
      "text/plain": [
       "0it [00:00, ?it/s]"
      ]
     },
     "metadata": {},
     "output_type": "display_data"
    },
    {
     "name": "stdout",
     "output_type": "stream",
     "text": [
      "Epoch [20/100], Step [1/7], Loss: 0.0000\n",
      "Validation classification: 0.9729099869728088\n",
      "Epoch 20/100, Train Loss: 2.9547031022446934e-05, Val Loss: 2.491300100310972e-05\n"
     ]
    },
    {
     "data": {
      "application/vnd.jupyter.widget-view+json": {
       "model_id": "263a8c3cf0b64729854efd970dd958af",
       "version_major": 2,
       "version_minor": 0
      },
      "text/plain": [
       "0it [00:00, ?it/s]"
      ]
     },
     "metadata": {},
     "output_type": "display_data"
    },
    {
     "name": "stdout",
     "output_type": "stream",
     "text": [
      "Epoch [21/100], Step [1/57], Loss: 0.0000\n",
      "Training classification: 0.9743350148200989\n",
      "Epoch [21/100], Step [11/57], Loss: 0.0000\n",
      "Training classification: 0.9749950170516968\n",
      "Epoch [21/100], Step [21/57], Loss: 0.0000\n",
      "Training classification: 0.9761850237846375\n",
      "Epoch [21/100], Step [31/57], Loss: 0.0000\n",
      "Training classification: 0.9799000024795532\n",
      "Epoch [21/100], Step [41/57], Loss: 0.0000\n",
      "Training classification: 0.9742649793624878\n",
      "Epoch [21/100], Step [51/57], Loss: 0.0000\n",
      "Training classification: 0.9760550260543823\n"
     ]
    },
    {
     "data": {
      "application/vnd.jupyter.widget-view+json": {
       "model_id": "28a91cfc765f46aea14af309cba3b4a8",
       "version_major": 2,
       "version_minor": 0
      },
      "text/plain": [
       "0it [00:00, ?it/s]"
      ]
     },
     "metadata": {},
     "output_type": "display_data"
    },
    {
     "name": "stdout",
     "output_type": "stream",
     "text": [
      "Epoch [21/100], Step [1/7], Loss: 0.0000\n",
      "Validation classification: 0.9729099869728088\n",
      "Epoch 21/100, Train Loss: 2.9026961017638985e-05, Val Loss: 2.4900889392094022e-05\n"
     ]
    },
    {
     "data": {
      "application/vnd.jupyter.widget-view+json": {
       "model_id": "42f49cc26b864770a2f1b36cfee2cea7",
       "version_major": 2,
       "version_minor": 0
      },
      "text/plain": [
       "0it [00:00, ?it/s]"
      ]
     },
     "metadata": {},
     "output_type": "display_data"
    },
    {
     "name": "stdout",
     "output_type": "stream",
     "text": [
      "Epoch [22/100], Step [1/57], Loss: 0.0000\n",
      "Training classification: 0.9720649719238281\n",
      "Epoch [22/100], Step [11/57], Loss: 0.0000\n",
      "Training classification: 0.9733849763870239\n",
      "Epoch [22/100], Step [21/57], Loss: 0.0000\n",
      "Training classification: 0.9744200110435486\n",
      "Epoch [22/100], Step [31/57], Loss: 0.0000\n",
      "Training classification: 0.9788450002670288\n",
      "Epoch [22/100], Step [41/57], Loss: 0.0000\n",
      "Training classification: 0.9747700095176697\n",
      "Epoch [22/100], Step [51/57], Loss: 0.0000\n",
      "Training classification: 0.9796900153160095\n"
     ]
    },
    {
     "data": {
      "application/vnd.jupyter.widget-view+json": {
       "model_id": "37ab6c9cd34a43209993d690d82a17a8",
       "version_major": 2,
       "version_minor": 0
      },
      "text/plain": [
       "0it [00:00, ?it/s]"
      ]
     },
     "metadata": {},
     "output_type": "display_data"
    },
    {
     "name": "stdout",
     "output_type": "stream",
     "text": [
      "Epoch [22/100], Step [1/7], Loss: 0.0000\n",
      "Validation classification: 0.9729099869728088\n",
      "Epoch 22/100, Train Loss: 2.9056153467982975e-05, Val Loss: 2.4859716047233504e-05\n"
     ]
    },
    {
     "data": {
      "application/vnd.jupyter.widget-view+json": {
       "model_id": "2482bcb536b049f7b210b28f4e86ffdc",
       "version_major": 2,
       "version_minor": 0
      },
      "text/plain": [
       "0it [00:00, ?it/s]"
      ]
     },
     "metadata": {},
     "output_type": "display_data"
    },
    {
     "name": "stdout",
     "output_type": "stream",
     "text": [
      "Epoch [23/100], Step [1/57], Loss: 0.0000\n",
      "Training classification: 0.9796649813652039\n",
      "Epoch [23/100], Step [11/57], Loss: 0.0000\n",
      "Training classification: 0.9781299829483032\n",
      "Epoch [23/100], Step [21/57], Loss: 0.0000\n",
      "Training classification: 0.9726200103759766\n",
      "Epoch [23/100], Step [31/57], Loss: 0.0000\n",
      "Training classification: 0.9752900004386902\n",
      "Epoch [23/100], Step [41/57], Loss: 0.0000\n",
      "Training classification: 0.9742900133132935\n",
      "Epoch [23/100], Step [51/57], Loss: 0.0000\n",
      "Training classification: 0.9794849753379822\n"
     ]
    },
    {
     "data": {
      "application/vnd.jupyter.widget-view+json": {
       "model_id": "cb7b165b4a5f4f2bada2efb0fef2e8af",
       "version_major": 2,
       "version_minor": 0
      },
      "text/plain": [
       "0it [00:00, ?it/s]"
      ]
     },
     "metadata": {},
     "output_type": "display_data"
    },
    {
     "name": "stdout",
     "output_type": "stream",
     "text": [
      "Epoch [23/100], Step [1/7], Loss: 0.0000\n",
      "Validation classification: 0.97291499376297\n",
      "Epoch 23/100, Train Loss: 2.8287450652242752e-05, Val Loss: 2.4840551694589002e-05\n"
     ]
    },
    {
     "data": {
      "application/vnd.jupyter.widget-view+json": {
       "model_id": "c098f74f4f1d444e84b99d911f18cd7c",
       "version_major": 2,
       "version_minor": 0
      },
      "text/plain": [
       "0it [00:00, ?it/s]"
      ]
     },
     "metadata": {},
     "output_type": "display_data"
    },
    {
     "name": "stdout",
     "output_type": "stream",
     "text": [
      "Epoch [24/100], Step [1/57], Loss: 0.0000\n",
      "Training classification: 0.9770699739456177\n",
      "Epoch [24/100], Step [11/57], Loss: 0.0000\n",
      "Training classification: 0.9759550094604492\n",
      "Epoch [24/100], Step [21/57], Loss: 0.0000\n",
      "Training classification: 0.9773250222206116\n",
      "Epoch [24/100], Step [31/57], Loss: 0.0000\n",
      "Training classification: 0.9787799715995789\n",
      "Epoch [24/100], Step [41/57], Loss: 0.0000\n",
      "Training classification: 0.9731600284576416\n",
      "Epoch [24/100], Step [51/57], Loss: 0.0001\n",
      "Training classification: 0.9687100052833557\n"
     ]
    },
    {
     "data": {
      "application/vnd.jupyter.widget-view+json": {
       "model_id": "c07ca7bb0b264f60b12e3fab2d16cbdd",
       "version_major": 2,
       "version_minor": 0
      },
      "text/plain": [
       "0it [00:00, ?it/s]"
      ]
     },
     "metadata": {},
     "output_type": "display_data"
    },
    {
     "name": "stdout",
     "output_type": "stream",
     "text": [
      "Epoch [24/100], Step [1/7], Loss: 0.0000\n",
      "Validation classification: 0.9729250073432922\n",
      "Epoch 24/100, Train Loss: 2.8071189087329496e-05, Val Loss: 2.4794487347077976e-05\n"
     ]
    },
    {
     "data": {
      "application/vnd.jupyter.widget-view+json": {
       "model_id": "d7ef331d001d4c3e887fc91ecd3fced7",
       "version_major": 2,
       "version_minor": 0
      },
      "text/plain": [
       "0it [00:00, ?it/s]"
      ]
     },
     "metadata": {},
     "output_type": "display_data"
    },
    {
     "name": "stdout",
     "output_type": "stream",
     "text": [
      "Epoch [25/100], Step [1/57], Loss: 0.0000\n",
      "Training classification: 0.9776800274848938\n",
      "Epoch [25/100], Step [11/57], Loss: 0.0000\n",
      "Training classification: 0.9752650260925293\n",
      "Epoch [25/100], Step [21/57], Loss: 0.0000\n",
      "Training classification: 0.981095016002655\n",
      "Epoch [25/100], Step [31/57], Loss: 0.0000\n",
      "Training classification: 0.9806900024414062\n",
      "Epoch [25/100], Step [41/57], Loss: 0.0000\n",
      "Training classification: 0.9731749892234802\n",
      "Epoch [25/100], Step [51/57], Loss: 0.0000\n",
      "Training classification: 0.9782000184059143\n"
     ]
    },
    {
     "data": {
      "application/vnd.jupyter.widget-view+json": {
       "model_id": "1d50821d28ee4e4d822f7152f443cc67",
       "version_major": 2,
       "version_minor": 0
      },
      "text/plain": [
       "0it [00:00, ?it/s]"
      ]
     },
     "metadata": {},
     "output_type": "display_data"
    },
    {
     "name": "stdout",
     "output_type": "stream",
     "text": [
      "Epoch [25/100], Step [1/7], Loss: 0.0000\n",
      "Validation classification: 0.9729250073432922\n",
      "Epoch 25/100, Train Loss: 2.7698863162010656e-05, Val Loss: 2.4740995286265388e-05\n"
     ]
    },
    {
     "data": {
      "application/vnd.jupyter.widget-view+json": {
       "model_id": "a51ef6ece467479b913ea41b91605ebb",
       "version_major": 2,
       "version_minor": 0
      },
      "text/plain": [
       "0it [00:00, ?it/s]"
      ]
     },
     "metadata": {},
     "output_type": "display_data"
    },
    {
     "name": "stdout",
     "output_type": "stream",
     "text": [
      "Epoch [26/100], Step [1/57], Loss: 0.0000\n",
      "Training classification: 0.9762099981307983\n",
      "Epoch [26/100], Step [11/57], Loss: 0.0000\n",
      "Training classification: 0.9757199883460999\n",
      "Epoch [26/100], Step [21/57], Loss: 0.0000\n",
      "Training classification: 0.9793649911880493\n",
      "Epoch [26/100], Step [31/57], Loss: 0.0000\n",
      "Training classification: 0.9752799868583679\n",
      "Epoch [26/100], Step [41/57], Loss: 0.0000\n",
      "Training classification: 0.9738500118255615\n",
      "Epoch [26/100], Step [51/57], Loss: 0.0000\n",
      "Training classification: 0.9766650199890137\n"
     ]
    },
    {
     "data": {
      "application/vnd.jupyter.widget-view+json": {
       "model_id": "dfb83951082b44239550f07893a8a52a",
       "version_major": 2,
       "version_minor": 0
      },
      "text/plain": [
       "0it [00:00, ?it/s]"
      ]
     },
     "metadata": {},
     "output_type": "display_data"
    },
    {
     "name": "stdout",
     "output_type": "stream",
     "text": [
      "Epoch [26/100], Step [1/7], Loss: 0.0000\n",
      "Validation classification: 0.9729250073432922\n",
      "Epoch 26/100, Train Loss: 2.7469239891312707e-05, Val Loss: 2.4722197849769145e-05\n"
     ]
    },
    {
     "data": {
      "application/vnd.jupyter.widget-view+json": {
       "model_id": "c9f60fdad6cb4e2cac36331436bbbaee",
       "version_major": 2,
       "version_minor": 0
      },
      "text/plain": [
       "0it [00:00, ?it/s]"
      ]
     },
     "metadata": {},
     "output_type": "display_data"
    },
    {
     "name": "stdout",
     "output_type": "stream",
     "text": [
      "Epoch [27/100], Step [1/57], Loss: 0.0000\n",
      "Training classification: 0.9738150238990784\n",
      "Epoch [27/100], Step [11/57], Loss: 0.0000\n",
      "Training classification: 0.9763649702072144\n",
      "Epoch [27/100], Step [21/57], Loss: 0.0000\n",
      "Training classification: 0.9725149869918823\n",
      "Epoch [27/100], Step [31/57], Loss: 0.0000\n",
      "Training classification: 0.9768750071525574\n",
      "Epoch [27/100], Step [41/57], Loss: 0.0000\n",
      "Training classification: 0.9804049730300903\n",
      "Epoch [27/100], Step [51/57], Loss: 0.0000\n",
      "Training classification: 0.9753050208091736\n"
     ]
    },
    {
     "data": {
      "application/vnd.jupyter.widget-view+json": {
       "model_id": "8475ad0fbcab49cfbc4ddeaac374c3de",
       "version_major": 2,
       "version_minor": 0
      },
      "text/plain": [
       "0it [00:00, ?it/s]"
      ]
     },
     "metadata": {},
     "output_type": "display_data"
    },
    {
     "name": "stdout",
     "output_type": "stream",
     "text": [
      "Epoch [27/100], Step [1/7], Loss: 0.0000\n",
      "Validation classification: 0.9729250073432922\n",
      "Epoch 27/100, Train Loss: 2.7361187102015767e-05, Val Loss: 2.471377540911947e-05\n"
     ]
    },
    {
     "data": {
      "application/vnd.jupyter.widget-view+json": {
       "model_id": "89fb71946c724e3fad070552e52609b4",
       "version_major": 2,
       "version_minor": 0
      },
      "text/plain": [
       "0it [00:00, ?it/s]"
      ]
     },
     "metadata": {},
     "output_type": "display_data"
    },
    {
     "name": "stdout",
     "output_type": "stream",
     "text": [
      "Epoch [28/100], Step [1/57], Loss: 0.0000\n",
      "Training classification: 0.9756050109863281\n",
      "Epoch [28/100], Step [11/57], Loss: 0.0000\n",
      "Training classification: 0.9806900024414062\n",
      "Epoch [28/100], Step [21/57], Loss: 0.0000\n",
      "Training classification: 0.9777849912643433\n",
      "Epoch [28/100], Step [31/57], Loss: 0.0000\n",
      "Training classification: 0.9722849726676941\n",
      "Epoch [28/100], Step [41/57], Loss: 0.0000\n",
      "Training classification: 0.9787449836730957\n",
      "Epoch [28/100], Step [51/57], Loss: 0.0000\n",
      "Training classification: 0.9774199724197388\n"
     ]
    },
    {
     "data": {
      "application/vnd.jupyter.widget-view+json": {
       "model_id": "1500bc6a086f4ebeb889b89948776db8",
       "version_major": 2,
       "version_minor": 0
      },
      "text/plain": [
       "0it [00:00, ?it/s]"
      ]
     },
     "metadata": {},
     "output_type": "display_data"
    },
    {
     "name": "stdout",
     "output_type": "stream",
     "text": [
      "Epoch [28/100], Step [1/7], Loss: 0.0000\n",
      "Validation classification: 0.9729250073432922\n",
      "Epoch 28/100, Train Loss: 2.7278492636565044e-05, Val Loss: 2.4694416944320047e-05\n"
     ]
    },
    {
     "data": {
      "application/vnd.jupyter.widget-view+json": {
       "model_id": "40e2c0439f284373af6dde925673df3f",
       "version_major": 2,
       "version_minor": 0
      },
      "text/plain": [
       "0it [00:00, ?it/s]"
      ]
     },
     "metadata": {},
     "output_type": "display_data"
    },
    {
     "name": "stdout",
     "output_type": "stream",
     "text": [
      "Epoch [29/100], Step [1/57], Loss: 0.0000\n",
      "Training classification: 0.9782950282096863\n",
      "Epoch [29/100], Step [11/57], Loss: 0.0000\n",
      "Training classification: 0.9783750176429749\n",
      "Epoch [29/100], Step [21/57], Loss: 0.0001\n",
      "Training classification: 0.9759399890899658\n",
      "Epoch [29/100], Step [31/57], Loss: 0.0000\n",
      "Training classification: 0.9733150005340576\n",
      "Epoch [29/100], Step [41/57], Loss: 0.0000\n",
      "Training classification: 0.9755949974060059\n",
      "Epoch [29/100], Step [51/57], Loss: 0.0000\n",
      "Training classification: 0.9746699929237366\n"
     ]
    },
    {
     "data": {
      "application/vnd.jupyter.widget-view+json": {
       "model_id": "77a797dca5724449aba609da46fe194a",
       "version_major": 2,
       "version_minor": 0
      },
      "text/plain": [
       "0it [00:00, ?it/s]"
      ]
     },
     "metadata": {},
     "output_type": "display_data"
    },
    {
     "name": "stdout",
     "output_type": "stream",
     "text": [
      "Epoch [29/100], Step [1/7], Loss: 0.0000\n",
      "Validation classification: 0.9729250073432922\n",
      "Epoch 29/100, Train Loss: 2.6954414607372885e-05, Val Loss: 2.466052319505252e-05\n"
     ]
    },
    {
     "data": {
      "application/vnd.jupyter.widget-view+json": {
       "model_id": "28903e6f23e44bc796f72cb1953a60bc",
       "version_major": 2,
       "version_minor": 0
      },
      "text/plain": [
       "0it [00:00, ?it/s]"
      ]
     },
     "metadata": {},
     "output_type": "display_data"
    },
    {
     "name": "stdout",
     "output_type": "stream",
     "text": [
      "Epoch [30/100], Step [1/57], Loss: 0.0000\n",
      "Training classification: 0.9830099940299988\n",
      "Epoch [30/100], Step [11/57], Loss: 0.0000\n",
      "Training classification: 0.9731550216674805\n",
      "Epoch [30/100], Step [21/57], Loss: 0.0000\n",
      "Training classification: 0.97639000415802\n",
      "Epoch [30/100], Step [31/57], Loss: 0.0000\n",
      "Training classification: 0.9710599780082703\n",
      "Epoch [30/100], Step [41/57], Loss: 0.0000\n",
      "Training classification: 0.9751399755477905\n",
      "Epoch [30/100], Step [51/57], Loss: 0.0000\n",
      "Training classification: 0.9756450057029724\n"
     ]
    },
    {
     "data": {
      "application/vnd.jupyter.widget-view+json": {
       "model_id": "334c6e90fdf2429ea56b0159dd602fe6",
       "version_major": 2,
       "version_minor": 0
      },
      "text/plain": [
       "0it [00:00, ?it/s]"
      ]
     },
     "metadata": {},
     "output_type": "display_data"
    },
    {
     "name": "stdout",
     "output_type": "stream",
     "text": [
      "Epoch [30/100], Step [1/7], Loss: 0.0000\n",
      "Validation classification: 0.9729250073432922\n",
      "Epoch 30/100, Train Loss: 2.6906852262822723e-05, Val Loss: 2.4655680265693392e-05\n"
     ]
    },
    {
     "data": {
      "application/vnd.jupyter.widget-view+json": {
       "model_id": "95f0cb2e1e8649de83023a100d028c04",
       "version_major": 2,
       "version_minor": 0
      },
      "text/plain": [
       "0it [00:00, ?it/s]"
      ]
     },
     "metadata": {},
     "output_type": "display_data"
    },
    {
     "name": "stdout",
     "output_type": "stream",
     "text": [
      "Epoch [31/100], Step [1/57], Loss: 0.0000\n",
      "Training classification: 0.9779049754142761\n",
      "Epoch [31/100], Step [11/57], Loss: 0.0000\n",
      "Training classification: 0.9820600152015686\n",
      "Epoch [31/100], Step [21/57], Loss: 0.0000\n",
      "Training classification: 0.980650007724762\n",
      "Epoch [31/100], Step [31/57], Loss: 0.0001\n",
      "Training classification: 0.9749900102615356\n",
      "Epoch [31/100], Step [41/57], Loss: 0.0000\n",
      "Training classification: 0.9749000072479248\n",
      "Epoch [31/100], Step [51/57], Loss: 0.0000\n",
      "Training classification: 0.9745299816131592\n"
     ]
    },
    {
     "data": {
      "application/vnd.jupyter.widget-view+json": {
       "model_id": "8d1b655c27604ecd9599dceef23cc862",
       "version_major": 2,
       "version_minor": 0
      },
      "text/plain": [
       "0it [00:00, ?it/s]"
      ]
     },
     "metadata": {},
     "output_type": "display_data"
    },
    {
     "name": "stdout",
     "output_type": "stream",
     "text": [
      "Epoch [31/100], Step [1/7], Loss: 0.0000\n",
      "Validation classification: 0.9729250073432922\n",
      "Epoch 31/100, Train Loss: 2.663204687498939e-05, Val Loss: 2.4631230709409075e-05\n"
     ]
    },
    {
     "data": {
      "application/vnd.jupyter.widget-view+json": {
       "model_id": "7321b125039c4e6e9f9f01d507310af6",
       "version_major": 2,
       "version_minor": 0
      },
      "text/plain": [
       "0it [00:00, ?it/s]"
      ]
     },
     "metadata": {},
     "output_type": "display_data"
    },
    {
     "name": "stdout",
     "output_type": "stream",
     "text": [
      "Epoch [32/100], Step [1/57], Loss: 0.0000\n",
      "Training classification: 0.9764400124549866\n",
      "Epoch [32/100], Step [11/57], Loss: 0.0000\n",
      "Training classification: 0.9731699824333191\n",
      "Epoch [32/100], Step [21/57], Loss: 0.0000\n",
      "Training classification: 0.9790400266647339\n",
      "Epoch [32/100], Step [31/57], Loss: 0.0000\n",
      "Training classification: 0.9762300252914429\n",
      "Epoch [32/100], Step [41/57], Loss: 0.0000\n",
      "Training classification: 0.9732949733734131\n",
      "Epoch [32/100], Step [51/57], Loss: 0.0000\n",
      "Training classification: 0.979004979133606\n"
     ]
    },
    {
     "data": {
      "application/vnd.jupyter.widget-view+json": {
       "model_id": "3577d163acd3409b83f09c55f0cf87a8",
       "version_major": 2,
       "version_minor": 0
      },
      "text/plain": [
       "0it [00:00, ?it/s]"
      ]
     },
     "metadata": {},
     "output_type": "display_data"
    },
    {
     "name": "stdout",
     "output_type": "stream",
     "text": [
      "Epoch [32/100], Step [1/7], Loss: 0.0000\n",
      "Validation classification: 0.9729250073432922\n",
      "Epoch 32/100, Train Loss: 2.6661150561841695e-05, Val Loss: 2.4637918094023397e-05\n"
     ]
    },
    {
     "data": {
      "application/vnd.jupyter.widget-view+json": {
       "model_id": "d61ed5c4429b45bdb3ce077ee6bbc164",
       "version_major": 2,
       "version_minor": 0
      },
      "text/plain": [
       "0it [00:00, ?it/s]"
      ]
     },
     "metadata": {},
     "output_type": "display_data"
    },
    {
     "name": "stdout",
     "output_type": "stream",
     "text": [
      "Epoch [33/100], Step [1/57], Loss: 0.0000\n",
      "Training classification: 0.9718999862670898\n",
      "Epoch [33/100], Step [11/57], Loss: 0.0000\n",
      "Training classification: 0.9769899845123291\n",
      "Epoch [33/100], Step [21/57], Loss: 0.0000\n",
      "Training classification: 0.9745299816131592\n",
      "Epoch [33/100], Step [31/57], Loss: 0.0000\n",
      "Training classification: 0.9779899716377258\n",
      "Epoch [33/100], Step [41/57], Loss: 0.0001\n",
      "Training classification: 0.9758250117301941\n",
      "Epoch [33/100], Step [51/57], Loss: 0.0000\n",
      "Training classification: 0.9800699949264526\n"
     ]
    },
    {
     "data": {
      "application/vnd.jupyter.widget-view+json": {
       "model_id": "b5838968ce974e378450c9d4781e4659",
       "version_major": 2,
       "version_minor": 0
      },
      "text/plain": [
       "0it [00:00, ?it/s]"
      ]
     },
     "metadata": {},
     "output_type": "display_data"
    },
    {
     "name": "stdout",
     "output_type": "stream",
     "text": [
      "Epoch [33/100], Step [1/7], Loss: 0.0000\n",
      "Validation classification: 0.9729250073432922\n",
      "Epoch 33/100, Train Loss: 2.6364713847757676e-05, Val Loss: 2.463136479491368e-05\n"
     ]
    },
    {
     "data": {
      "application/vnd.jupyter.widget-view+json": {
       "model_id": "9ca7859a33204f15829bf11ec2477231",
       "version_major": 2,
       "version_minor": 0
      },
      "text/plain": [
       "0it [00:00, ?it/s]"
      ]
     },
     "metadata": {},
     "output_type": "display_data"
    },
    {
     "name": "stdout",
     "output_type": "stream",
     "text": [
      "Epoch [34/100], Step [1/57], Loss: 0.0001\n",
      "Training classification: 0.9723049998283386\n",
      "Epoch [34/100], Step [11/57], Loss: 0.0000\n",
      "Training classification: 0.9809799790382385\n",
      "Epoch [34/100], Step [21/57], Loss: 0.0000\n",
      "Training classification: 0.9762399792671204\n",
      "Epoch [34/100], Step [31/57], Loss: 0.0000\n",
      "Training classification: 0.9708750247955322\n",
      "Epoch [34/100], Step [41/57], Loss: 0.0000\n",
      "Training classification: 0.9791300296783447\n",
      "Epoch [34/100], Step [51/57], Loss: 0.0000\n",
      "Training classification: 0.9789850115776062\n"
     ]
    },
    {
     "data": {
      "application/vnd.jupyter.widget-view+json": {
       "model_id": "089999e7909f4d2ebb59d94d15dbfbc0",
       "version_major": 2,
       "version_minor": 0
      },
      "text/plain": [
       "0it [00:00, ?it/s]"
      ]
     },
     "metadata": {},
     "output_type": "display_data"
    },
    {
     "name": "stdout",
     "output_type": "stream",
     "text": [
      "Epoch [34/100], Step [1/7], Loss: 0.0000\n",
      "Validation classification: 0.9729250073432922\n",
      "Epoch 34/100, Train Loss: 2.6236090059427896e-05, Val Loss: 2.4609701670539964e-05\n"
     ]
    },
    {
     "data": {
      "application/vnd.jupyter.widget-view+json": {
       "model_id": "a122c71d37a34eadb07cf1fb5e304970",
       "version_major": 2,
       "version_minor": 0
      },
      "text/plain": [
       "0it [00:00, ?it/s]"
      ]
     },
     "metadata": {},
     "output_type": "display_data"
    },
    {
     "name": "stdout",
     "output_type": "stream",
     "text": [
      "Epoch [35/100], Step [1/57], Loss: 0.0000\n",
      "Training classification: 0.9744150042533875\n",
      "Epoch [35/100], Step [11/57], Loss: 0.0000\n",
      "Training classification: 0.976544976234436\n",
      "Epoch [35/100], Step [21/57], Loss: 0.0000\n",
      "Training classification: 0.9834399819374084\n",
      "Epoch [35/100], Step [31/57], Loss: 0.0000\n",
      "Training classification: 0.9767500162124634\n",
      "Epoch [35/100], Step [41/57], Loss: 0.0000\n",
      "Training classification: 0.9770150184631348\n",
      "Epoch [35/100], Step [51/57], Loss: 0.0000\n",
      "Training classification: 0.9746599793434143\n"
     ]
    },
    {
     "data": {
      "application/vnd.jupyter.widget-view+json": {
       "model_id": "0505e4d44ea241018bac161bff5dfea9",
       "version_major": 2,
       "version_minor": 0
      },
      "text/plain": [
       "0it [00:00, ?it/s]"
      ]
     },
     "metadata": {},
     "output_type": "display_data"
    },
    {
     "name": "stdout",
     "output_type": "stream",
     "text": [
      "Epoch [35/100], Step [1/7], Loss: 0.0000\n",
      "Validation classification: 0.9729250073432922\n",
      "Epoch 35/100, Train Loss: 2.6153783980126926e-05, Val Loss: 2.4576169380452484e-05\n"
     ]
    },
    {
     "data": {
      "application/vnd.jupyter.widget-view+json": {
       "model_id": "0abb83cab34b43e4b659df7d325b6e6d",
       "version_major": 2,
       "version_minor": 0
      },
      "text/plain": [
       "0it [00:00, ?it/s]"
      ]
     },
     "metadata": {},
     "output_type": "display_data"
    },
    {
     "name": "stdout",
     "output_type": "stream",
     "text": [
      "Epoch [36/100], Step [1/57], Loss: 0.0000\n",
      "Training classification: 0.9749749898910522\n",
      "Epoch [36/100], Step [11/57], Loss: 0.0000\n",
      "Training classification: 0.979449987411499\n",
      "Epoch [36/100], Step [21/57], Loss: 0.0000\n",
      "Training classification: 0.9777349829673767\n",
      "Epoch [36/100], Step [31/57], Loss: 0.0000\n",
      "Training classification: 0.9753599762916565\n",
      "Epoch [36/100], Step [41/57], Loss: 0.0000\n",
      "Training classification: 0.976830005645752\n",
      "Epoch [36/100], Step [51/57], Loss: 0.0000\n",
      "Training classification: 0.9816100001335144\n"
     ]
    },
    {
     "data": {
      "application/vnd.jupyter.widget-view+json": {
       "model_id": "07c0907e72ac48aebd005fc424c82c69",
       "version_major": 2,
       "version_minor": 0
      },
      "text/plain": [
       "0it [00:00, ?it/s]"
      ]
     },
     "metadata": {},
     "output_type": "display_data"
    },
    {
     "name": "stdout",
     "output_type": "stream",
     "text": [
      "Epoch [36/100], Step [1/7], Loss: 0.0000\n",
      "Validation classification: 0.9729250073432922\n",
      "Epoch 36/100, Train Loss: 2.6217630731576048e-05, Val Loss: 2.4562548268087475e-05\n"
     ]
    },
    {
     "data": {
      "application/vnd.jupyter.widget-view+json": {
       "model_id": "ab831fcd87184fbdba180717b016a55d",
       "version_major": 2,
       "version_minor": 0
      },
      "text/plain": [
       "0it [00:00, ?it/s]"
      ]
     },
     "metadata": {},
     "output_type": "display_data"
    },
    {
     "name": "stdout",
     "output_type": "stream",
     "text": [
      "Epoch [37/100], Step [1/57], Loss: 0.0000\n",
      "Training classification: 0.9725350141525269\n",
      "Epoch [37/100], Step [11/57], Loss: 0.0001\n",
      "Training classification: 0.976170003414154\n",
      "Epoch [37/100], Step [21/57], Loss: 0.0000\n",
      "Training classification: 0.9767550230026245\n",
      "Epoch [37/100], Step [31/57], Loss: 0.0000\n",
      "Training classification: 0.9738600254058838\n",
      "Epoch [37/100], Step [41/57], Loss: 0.0000\n",
      "Training classification: 0.9769999980926514\n",
      "Epoch [37/100], Step [51/57], Loss: 0.0000\n",
      "Training classification: 0.9754949808120728\n"
     ]
    },
    {
     "data": {
      "application/vnd.jupyter.widget-view+json": {
       "model_id": "0409d8d98f9c418ebfbaf72104aeaaf3",
       "version_major": 2,
       "version_minor": 0
      },
      "text/plain": [
       "0it [00:00, ?it/s]"
      ]
     },
     "metadata": {},
     "output_type": "display_data"
    },
    {
     "name": "stdout",
     "output_type": "stream",
     "text": [
      "Epoch [37/100], Step [1/7], Loss: 0.0000\n",
      "Validation classification: 0.9729250073432922\n",
      "Epoch 37/100, Train Loss: 2.59742849888617e-05, Val Loss: 2.4541298833875252e-05\n"
     ]
    },
    {
     "data": {
      "application/vnd.jupyter.widget-view+json": {
       "model_id": "d774a10a376647679b35e451c0c73aad",
       "version_major": 2,
       "version_minor": 0
      },
      "text/plain": [
       "0it [00:00, ?it/s]"
      ]
     },
     "metadata": {},
     "output_type": "display_data"
    },
    {
     "name": "stdout",
     "output_type": "stream",
     "text": [
      "Epoch [38/100], Step [1/57], Loss: 0.0000\n",
      "Training classification: 0.97639000415802\n",
      "Epoch [38/100], Step [11/57], Loss: 0.0000\n",
      "Training classification: 0.9736649990081787\n",
      "Epoch [38/100], Step [21/57], Loss: 0.0000\n",
      "Training classification: 0.9782750010490417\n",
      "Epoch [38/100], Step [31/57], Loss: 0.0000\n",
      "Training classification: 0.9784799814224243\n",
      "Epoch [38/100], Step [41/57], Loss: 0.0000\n",
      "Training classification: 0.9786350131034851\n",
      "Epoch [38/100], Step [51/57], Loss: 0.0000\n",
      "Training classification: 0.983115017414093\n"
     ]
    },
    {
     "data": {
      "application/vnd.jupyter.widget-view+json": {
       "model_id": "91d518a55ead4f86b8ccd1fdac381d5d",
       "version_major": 2,
       "version_minor": 0
      },
      "text/plain": [
       "0it [00:00, ?it/s]"
      ]
     },
     "metadata": {},
     "output_type": "display_data"
    },
    {
     "name": "stdout",
     "output_type": "stream",
     "text": [
      "Epoch [38/100], Step [1/7], Loss: 0.0000\n",
      "Validation classification: 0.9729250073432922\n",
      "Epoch 38/100, Train Loss: 2.594354453066715e-05, Val Loss: 2.4551337316682164e-05\n"
     ]
    },
    {
     "data": {
      "application/vnd.jupyter.widget-view+json": {
       "model_id": "6236f23931e64df382fd87ffbf11a717",
       "version_major": 2,
       "version_minor": 0
      },
      "text/plain": [
       "0it [00:00, ?it/s]"
      ]
     },
     "metadata": {},
     "output_type": "display_data"
    },
    {
     "name": "stdout",
     "output_type": "stream",
     "text": [
      "Epoch [39/100], Step [1/57], Loss: 0.0000\n",
      "Training classification: 0.9771350026130676\n",
      "Epoch [39/100], Step [11/57], Loss: 0.0000\n",
      "Training classification: 0.977744996547699\n",
      "Epoch [39/100], Step [21/57], Loss: 0.0000\n",
      "Training classification: 0.9790949821472168\n",
      "Epoch [39/100], Step [31/57], Loss: 0.0000\n",
      "Training classification: 0.9751099944114685\n",
      "Epoch [39/100], Step [41/57], Loss: 0.0000\n",
      "Training classification: 0.9764999747276306\n",
      "Epoch [39/100], Step [51/57], Loss: 0.0000\n",
      "Training classification: 0.9767799973487854\n"
     ]
    },
    {
     "data": {
      "application/vnd.jupyter.widget-view+json": {
       "model_id": "769d47214a7c4a52a7e7424241f3a942",
       "version_major": 2,
       "version_minor": 0
      },
      "text/plain": [
       "0it [00:00, ?it/s]"
      ]
     },
     "metadata": {},
     "output_type": "display_data"
    },
    {
     "name": "stdout",
     "output_type": "stream",
     "text": [
      "Epoch [39/100], Step [1/7], Loss: 0.0000\n",
      "Validation classification: 0.9729250073432922\n",
      "Epoch 39/100, Train Loss: 2.5909743319636236e-05, Val Loss: 2.4545612697173575e-05\n"
     ]
    },
    {
     "data": {
      "application/vnd.jupyter.widget-view+json": {
       "model_id": "b9454c711ce248c5a205dc90466c2e76",
       "version_major": 2,
       "version_minor": 0
      },
      "text/plain": [
       "0it [00:00, ?it/s]"
      ]
     },
     "metadata": {},
     "output_type": "display_data"
    },
    {
     "name": "stdout",
     "output_type": "stream",
     "text": [
      "Epoch [40/100], Step [1/57], Loss: 0.0000\n",
      "Training classification: 0.9753900170326233\n",
      "Epoch [40/100], Step [11/57], Loss: 0.0000\n",
      "Training classification: 0.975380003452301\n",
      "Epoch [40/100], Step [21/57], Loss: 0.0000\n",
      "Training classification: 0.9741299748420715\n",
      "Epoch [40/100], Step [31/57], Loss: 0.0000\n",
      "Training classification: 0.9769650101661682\n",
      "Epoch [40/100], Step [41/57], Loss: 0.0000\n",
      "Training classification: 0.9757099747657776\n",
      "Epoch [40/100], Step [51/57], Loss: 0.0000\n",
      "Training classification: 0.9735199809074402\n"
     ]
    },
    {
     "data": {
      "application/vnd.jupyter.widget-view+json": {
       "model_id": "288b5457f1164da8865d9df4e0f8ef66",
       "version_major": 2,
       "version_minor": 0
      },
      "text/plain": [
       "0it [00:00, ?it/s]"
      ]
     },
     "metadata": {},
     "output_type": "display_data"
    },
    {
     "name": "stdout",
     "output_type": "stream",
     "text": [
      "Epoch [40/100], Step [1/7], Loss: 0.0000\n",
      "Validation classification: 0.9729250073432922\n",
      "Epoch 40/100, Train Loss: 2.5740509412124785e-05, Val Loss: 2.4544417880991076e-05\n"
     ]
    },
    {
     "data": {
      "application/vnd.jupyter.widget-view+json": {
       "model_id": "2f0221662bd64973bec40fe0089a2b07",
       "version_major": 2,
       "version_minor": 0
      },
      "text/plain": [
       "0it [00:00, ?it/s]"
      ]
     },
     "metadata": {},
     "output_type": "display_data"
    },
    {
     "name": "stdout",
     "output_type": "stream",
     "text": [
      "Epoch [41/100], Step [1/57], Loss: 0.0000\n",
      "Training classification: 0.9798349738121033\n",
      "Epoch [41/100], Step [11/57], Loss: 0.0000\n",
      "Training classification: 0.9686449766159058\n",
      "Epoch [41/100], Step [21/57], Loss: 0.0000\n",
      "Training classification: 0.974590003490448\n",
      "Epoch [41/100], Step [31/57], Loss: 0.0000\n",
      "Training classification: 0.9764450192451477\n",
      "Epoch [41/100], Step [41/57], Loss: 0.0000\n",
      "Training classification: 0.9815800189971924\n",
      "Epoch [41/100], Step [51/57], Loss: 0.0000\n",
      "Training classification: 0.9806150197982788\n"
     ]
    },
    {
     "data": {
      "application/vnd.jupyter.widget-view+json": {
       "model_id": "6981ceaeaeab45ef94385ae3db4ee563",
       "version_major": 2,
       "version_minor": 0
      },
      "text/plain": [
       "0it [00:00, ?it/s]"
      ]
     },
     "metadata": {},
     "output_type": "display_data"
    },
    {
     "name": "stdout",
     "output_type": "stream",
     "text": [
      "Epoch [41/100], Step [1/7], Loss: 0.0000\n",
      "Validation classification: 0.9729250073432922\n",
      "Epoch 41/100, Train Loss: 2.577930973258621e-05, Val Loss: 2.4516709994973746e-05\n"
     ]
    },
    {
     "data": {
      "application/vnd.jupyter.widget-view+json": {
       "model_id": "21b3ede2fac843e9a27ddb1b8a63535e",
       "version_major": 2,
       "version_minor": 0
      },
      "text/plain": [
       "0it [00:00, ?it/s]"
      ]
     },
     "metadata": {},
     "output_type": "display_data"
    },
    {
     "name": "stdout",
     "output_type": "stream",
     "text": [
      "Epoch [42/100], Step [1/57], Loss: 0.0000\n",
      "Training classification: 0.9761750102043152\n",
      "Epoch [42/100], Step [11/57], Loss: 0.0000\n",
      "Training classification: 0.9773349761962891\n",
      "Epoch [42/100], Step [21/57], Loss: 0.0000\n",
      "Training classification: 0.977275013923645\n",
      "Epoch [42/100], Step [31/57], Loss: 0.0000\n",
      "Training classification: 0.9767850041389465\n",
      "Epoch [42/100], Step [41/57], Loss: 0.0000\n",
      "Training classification: 0.9713749885559082\n",
      "Epoch [42/100], Step [51/57], Loss: 0.0000\n",
      "Training classification: 0.9740650057792664\n"
     ]
    },
    {
     "data": {
      "application/vnd.jupyter.widget-view+json": {
       "model_id": "95f6eb49983d44d0abf7beb58feadec4",
       "version_major": 2,
       "version_minor": 0
      },
      "text/plain": [
       "0it [00:00, ?it/s]"
      ]
     },
     "metadata": {},
     "output_type": "display_data"
    },
    {
     "name": "stdout",
     "output_type": "stream",
     "text": [
      "Epoch [42/100], Step [1/7], Loss: 0.0000\n",
      "Validation classification: 0.9729250073432922\n",
      "Epoch 42/100, Train Loss: 2.5690255314290417e-05, Val Loss: 2.4515341595231022e-05\n"
     ]
    },
    {
     "data": {
      "application/vnd.jupyter.widget-view+json": {
       "model_id": "2d31d863c33b4f04aba56839a919e35a",
       "version_major": 2,
       "version_minor": 0
      },
      "text/plain": [
       "0it [00:00, ?it/s]"
      ]
     },
     "metadata": {},
     "output_type": "display_data"
    },
    {
     "name": "stdout",
     "output_type": "stream",
     "text": [
      "Epoch [43/100], Step [1/57], Loss: 0.0000\n",
      "Training classification: 0.9753199815750122\n",
      "Epoch [43/100], Step [11/57], Loss: 0.0000\n",
      "Training classification: 0.9758350253105164\n",
      "Epoch [43/100], Step [21/57], Loss: 0.0000\n",
      "Training classification: 0.9711750149726868\n",
      "Epoch [43/100], Step [31/57], Loss: 0.0000\n",
      "Training classification: 0.9778299927711487\n",
      "Epoch [43/100], Step [41/57], Loss: 0.0000\n",
      "Training classification: 0.9841799736022949\n",
      "Epoch [43/100], Step [51/57], Loss: 0.0000\n",
      "Training classification: 0.9775099754333496\n"
     ]
    },
    {
     "data": {
      "application/vnd.jupyter.widget-view+json": {
       "model_id": "a654ac9fdf054f2a9f66ba88678ebcab",
       "version_major": 2,
       "version_minor": 0
      },
      "text/plain": [
       "0it [00:00, ?it/s]"
      ]
     },
     "metadata": {},
     "output_type": "display_data"
    },
    {
     "name": "stdout",
     "output_type": "stream",
     "text": [
      "Epoch [43/100], Step [1/7], Loss: 0.0000\n",
      "Validation classification: 0.9729250073432922\n",
      "Epoch 43/100, Train Loss: 2.6036227673262546e-05, Val Loss: 2.4515053935049635e-05\n"
     ]
    },
    {
     "data": {
      "application/vnd.jupyter.widget-view+json": {
       "model_id": "61694703b098432b932208ff3953bd57",
       "version_major": 2,
       "version_minor": 0
      },
      "text/plain": [
       "0it [00:00, ?it/s]"
      ]
     },
     "metadata": {},
     "output_type": "display_data"
    },
    {
     "name": "stdout",
     "output_type": "stream",
     "text": [
      "Epoch [44/100], Step [1/57], Loss: 0.0000\n",
      "Training classification: 0.9768499732017517\n",
      "Epoch [44/100], Step [11/57], Loss: 0.0000\n",
      "Training classification: 0.9766550064086914\n",
      "Epoch [44/100], Step [21/57], Loss: 0.0000\n",
      "Training classification: 0.9692000150680542\n",
      "Epoch [44/100], Step [31/57], Loss: 0.0000\n",
      "Training classification: 0.9779000282287598\n",
      "Epoch [44/100], Step [41/57], Loss: 0.0000\n",
      "Training classification: 0.9769399762153625\n",
      "Epoch [44/100], Step [51/57], Loss: 0.0001\n",
      "Training classification: 0.9742100238800049\n"
     ]
    },
    {
     "data": {
      "application/vnd.jupyter.widget-view+json": {
       "model_id": "aa2c76269c324dcabbe04434e8bfd76a",
       "version_major": 2,
       "version_minor": 0
      },
      "text/plain": [
       "0it [00:00, ?it/s]"
      ]
     },
     "metadata": {},
     "output_type": "display_data"
    },
    {
     "name": "stdout",
     "output_type": "stream",
     "text": [
      "Epoch [44/100], Step [1/7], Loss: 0.0000\n",
      "Validation classification: 0.9729250073432922\n",
      "Epoch 44/100, Train Loss: 2.5845453165585925e-05, Val Loss: 2.4508897435485517e-05\n"
     ]
    },
    {
     "data": {
      "application/vnd.jupyter.widget-view+json": {
       "model_id": "cce5f37fb7634bd99c1020a005a26b69",
       "version_major": 2,
       "version_minor": 0
      },
      "text/plain": [
       "0it [00:00, ?it/s]"
      ]
     },
     "metadata": {},
     "output_type": "display_data"
    },
    {
     "name": "stdout",
     "output_type": "stream",
     "text": [
      "Epoch [45/100], Step [1/57], Loss: 0.0000\n",
      "Training classification: 0.9804250001907349\n",
      "Epoch [45/100], Step [11/57], Loss: 0.0000\n",
      "Training classification: 0.9809799790382385\n",
      "Epoch [45/100], Step [21/57], Loss: 0.0000\n",
      "Training classification: 0.9755200147628784\n",
      "Epoch [45/100], Step [31/57], Loss: 0.0000\n",
      "Training classification: 0.9730650186538696\n",
      "Epoch [45/100], Step [41/57], Loss: 0.0000\n",
      "Training classification: 0.979960024356842\n",
      "Epoch [45/100], Step [51/57], Loss: 0.0000\n",
      "Training classification: 0.9767150282859802\n"
     ]
    },
    {
     "data": {
      "application/vnd.jupyter.widget-view+json": {
       "model_id": "90feef818b2e4ce291bc7dc3cf25b90f",
       "version_major": 2,
       "version_minor": 0
      },
      "text/plain": [
       "0it [00:00, ?it/s]"
      ]
     },
     "metadata": {},
     "output_type": "display_data"
    },
    {
     "name": "stdout",
     "output_type": "stream",
     "text": [
      "Epoch [45/100], Step [1/7], Loss: 0.0000\n",
      "Validation classification: 0.9729250073432922\n",
      "Epoch 45/100, Train Loss: 2.552246930638814e-05, Val Loss: 2.4484023794814546e-05\n"
     ]
    },
    {
     "data": {
      "application/vnd.jupyter.widget-view+json": {
       "model_id": "b067db959ff24c3783444c871eac413d",
       "version_major": 2,
       "version_minor": 0
      },
      "text/plain": [
       "0it [00:00, ?it/s]"
      ]
     },
     "metadata": {},
     "output_type": "display_data"
    },
    {
     "name": "stdout",
     "output_type": "stream",
     "text": [
      "Epoch [46/100], Step [1/57], Loss: 0.0001\n",
      "Training classification: 0.9752600193023682\n",
      "Epoch [46/100], Step [11/57], Loss: 0.0000\n",
      "Training classification: 0.9760599732398987\n",
      "Epoch [46/100], Step [21/57], Loss: 0.0000\n",
      "Training classification: 0.976639986038208\n",
      "Epoch [46/100], Step [31/57], Loss: 0.0000\n",
      "Training classification: 0.9762750267982483\n",
      "Epoch [46/100], Step [41/57], Loss: 0.0000\n",
      "Training classification: 0.9747899770736694\n",
      "Epoch [46/100], Step [51/57], Loss: 0.0000\n",
      "Training classification: 0.9768949747085571\n"
     ]
    },
    {
     "data": {
      "application/vnd.jupyter.widget-view+json": {
       "model_id": "896d53c014364e449b9814343dd16b13",
       "version_major": 2,
       "version_minor": 0
      },
      "text/plain": [
       "0it [00:00, ?it/s]"
      ]
     },
     "metadata": {},
     "output_type": "display_data"
    },
    {
     "name": "stdout",
     "output_type": "stream",
     "text": [
      "Epoch [46/100], Step [1/7], Loss: 0.0000\n",
      "Validation classification: 0.9729250073432922\n",
      "Epoch 46/100, Train Loss: 2.5441363999434224e-05, Val Loss: 2.449404148917113e-05\n"
     ]
    },
    {
     "data": {
      "application/vnd.jupyter.widget-view+json": {
       "model_id": "9e1387ce868c4fb788bd9e6044e4d193",
       "version_major": 2,
       "version_minor": 0
      },
      "text/plain": [
       "0it [00:00, ?it/s]"
      ]
     },
     "metadata": {},
     "output_type": "display_data"
    },
    {
     "name": "stdout",
     "output_type": "stream",
     "text": [
      "Epoch [47/100], Step [1/57], Loss: 0.0000\n",
      "Training classification: 0.9776300191879272\n",
      "Epoch [47/100], Step [11/57], Loss: 0.0000\n",
      "Training classification: 0.9793649911880493\n",
      "Epoch [47/100], Step [21/57], Loss: 0.0000\n",
      "Training classification: 0.978285014629364\n",
      "Epoch [47/100], Step [31/57], Loss: 0.0000\n",
      "Training classification: 0.9748299717903137\n",
      "Epoch [47/100], Step [41/57], Loss: 0.0000\n",
      "Training classification: 0.9751049876213074\n",
      "Epoch [47/100], Step [51/57], Loss: 0.0001\n",
      "Training classification: 0.9715549945831299\n"
     ]
    },
    {
     "data": {
      "application/vnd.jupyter.widget-view+json": {
       "model_id": "edd6d86d05434db3bc81cecbd44f5a6a",
       "version_major": 2,
       "version_minor": 0
      },
      "text/plain": [
       "0it [00:00, ?it/s]"
      ]
     },
     "metadata": {},
     "output_type": "display_data"
    },
    {
     "name": "stdout",
     "output_type": "stream",
     "text": [
      "Epoch [47/100], Step [1/7], Loss: 0.0000\n",
      "Validation classification: 0.9729250073432922\n",
      "Epoch 47/100, Train Loss: 2.6276037683521536e-05, Val Loss: 2.4507058956909793e-05\n"
     ]
    },
    {
     "data": {
      "application/vnd.jupyter.widget-view+json": {
       "model_id": "03d753f61015445e89051d866ad3f54e",
       "version_major": 2,
       "version_minor": 0
      },
      "text/plain": [
       "0it [00:00, ?it/s]"
      ]
     },
     "metadata": {},
     "output_type": "display_data"
    },
    {
     "name": "stdout",
     "output_type": "stream",
     "text": [
      "Epoch [48/100], Step [1/57], Loss: 0.0000\n",
      "Training classification: 0.9765700101852417\n",
      "Epoch [48/100], Step [11/57], Loss: 0.0000\n",
      "Training classification: 0.9780349731445312\n",
      "Epoch [48/100], Step [21/57], Loss: 0.0000\n",
      "Training classification: 0.9780550003051758\n",
      "Epoch [48/100], Step [31/57], Loss: 0.0000\n",
      "Training classification: 0.9779700040817261\n",
      "Epoch [48/100], Step [41/57], Loss: 0.0000\n",
      "Training classification: 0.978564977645874\n",
      "Epoch [48/100], Step [51/57], Loss: 0.0000\n",
      "Training classification: 0.9754049777984619\n"
     ]
    },
    {
     "data": {
      "application/vnd.jupyter.widget-view+json": {
       "model_id": "25ca9471c16347c28920da35bdc52f89",
       "version_major": 2,
       "version_minor": 0
      },
      "text/plain": [
       "0it [00:00, ?it/s]"
      ]
     },
     "metadata": {},
     "output_type": "display_data"
    },
    {
     "name": "stdout",
     "output_type": "stream",
     "text": [
      "Epoch [48/100], Step [1/7], Loss: 0.0000\n",
      "Validation classification: 0.9729250073432922\n",
      "Epoch 48/100, Train Loss: 2.56473749208166e-05, Val Loss: 2.4467287922951592e-05\n"
     ]
    },
    {
     "data": {
      "application/vnd.jupyter.widget-view+json": {
       "model_id": "f23a7b0f7d67484a9283b0cba51c300a",
       "version_major": 2,
       "version_minor": 0
      },
      "text/plain": [
       "0it [00:00, ?it/s]"
      ]
     },
     "metadata": {},
     "output_type": "display_data"
    },
    {
     "name": "stdout",
     "output_type": "stream",
     "text": [
      "Epoch [49/100], Step [1/57], Loss: 0.0000\n",
      "Training classification: 0.9727650284767151\n",
      "Epoch [49/100], Step [11/57], Loss: 0.0000\n",
      "Training classification: 0.9800249934196472\n",
      "Epoch [49/100], Step [21/57], Loss: 0.0000\n",
      "Training classification: 0.9758599996566772\n",
      "Epoch [49/100], Step [31/57], Loss: 0.0000\n",
      "Training classification: 0.9768800139427185\n",
      "Epoch [49/100], Step [41/57], Loss: 0.0000\n",
      "Training classification: 0.9759100079536438\n",
      "Epoch [49/100], Step [51/57], Loss: 0.0000\n",
      "Training classification: 0.976705014705658\n"
     ]
    },
    {
     "data": {
      "application/vnd.jupyter.widget-view+json": {
       "model_id": "19d7f70552a14f01839c467b3649e400",
       "version_major": 2,
       "version_minor": 0
      },
      "text/plain": [
       "0it [00:00, ?it/s]"
      ]
     },
     "metadata": {},
     "output_type": "display_data"
    },
    {
     "name": "stdout",
     "output_type": "stream",
     "text": [
      "Epoch [49/100], Step [1/7], Loss: 0.0000\n",
      "Validation classification: 0.9729250073432922\n",
      "Epoch 49/100, Train Loss: 2.5348392387457896e-05, Val Loss: 2.4489288469859665e-05\n"
     ]
    },
    {
     "data": {
      "application/vnd.jupyter.widget-view+json": {
       "model_id": "c0e46d0c581249c78765b9cf1a14dcc9",
       "version_major": 2,
       "version_minor": 0
      },
      "text/plain": [
       "0it [00:00, ?it/s]"
      ]
     },
     "metadata": {},
     "output_type": "display_data"
    },
    {
     "name": "stdout",
     "output_type": "stream",
     "text": [
      "Epoch [50/100], Step [1/57], Loss: 0.0000\n",
      "Training classification: 0.9756749868392944\n",
      "Epoch [50/100], Step [11/57], Loss: 0.0000\n",
      "Training classification: 0.9762799739837646\n",
      "Epoch [50/100], Step [21/57], Loss: 0.0000\n",
      "Training classification: 0.9720399975776672\n",
      "Epoch [50/100], Step [31/57], Loss: 0.0000\n",
      "Training classification: 0.9748349785804749\n",
      "Epoch [50/100], Step [41/57], Loss: 0.0000\n",
      "Training classification: 0.975974977016449\n",
      "Epoch [50/100], Step [51/57], Loss: 0.0000\n",
      "Training classification: 0.9746000170707703\n"
     ]
    },
    {
     "data": {
      "application/vnd.jupyter.widget-view+json": {
       "model_id": "c046a2655054469290475be8d9f72046",
       "version_major": 2,
       "version_minor": 0
      },
      "text/plain": [
       "0it [00:00, ?it/s]"
      ]
     },
     "metadata": {},
     "output_type": "display_data"
    },
    {
     "name": "stdout",
     "output_type": "stream",
     "text": [
      "Epoch [50/100], Step [1/7], Loss: 0.0000\n",
      "Validation classification: 0.9729250073432922\n",
      "Epoch 50/100, Train Loss: 2.55318168695483e-05, Val Loss: 2.4470048369299286e-05\n"
     ]
    },
    {
     "data": {
      "application/vnd.jupyter.widget-view+json": {
       "model_id": "3eba49e8fe484b13b66926d343be3b02",
       "version_major": 2,
       "version_minor": 0
      },
      "text/plain": [
       "0it [00:00, ?it/s]"
      ]
     },
     "metadata": {},
     "output_type": "display_data"
    },
    {
     "name": "stdout",
     "output_type": "stream",
     "text": [
      "Epoch [51/100], Step [1/57], Loss: 0.0000\n",
      "Training classification: 0.976544976234436\n",
      "Epoch [51/100], Step [11/57], Loss: 0.0000\n",
      "Training classification: 0.9792050123214722\n",
      "Epoch [51/100], Step [21/57], Loss: 0.0000\n",
      "Training classification: 0.9755449891090393\n",
      "Epoch [51/100], Step [31/57], Loss: 0.0000\n",
      "Training classification: 0.9814000129699707\n",
      "Epoch [51/100], Step [41/57], Loss: 0.0000\n",
      "Training classification: 0.975849986076355\n",
      "Epoch [51/100], Step [51/57], Loss: 0.0000\n",
      "Training classification: 0.9787650108337402\n"
     ]
    },
    {
     "data": {
      "application/vnd.jupyter.widget-view+json": {
       "model_id": "7c9e995f7b544a1d8cb677aeee417c06",
       "version_major": 2,
       "version_minor": 0
      },
      "text/plain": [
       "0it [00:00, ?it/s]"
      ]
     },
     "metadata": {},
     "output_type": "display_data"
    },
    {
     "name": "stdout",
     "output_type": "stream",
     "text": [
      "Epoch [51/100], Step [1/7], Loss: 0.0000\n",
      "Validation classification: 0.9729250073432922\n",
      "Epoch 51/100, Train Loss: 2.5229311990858006e-05, Val Loss: 2.449354542477522e-05\n"
     ]
    },
    {
     "data": {
      "application/vnd.jupyter.widget-view+json": {
       "model_id": "24e3ee31d4534720a9c7040f7c8e08c6",
       "version_major": 2,
       "version_minor": 0
      },
      "text/plain": [
       "0it [00:00, ?it/s]"
      ]
     },
     "metadata": {},
     "output_type": "display_data"
    },
    {
     "name": "stdout",
     "output_type": "stream",
     "text": [
      "Epoch [52/100], Step [1/57], Loss: 0.0000\n",
      "Training classification: 0.9733250141143799\n",
      "Epoch [52/100], Step [11/57], Loss: 0.0000\n",
      "Training classification: 0.9781500101089478\n",
      "Epoch [52/100], Step [21/57], Loss: 0.0000\n",
      "Training classification: 0.9741399884223938\n",
      "Epoch [52/100], Step [31/57], Loss: 0.0000\n",
      "Training classification: 0.9755949974060059\n",
      "Epoch [52/100], Step [41/57], Loss: 0.0000\n",
      "Training classification: 0.9751949906349182\n",
      "Epoch [52/100], Step [51/57], Loss: 0.0000\n",
      "Training classification: 0.976544976234436\n"
     ]
    },
    {
     "data": {
      "application/vnd.jupyter.widget-view+json": {
       "model_id": "4119f065238d4f0db0152e5981b6ccb9",
       "version_major": 2,
       "version_minor": 0
      },
      "text/plain": [
       "0it [00:00, ?it/s]"
      ]
     },
     "metadata": {},
     "output_type": "display_data"
    },
    {
     "name": "stdout",
     "output_type": "stream",
     "text": [
      "Epoch [52/100], Step [1/7], Loss: 0.0000\n",
      "Validation classification: 0.9729250073432922\n",
      "Epoch 52/100, Train Loss: 2.5203490000230406e-05, Val Loss: 2.4459163666636285e-05\n"
     ]
    },
    {
     "data": {
      "application/vnd.jupyter.widget-view+json": {
       "model_id": "c11842aa57634b5ba6cffe3726f5eb72",
       "version_major": 2,
       "version_minor": 0
      },
      "text/plain": [
       "0it [00:00, ?it/s]"
      ]
     },
     "metadata": {},
     "output_type": "display_data"
    },
    {
     "name": "stdout",
     "output_type": "stream",
     "text": [
      "Epoch [53/100], Step [1/57], Loss: 0.0000\n",
      "Training classification: 0.978879988193512\n",
      "Epoch [53/100], Step [11/57], Loss: 0.0000\n",
      "Training classification: 0.9731299877166748\n",
      "Epoch [53/100], Step [21/57], Loss: 0.0000\n",
      "Training classification: 0.9770500063896179\n",
      "Epoch [53/100], Step [31/57], Loss: 0.0000\n",
      "Training classification: 0.9816499948501587\n",
      "Epoch [53/100], Step [41/57], Loss: 0.0000\n",
      "Training classification: 0.9734100103378296\n",
      "Epoch [53/100], Step [51/57], Loss: 0.0000\n",
      "Training classification: 0.980650007724762\n"
     ]
    },
    {
     "data": {
      "application/vnd.jupyter.widget-view+json": {
       "model_id": "8b3d46fae4394afeb66de38567cdd679",
       "version_major": 2,
       "version_minor": 0
      },
      "text/plain": [
       "0it [00:00, ?it/s]"
      ]
     },
     "metadata": {},
     "output_type": "display_data"
    },
    {
     "name": "stdout",
     "output_type": "stream",
     "text": [
      "Epoch [53/100], Step [1/7], Loss: 0.0000\n",
      "Validation classification: 0.9729250073432922\n",
      "Epoch 53/100, Train Loss: 2.551009596604752e-05, Val Loss: 2.4469667940658318e-05\n"
     ]
    },
    {
     "data": {
      "application/vnd.jupyter.widget-view+json": {
       "model_id": "0bdba364ca204731a9404fae1ed3d275",
       "version_major": 2,
       "version_minor": 0
      },
      "text/plain": [
       "0it [00:00, ?it/s]"
      ]
     },
     "metadata": {},
     "output_type": "display_data"
    },
    {
     "name": "stdout",
     "output_type": "stream",
     "text": [
      "Epoch [54/100], Step [1/57], Loss: 0.0000\n",
      "Training classification: 0.980525016784668\n",
      "Epoch [54/100], Step [11/57], Loss: 0.0000\n",
      "Training classification: 0.9722350239753723\n",
      "Epoch [54/100], Step [21/57], Loss: 0.0000\n",
      "Training classification: 0.9806550145149231\n",
      "Epoch [54/100], Step [31/57], Loss: 0.0000\n",
      "Training classification: 0.9740549921989441\n",
      "Epoch [54/100], Step [41/57], Loss: 0.0000\n",
      "Training classification: 0.9706950187683105\n",
      "Epoch [54/100], Step [51/57], Loss: 0.0000\n",
      "Training classification: 0.9761099815368652\n"
     ]
    },
    {
     "data": {
      "application/vnd.jupyter.widget-view+json": {
       "model_id": "b13db21e8c2e47f99c9317ed174f487a",
       "version_major": 2,
       "version_minor": 0
      },
      "text/plain": [
       "0it [00:00, ?it/s]"
      ]
     },
     "metadata": {},
     "output_type": "display_data"
    },
    {
     "name": "stdout",
     "output_type": "stream",
     "text": [
      "Epoch [54/100], Step [1/7], Loss: 0.0000\n",
      "Validation classification: 0.9729250073432922\n",
      "Epoch 54/100, Train Loss: 2.5407138708575522e-05, Val Loss: 2.4476902451299664e-05\n"
     ]
    },
    {
     "data": {
      "application/vnd.jupyter.widget-view+json": {
       "model_id": "7aa828b474e14143b16a868a10bfdb60",
       "version_major": 2,
       "version_minor": 0
      },
      "text/plain": [
       "0it [00:00, ?it/s]"
      ]
     },
     "metadata": {},
     "output_type": "display_data"
    },
    {
     "name": "stdout",
     "output_type": "stream",
     "text": [
      "Epoch [55/100], Step [1/57], Loss: 0.0000\n",
      "Training classification: 0.9772199988365173\n",
      "Epoch [55/100], Step [11/57], Loss: 0.0000\n",
      "Training classification: 0.9727849960327148\n",
      "Epoch [55/100], Step [21/57], Loss: 0.0000\n",
      "Training classification: 0.9760149717330933\n",
      "Epoch [55/100], Step [31/57], Loss: 0.0000\n",
      "Training classification: 0.9718149900436401\n",
      "Epoch [55/100], Step [41/57], Loss: 0.0000\n",
      "Training classification: 0.9763200283050537\n",
      "Epoch [55/100], Step [51/57], Loss: 0.0000\n",
      "Training classification: 0.9781050086021423\n"
     ]
    },
    {
     "data": {
      "application/vnd.jupyter.widget-view+json": {
       "model_id": "a6e281a3e6a04e999d1c06447e796fda",
       "version_major": 2,
       "version_minor": 0
      },
      "text/plain": [
       "0it [00:00, ?it/s]"
      ]
     },
     "metadata": {},
     "output_type": "display_data"
    }
   ],
   "source": [
    "rnn_type = 'gru'\n",
    "\n",
    "# Training\n",
    "configs[rnn_type]['pretrain'] = True\n",
    "model_gru_noquant = train_or_load_model(configs, train_loader, val_loader, rnn_type, device, quantize=False)\n",
    "configs[rnn_type]['pretrain'] = False\n",
    "\n",
    "# Evaluation\n",
    "test_preds_gru_noquant, test_loss_gru_noquant, test_accuracy_gru_noquant = evaluate_model(model_gru_noquant, test_loader, device)"
   ]
  },
  {
   "cell_type": "markdown",
   "metadata": {},
   "source": [
    "#### With Quantization:"
   ]
  },
  {
   "cell_type": "code",
   "execution_count": 24,
   "metadata": {},
   "outputs": [
    {
     "data": {
      "application/vnd.jupyter.widget-view+json": {
       "model_id": "e5b397bdfc624a50917bfef9e462cd21",
       "version_major": 2,
       "version_minor": 0
      },
      "text/plain": [
       "0it [00:00, ?it/s]"
      ]
     },
     "metadata": {},
     "output_type": "display_data"
    },
    {
     "name": "stdout",
     "output_type": "stream",
     "text": [
      "Test Loss: 1.9420794030468513e-05\n",
      "Test classification: 0.9756949033055987\n"
     ]
    }
   ],
   "source": [
    "rnn_type = 'gru'\n",
    "\n",
    "# Training\n",
    "model_gru_quant = train_or_load_model(configs, train_loader, val_loader, rnn_type, device, quantize=True)\n",
    " \n",
    "# Evaluation\n",
    "test_preds_gru_quant, test_loss_gru_quant, test_accuracy_gru_quant = evaluate_model(model_gru_quant, test_loader, device)\n",
    "\n",
    "# Export model parameters to JSON file\n",
    "export_model_parameters(model_gru_quant, f'models/SC2010_quantized_{rnn_type}_parameters.json')"
   ]
  },
  {
   "cell_type": "markdown",
   "metadata": {},
   "source": [
    "#### Percent Difference:"
   ]
  },
  {
   "cell_type": "code",
   "execution_count": null,
   "metadata": {},
   "outputs": [],
   "source": [
    "# Check results\n",
    "percent_diff_gru = mean_percent_diff(test_preds_gru_quant, test_preds_gru_noquant)\n",
    "print(f\"Mean Percent Difference between outputs (non-quantized vs quantized): {percent_diff_gru:.2f}%\")"
   ]
  },
  {
   "cell_type": "code",
   "execution_count": null,
   "metadata": {},
   "outputs": [],
   "source": []
  },
  {
   "cell_type": "code",
   "execution_count": null,
   "metadata": {},
   "outputs": [],
   "source": []
  }
 ],
 "metadata": {
  "accelerator": "GPU",
  "colab": {
   "gpuType": "T4",
   "provenance": []
  },
  "kernelspec": {
   "display_name": "Python 3 (ipykernel)",
   "language": "python",
   "name": "python3"
  },
  "language_info": {
   "codemirror_mode": {
    "name": "ipython",
    "version": 3
   },
   "file_extension": ".py",
   "mimetype": "text/x-python",
   "name": "python",
   "nbconvert_exporter": "python",
   "pygments_lexer": "ipython3",
   "version": "3.8.16"
  },
  "widgets": {
   "application/vnd.jupyter.widget-state+json": {
    "01289697a46a4749808002f2a6eaaf73": {
     "model_module": "@jupyter-widgets/controls",
     "model_module_version": "1.5.0",
     "model_name": "HTMLModel",
     "state": {
      "_dom_classes": [],
      "_model_module": "@jupyter-widgets/controls",
      "_model_module_version": "1.5.0",
      "_model_name": "HTMLModel",
      "_view_count": null,
      "_view_module": "@jupyter-widgets/controls",
      "_view_module_version": "1.5.0",
      "_view_name": "HTMLView",
      "description": "",
      "description_tooltip": null,
      "layout": "IPY_MODEL_b1f95063a92b48e0b5ca86e7a6716236",
      "placeholder": "​",
      "style": "IPY_MODEL_abf1a93ee34843578018f72eeb64a9ea",
      "value": "  0%"
     }
    },
    "04aac2c8d09544f88e1b50f7ac048ca7": {
     "model_module": "@jupyter-widgets/base",
     "model_module_version": "1.2.0",
     "model_name": "LayoutModel",
     "state": {
      "_model_module": "@jupyter-widgets/base",
      "_model_module_version": "1.2.0",
      "_model_name": "LayoutModel",
      "_view_count": null,
      "_view_module": "@jupyter-widgets/base",
      "_view_module_version": "1.2.0",
      "_view_name": "LayoutView",
      "align_content": null,
      "align_items": null,
      "align_self": null,
      "border": null,
      "bottom": null,
      "display": null,
      "flex": null,
      "flex_flow": null,
      "grid_area": null,
      "grid_auto_columns": null,
      "grid_auto_flow": null,
      "grid_auto_rows": null,
      "grid_column": null,
      "grid_gap": null,
      "grid_row": null,
      "grid_template_areas": null,
      "grid_template_columns": null,
      "grid_template_rows": null,
      "height": null,
      "justify_content": null,
      "justify_items": null,
      "left": null,
      "margin": null,
      "max_height": null,
      "max_width": null,
      "min_height": null,
      "min_width": null,
      "object_fit": null,
      "object_position": null,
      "order": null,
      "overflow": null,
      "overflow_x": null,
      "overflow_y": null,
      "padding": null,
      "right": null,
      "top": null,
      "visibility": null,
      "width": "20px"
     }
    },
    "08f0ea7c403040968f079e0e694286b7": {
     "model_module": "@jupyter-widgets/controls",
     "model_module_version": "1.5.0",
     "model_name": "DescriptionStyleModel",
     "state": {
      "_model_module": "@jupyter-widgets/controls",
      "_model_module_version": "1.5.0",
      "_model_name": "DescriptionStyleModel",
      "_view_count": null,
      "_view_module": "@jupyter-widgets/base",
      "_view_module_version": "1.2.0",
      "_view_name": "StyleView",
      "description_width": ""
     }
    },
    "18429f5771a24ae1a72150c16e7f97d3": {
     "model_module": "@jupyter-widgets/base",
     "model_module_version": "1.2.0",
     "model_name": "LayoutModel",
     "state": {
      "_model_module": "@jupyter-widgets/base",
      "_model_module_version": "1.2.0",
      "_model_name": "LayoutModel",
      "_view_count": null,
      "_view_module": "@jupyter-widgets/base",
      "_view_module_version": "1.2.0",
      "_view_name": "LayoutView",
      "align_content": null,
      "align_items": null,
      "align_self": null,
      "border": null,
      "bottom": null,
      "display": null,
      "flex": null,
      "flex_flow": null,
      "grid_area": null,
      "grid_auto_columns": null,
      "grid_auto_flow": null,
      "grid_auto_rows": null,
      "grid_column": null,
      "grid_gap": null,
      "grid_row": null,
      "grid_template_areas": null,
      "grid_template_columns": null,
      "grid_template_rows": null,
      "height": null,
      "justify_content": null,
      "justify_items": null,
      "left": null,
      "margin": null,
      "max_height": null,
      "max_width": null,
      "min_height": null,
      "min_width": null,
      "object_fit": null,
      "object_position": null,
      "order": null,
      "overflow": null,
      "overflow_x": null,
      "overflow_y": null,
      "padding": null,
      "right": null,
      "top": null,
      "visibility": null,
      "width": null
     }
    },
    "22f0476c8b2f48a8868bd2216ed4d7cf": {
     "model_module": "@jupyter-widgets/controls",
     "model_module_version": "1.5.0",
     "model_name": "ProgressStyleModel",
     "state": {
      "_model_module": "@jupyter-widgets/controls",
      "_model_module_version": "1.5.0",
      "_model_name": "ProgressStyleModel",
      "_view_count": null,
      "_view_module": "@jupyter-widgets/base",
      "_view_module_version": "1.2.0",
      "_view_name": "StyleView",
      "bar_color": null,
      "description_width": ""
     }
    },
    "2ee881decbf04d1cbc933c20ab8bc714": {
     "model_module": "@jupyter-widgets/base",
     "model_module_version": "1.2.0",
     "model_name": "LayoutModel",
     "state": {
      "_model_module": "@jupyter-widgets/base",
      "_model_module_version": "1.2.0",
      "_model_name": "LayoutModel",
      "_view_count": null,
      "_view_module": "@jupyter-widgets/base",
      "_view_module_version": "1.2.0",
      "_view_name": "LayoutView",
      "align_content": null,
      "align_items": null,
      "align_self": null,
      "border": null,
      "bottom": null,
      "display": null,
      "flex": null,
      "flex_flow": null,
      "grid_area": null,
      "grid_auto_columns": null,
      "grid_auto_flow": null,
      "grid_auto_rows": null,
      "grid_column": null,
      "grid_gap": null,
      "grid_row": null,
      "grid_template_areas": null,
      "grid_template_columns": null,
      "grid_template_rows": null,
      "height": null,
      "justify_content": null,
      "justify_items": null,
      "left": null,
      "margin": null,
      "max_height": null,
      "max_width": null,
      "min_height": null,
      "min_width": null,
      "object_fit": null,
      "object_position": null,
      "order": null,
      "overflow": null,
      "overflow_x": null,
      "overflow_y": null,
      "padding": null,
      "right": null,
      "top": null,
      "visibility": null,
      "width": null
     }
    },
    "497e7dd3069a4b5dbc883e4695332963": {
     "model_module": "@jupyter-widgets/base",
     "model_module_version": "1.2.0",
     "model_name": "LayoutModel",
     "state": {
      "_model_module": "@jupyter-widgets/base",
      "_model_module_version": "1.2.0",
      "_model_name": "LayoutModel",
      "_view_count": null,
      "_view_module": "@jupyter-widgets/base",
      "_view_module_version": "1.2.0",
      "_view_name": "LayoutView",
      "align_content": null,
      "align_items": null,
      "align_self": null,
      "border": null,
      "bottom": null,
      "display": null,
      "flex": null,
      "flex_flow": null,
      "grid_area": null,
      "grid_auto_columns": null,
      "grid_auto_flow": null,
      "grid_auto_rows": null,
      "grid_column": null,
      "grid_gap": null,
      "grid_row": null,
      "grid_template_areas": null,
      "grid_template_columns": null,
      "grid_template_rows": null,
      "height": null,
      "justify_content": null,
      "justify_items": null,
      "left": null,
      "margin": null,
      "max_height": null,
      "max_width": null,
      "min_height": null,
      "min_width": null,
      "object_fit": null,
      "object_position": null,
      "order": null,
      "overflow": null,
      "overflow_x": null,
      "overflow_y": null,
      "padding": null,
      "right": null,
      "top": null,
      "visibility": null,
      "width": null
     }
    },
    "5ab32519140341eebad1e15228deb3e2": {
     "model_module": "@jupyter-widgets/controls",
     "model_module_version": "1.5.0",
     "model_name": "DescriptionStyleModel",
     "state": {
      "_model_module": "@jupyter-widgets/controls",
      "_model_module_version": "1.5.0",
      "_model_name": "DescriptionStyleModel",
      "_view_count": null,
      "_view_module": "@jupyter-widgets/base",
      "_view_module_version": "1.2.0",
      "_view_name": "StyleView",
      "description_width": ""
     }
    },
    "6b7700e80d854914ad4f75c34e338d3e": {
     "model_module": "@jupyter-widgets/controls",
     "model_module_version": "1.5.0",
     "model_name": "HBoxModel",
     "state": {
      "_dom_classes": [],
      "_model_module": "@jupyter-widgets/controls",
      "_model_module_version": "1.5.0",
      "_model_name": "HBoxModel",
      "_view_count": null,
      "_view_module": "@jupyter-widgets/controls",
      "_view_module_version": "1.5.0",
      "_view_name": "HBoxView",
      "box_style": "",
      "children": [
       "IPY_MODEL_77b06e361d74438fad7a17c8f34c0aa1",
       "IPY_MODEL_c2ba33ed9a314536bffb427470ee1957",
       "IPY_MODEL_b15dd251352142d39fb0c1a46cf9b388"
      ],
      "layout": "IPY_MODEL_2ee881decbf04d1cbc933c20ab8bc714"
     }
    },
    "77b06e361d74438fad7a17c8f34c0aa1": {
     "model_module": "@jupyter-widgets/controls",
     "model_module_version": "1.5.0",
     "model_name": "HTMLModel",
     "state": {
      "_dom_classes": [],
      "_model_module": "@jupyter-widgets/controls",
      "_model_module_version": "1.5.0",
      "_model_name": "HTMLModel",
      "_view_count": null,
      "_view_module": "@jupyter-widgets/controls",
      "_view_module_version": "1.5.0",
      "_view_name": "HTMLView",
      "description": "",
      "description_tooltip": null,
      "layout": "IPY_MODEL_e879cb6793ff45e4886866587f71db62",
      "placeholder": "​",
      "style": "IPY_MODEL_08f0ea7c403040968f079e0e694286b7",
      "value": ""
     }
    },
    "95eca35a46a14aa4abf7c91b1ccee065": {
     "model_module": "@jupyter-widgets/controls",
     "model_module_version": "1.5.0",
     "model_name": "HBoxModel",
     "state": {
      "_dom_classes": [],
      "_model_module": "@jupyter-widgets/controls",
      "_model_module_version": "1.5.0",
      "_model_name": "HBoxModel",
      "_view_count": null,
      "_view_module": "@jupyter-widgets/controls",
      "_view_module_version": "1.5.0",
      "_view_name": "HBoxView",
      "box_style": "",
      "children": [
       "IPY_MODEL_01289697a46a4749808002f2a6eaaf73",
       "IPY_MODEL_9ff6b3cf75b746f5a11dc7a7eadc2009",
       "IPY_MODEL_e86b3864d880446081ae53689493f24e"
      ],
      "layout": "IPY_MODEL_c275aca6f2c84125923cbd7246786078"
     }
    },
    "9ff6b3cf75b746f5a11dc7a7eadc2009": {
     "model_module": "@jupyter-widgets/controls",
     "model_module_version": "1.5.0",
     "model_name": "FloatProgressModel",
     "state": {
      "_dom_classes": [],
      "_model_module": "@jupyter-widgets/controls",
      "_model_module_version": "1.5.0",
      "_model_name": "FloatProgressModel",
      "_view_count": null,
      "_view_module": "@jupyter-widgets/controls",
      "_view_module_version": "1.5.0",
      "_view_name": "ProgressView",
      "bar_style": "danger",
      "description": "",
      "description_tooltip": null,
      "layout": "IPY_MODEL_18429f5771a24ae1a72150c16e7f97d3",
      "max": 50,
      "min": 0,
      "orientation": "horizontal",
      "style": "IPY_MODEL_a583468ab883499e9d8cc9dadac9c597",
      "value": 0
     }
    },
    "a583468ab883499e9d8cc9dadac9c597": {
     "model_module": "@jupyter-widgets/controls",
     "model_module_version": "1.5.0",
     "model_name": "ProgressStyleModel",
     "state": {
      "_model_module": "@jupyter-widgets/controls",
      "_model_module_version": "1.5.0",
      "_model_name": "ProgressStyleModel",
      "_view_count": null,
      "_view_module": "@jupyter-widgets/base",
      "_view_module_version": "1.2.0",
      "_view_name": "StyleView",
      "bar_color": null,
      "description_width": ""
     }
    },
    "abc2dd3740504f31bcc05d4ca007e658": {
     "model_module": "@jupyter-widgets/base",
     "model_module_version": "1.2.0",
     "model_name": "LayoutModel",
     "state": {
      "_model_module": "@jupyter-widgets/base",
      "_model_module_version": "1.2.0",
      "_model_name": "LayoutModel",
      "_view_count": null,
      "_view_module": "@jupyter-widgets/base",
      "_view_module_version": "1.2.0",
      "_view_name": "LayoutView",
      "align_content": null,
      "align_items": null,
      "align_self": null,
      "border": null,
      "bottom": null,
      "display": null,
      "flex": null,
      "flex_flow": null,
      "grid_area": null,
      "grid_auto_columns": null,
      "grid_auto_flow": null,
      "grid_auto_rows": null,
      "grid_column": null,
      "grid_gap": null,
      "grid_row": null,
      "grid_template_areas": null,
      "grid_template_columns": null,
      "grid_template_rows": null,
      "height": null,
      "justify_content": null,
      "justify_items": null,
      "left": null,
      "margin": null,
      "max_height": null,
      "max_width": null,
      "min_height": null,
      "min_width": null,
      "object_fit": null,
      "object_position": null,
      "order": null,
      "overflow": null,
      "overflow_x": null,
      "overflow_y": null,
      "padding": null,
      "right": null,
      "top": null,
      "visibility": null,
      "width": null
     }
    },
    "abf1a93ee34843578018f72eeb64a9ea": {
     "model_module": "@jupyter-widgets/controls",
     "model_module_version": "1.5.0",
     "model_name": "DescriptionStyleModel",
     "state": {
      "_model_module": "@jupyter-widgets/controls",
      "_model_module_version": "1.5.0",
      "_model_name": "DescriptionStyleModel",
      "_view_count": null,
      "_view_module": "@jupyter-widgets/base",
      "_view_module_version": "1.2.0",
      "_view_name": "StyleView",
      "description_width": ""
     }
    },
    "b15dd251352142d39fb0c1a46cf9b388": {
     "model_module": "@jupyter-widgets/controls",
     "model_module_version": "1.5.0",
     "model_name": "HTMLModel",
     "state": {
      "_dom_classes": [],
      "_model_module": "@jupyter-widgets/controls",
      "_model_module_version": "1.5.0",
      "_model_name": "HTMLModel",
      "_view_count": null,
      "_view_module": "@jupyter-widgets/controls",
      "_view_module_version": "1.5.0",
      "_view_name": "HTMLView",
      "description": "",
      "description_tooltip": null,
      "layout": "IPY_MODEL_abc2dd3740504f31bcc05d4ca007e658",
      "placeholder": "​",
      "style": "IPY_MODEL_d0ab580d14614370b83ce50e456b1e75",
      "value": " 0/? [00:00&lt;?, ?it/s]"
     }
    },
    "b1f95063a92b48e0b5ca86e7a6716236": {
     "model_module": "@jupyter-widgets/base",
     "model_module_version": "1.2.0",
     "model_name": "LayoutModel",
     "state": {
      "_model_module": "@jupyter-widgets/base",
      "_model_module_version": "1.2.0",
      "_model_name": "LayoutModel",
      "_view_count": null,
      "_view_module": "@jupyter-widgets/base",
      "_view_module_version": "1.2.0",
      "_view_name": "LayoutView",
      "align_content": null,
      "align_items": null,
      "align_self": null,
      "border": null,
      "bottom": null,
      "display": null,
      "flex": null,
      "flex_flow": null,
      "grid_area": null,
      "grid_auto_columns": null,
      "grid_auto_flow": null,
      "grid_auto_rows": null,
      "grid_column": null,
      "grid_gap": null,
      "grid_row": null,
      "grid_template_areas": null,
      "grid_template_columns": null,
      "grid_template_rows": null,
      "height": null,
      "justify_content": null,
      "justify_items": null,
      "left": null,
      "margin": null,
      "max_height": null,
      "max_width": null,
      "min_height": null,
      "min_width": null,
      "object_fit": null,
      "object_position": null,
      "order": null,
      "overflow": null,
      "overflow_x": null,
      "overflow_y": null,
      "padding": null,
      "right": null,
      "top": null,
      "visibility": null,
      "width": null
     }
    },
    "c275aca6f2c84125923cbd7246786078": {
     "model_module": "@jupyter-widgets/base",
     "model_module_version": "1.2.0",
     "model_name": "LayoutModel",
     "state": {
      "_model_module": "@jupyter-widgets/base",
      "_model_module_version": "1.2.0",
      "_model_name": "LayoutModel",
      "_view_count": null,
      "_view_module": "@jupyter-widgets/base",
      "_view_module_version": "1.2.0",
      "_view_name": "LayoutView",
      "align_content": null,
      "align_items": null,
      "align_self": null,
      "border": null,
      "bottom": null,
      "display": null,
      "flex": null,
      "flex_flow": null,
      "grid_area": null,
      "grid_auto_columns": null,
      "grid_auto_flow": null,
      "grid_auto_rows": null,
      "grid_column": null,
      "grid_gap": null,
      "grid_row": null,
      "grid_template_areas": null,
      "grid_template_columns": null,
      "grid_template_rows": null,
      "height": null,
      "justify_content": null,
      "justify_items": null,
      "left": null,
      "margin": null,
      "max_height": null,
      "max_width": null,
      "min_height": null,
      "min_width": null,
      "object_fit": null,
      "object_position": null,
      "order": null,
      "overflow": null,
      "overflow_x": null,
      "overflow_y": null,
      "padding": null,
      "right": null,
      "top": null,
      "visibility": null,
      "width": null
     }
    },
    "c2ba33ed9a314536bffb427470ee1957": {
     "model_module": "@jupyter-widgets/controls",
     "model_module_version": "1.5.0",
     "model_name": "FloatProgressModel",
     "state": {
      "_dom_classes": [],
      "_model_module": "@jupyter-widgets/controls",
      "_model_module_version": "1.5.0",
      "_model_name": "FloatProgressModel",
      "_view_count": null,
      "_view_module": "@jupyter-widgets/controls",
      "_view_module_version": "1.5.0",
      "_view_name": "ProgressView",
      "bar_style": "danger",
      "description": "",
      "description_tooltip": null,
      "layout": "IPY_MODEL_04aac2c8d09544f88e1b50f7ac048ca7",
      "max": 1,
      "min": 0,
      "orientation": "horizontal",
      "style": "IPY_MODEL_22f0476c8b2f48a8868bd2216ed4d7cf",
      "value": 0
     }
    },
    "d0ab580d14614370b83ce50e456b1e75": {
     "model_module": "@jupyter-widgets/controls",
     "model_module_version": "1.5.0",
     "model_name": "DescriptionStyleModel",
     "state": {
      "_model_module": "@jupyter-widgets/controls",
      "_model_module_version": "1.5.0",
      "_model_name": "DescriptionStyleModel",
      "_view_count": null,
      "_view_module": "@jupyter-widgets/base",
      "_view_module_version": "1.2.0",
      "_view_name": "StyleView",
      "description_width": ""
     }
    },
    "e86b3864d880446081ae53689493f24e": {
     "model_module": "@jupyter-widgets/controls",
     "model_module_version": "1.5.0",
     "model_name": "HTMLModel",
     "state": {
      "_dom_classes": [],
      "_model_module": "@jupyter-widgets/controls",
      "_model_module_version": "1.5.0",
      "_model_name": "HTMLModel",
      "_view_count": null,
      "_view_module": "@jupyter-widgets/controls",
      "_view_module_version": "1.5.0",
      "_view_name": "HTMLView",
      "description": "",
      "description_tooltip": null,
      "layout": "IPY_MODEL_497e7dd3069a4b5dbc883e4695332963",
      "placeholder": "​",
      "style": "IPY_MODEL_5ab32519140341eebad1e15228deb3e2",
      "value": " 0/50 [00:00&lt;?, ?it/s]"
     }
    },
    "e879cb6793ff45e4886866587f71db62": {
     "model_module": "@jupyter-widgets/base",
     "model_module_version": "1.2.0",
     "model_name": "LayoutModel",
     "state": {
      "_model_module": "@jupyter-widgets/base",
      "_model_module_version": "1.2.0",
      "_model_name": "LayoutModel",
      "_view_count": null,
      "_view_module": "@jupyter-widgets/base",
      "_view_module_version": "1.2.0",
      "_view_name": "LayoutView",
      "align_content": null,
      "align_items": null,
      "align_self": null,
      "border": null,
      "bottom": null,
      "display": null,
      "flex": null,
      "flex_flow": null,
      "grid_area": null,
      "grid_auto_columns": null,
      "grid_auto_flow": null,
      "grid_auto_rows": null,
      "grid_column": null,
      "grid_gap": null,
      "grid_row": null,
      "grid_template_areas": null,
      "grid_template_columns": null,
      "grid_template_rows": null,
      "height": null,
      "justify_content": null,
      "justify_items": null,
      "left": null,
      "margin": null,
      "max_height": null,
      "max_width": null,
      "min_height": null,
      "min_width": null,
      "object_fit": null,
      "object_position": null,
      "order": null,
      "overflow": null,
      "overflow_x": null,
      "overflow_y": null,
      "padding": null,
      "right": null,
      "top": null,
      "visibility": null,
      "width": null
     }
    }
   }
  }
 },
 "nbformat": 4,
 "nbformat_minor": 4
}
