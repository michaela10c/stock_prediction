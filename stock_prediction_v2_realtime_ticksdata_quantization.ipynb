{
 "cells": [
  {
   "cell_type": "code",
   "execution_count": 61,
   "id": "a816d605-de9a-4ca5-90f5-1842d223e427",
   "metadata": {},
   "outputs": [],
   "source": [
    "import torch\n",
    "import torch.nn as nn\n",
    "import torch.optim as optim\n",
    "import torch.optim.lr_scheduler as lr_scheduler\n",
    "from torch.profiler import profile, record_function, ProfilerActivity\n",
    "import numpy as np\n",
    "import pandas as pd\n",
    "from torch.utils.data import DataLoader, TensorDataset\n",
    "from sklearn.preprocessing import MinMaxScaler, StandardScaler\n",
    "from sklearn.model_selection import train_test_split, ParameterGrid\n",
    "import matplotlib.pyplot as plt\n",
    "from tqdm import tqdm\n",
    "import random\n",
    "import json\n",
    "import seaborn as sns\n",
    "import time\n",
    "import itertools"
   ]
  },
  {
   "cell_type": "markdown",
   "id": "a2a9a0bd-e4c8-4780-a42a-0bc04d864aae",
   "metadata": {},
   "source": [
    "## Data Preparation & Preprocessing"
   ]
  },
  {
   "cell_type": "code",
   "execution_count": 62,
   "id": "381889b7-f3ed-4b94-90e6-96212c154536",
   "metadata": {},
   "outputs": [],
   "source": [
    "def plot_last_prices(data):\n",
    "    plt.figure(figsize=(10, 5))\n",
    "    plt.plot(data, label='Normalized Prices')\n",
    "    plt.legend()\n",
    "    plt.ylabel('Normalized Price')\n",
    "    plt.xlabel('Time Index')\n",
    "    plt.title('Relative Change Rates of Close Prices')\n",
    "    plt.show()\n",
    "\n",
    "class DataPreparation():\n",
    "    def __init__(self, dataset_filename, intervals, num_steps=None, input_size=None, configs_filename='configs', seed=42):\n",
    "        self.num_steps = num_steps\n",
    "        self.input_size = input_size\n",
    "        self.intervals = intervals\n",
    "        self.set_seed(seed)\n",
    "        self.load_configs(configs_filename)\n",
    "        self.load_data(dataset_filename)\n",
    "        \n",
    "    def set_seed(self, seed):\n",
    "        np.random.seed(seed)\n",
    "        random.seed(seed)\n",
    "        if torch.cuda.is_available():\n",
    "            torch.manual_seed(seed)\n",
    "        torch.cuda.manual_seed(seed)\n",
    "        torch.cuda.manual_seed_all(seed)\n",
    "        torch.backends.cudnn.deterministic = True\n",
    "        torch.backends.cudnn.benchmark = False\n",
    "    \n",
    "    def load_configs(self, configs_filename):\n",
    "        with open(f'configs/{configs_filename}.json', 'r') as file:\n",
    "            self.hyperparams = json.load(file)\n",
    "            \n",
    "    def load_data(self, dataset_filename):\n",
    "        self.data = pd.read_csv('data/' + dataset_filename + '.csv')\n",
    "        self.data['datetime'] = pd.to_datetime(self.data['datetime'])\n",
    "        \n",
    "        if self.num_steps is None:\n",
    "            self.num_steps = self.hyperparams['num_steps']\n",
    "        \n",
    "        if self.input_size is None:\n",
    "            self.input_size = self.hyperparams['input_size']\n",
    "        \n",
    "        self.val_split = self.hyperparams['val_split']\n",
    "        self.test_split = self.hyperparams['test_split']\n",
    "        self.batch_size = self.hyperparams['batch_size']\n",
    "        self.num_workers = self.hyperparams['num_workers']\n",
    "        self.volume_threshold = self.hyperparams['volume_threshold']\n",
    "        self.open_interest_threshold = self.hyperparams['open_interest_threshold']\n",
    "        self.time_interval = self.hyperparams['time_interval']\n",
    "        self.normalize = self.hyperparams['normalize']\n",
    "        \n",
    "        self.data = extract_high_frequency_trading(self.data, volume_threshold=self.volume_threshold, open_interest_threshold=self.open_interest_threshold, time_interval=self.time_interval)\n",
    "        \n",
    "        # Clone data\n",
    "        self.cloned_data = self.data_clone() if self.normalize else None\n",
    "\n",
    "        # Normalize data\n",
    "        self.data = self.normalize_data(self.data)\n",
    "        \n",
    "        assert(self.data.isna().sum().sum() == 0)\n",
    "\n",
    "        X_train, y_train, X_val, y_val, X_test, y_test = self.create_sequences(self.data, self.input_size, self.num_steps, self.val_split, self.test_split)\n",
    "        \n",
    "        X_train_tensor = torch.tensor(X_train, dtype=torch.float32)\n",
    "        y_train_tensor = torch.tensor(y_train, dtype=torch.float32)\n",
    "        X_val_tensor = torch.tensor(X_val, dtype=torch.float32)\n",
    "        y_val_tensor = torch.tensor(y_val, dtype=torch.float32)\n",
    "        X_test_tensor = torch.tensor(X_test, dtype=torch.float32)\n",
    "        y_test_tensor = torch.tensor(y_test, dtype=torch.float32)\n",
    "        \n",
    "        assert(not torch.isnan(X_train_tensor).any())\n",
    "        assert(not torch.isnan(y_train_tensor).any())\n",
    "        assert(not torch.isnan(X_val_tensor).any())\n",
    "        assert(not torch.isnan(y_val_tensor).any())\n",
    "        assert(not torch.isnan(X_test_tensor).any())\n",
    "        assert(not torch.isnan(y_test_tensor).any())\n",
    "        \n",
    "        self.train_loader = DataLoader(TensorDataset(X_train_tensor, y_train_tensor), batch_size=self.batch_size, shuffle=True, num_workers=self.num_workers, pin_memory=True)\n",
    "        self.val_loader = DataLoader(TensorDataset(X_val_tensor, y_val_tensor), batch_size=self.batch_size, shuffle=False, num_workers=self.num_workers, pin_memory=True)\n",
    "        self.test_loader = DataLoader(TensorDataset(X_test_tensor, y_test_tensor), batch_size=self.batch_size, shuffle=False, num_workers=self.num_workers, pin_memory=True)\n",
    "\n",
    "    def normalize_data(self, data):\n",
    "        scaler = MinMaxScaler()\n",
    "        normalized_data = scaler.fit_transform(data)\n",
    "        normalized_df = pd.DataFrame(normalized_data, index=data.index, columns=data.columns)\n",
    "        return normalized_df\n",
    "\n",
    "    def create_sequences(self, data, input_size, num_steps, val_split=0.1, test_split=0.1):\n",
    "        data_array = data.to_numpy()\n",
    "        timestamps = data.index\n",
    "        \n",
    "        # # Roll data\n",
    "        # data_array = [np.array(data_array[i * input_size: (i + 1) * input_size]) \n",
    "        #    for i in range(len(data_array) // input_size)]\n",
    "        \n",
    "        last_price_index = 0\n",
    "        data_array[:, last_price_index] = np.where(data_array[:, last_price_index] == 0, 1e-6, data_array[:, last_price_index])\n",
    "        \n",
    "        if self.normalize:\n",
    "            normalized_last_price = []\n",
    "            for start, end in self.intervals:\n",
    "                interval_data = self.filter_by_interval(data_array, timestamps, start, end)\n",
    "                if len(interval_data) == 0:\n",
    "                    continue\n",
    "                \n",
    "                interval_normalized_last_price = []\n",
    "                for window_start in range(0, len(interval_data), input_size):\n",
    "                    window_end = min(window_start + input_size, len(interval_data))\n",
    "                    window_data = interval_data[window_start:window_end]\n",
    "                    \n",
    "                    # Normalize the window data\n",
    "                    if window_start == 0:\n",
    "                        window_first_price = window_data[0, last_price_index]\n",
    "                        values = window_data[:, last_price_index] / window_first_price - 1.0\n",
    "                    else:\n",
    "                        window_last_price = window_data[-1, last_price_index]\n",
    "                        values = window_data[:, last_price_index] / window_last_price - 1.0\n",
    "                    \n",
    "                    interval_normalized_last_price.extend(values)\n",
    "    \n",
    "                normalized_last_price.extend(interval_normalized_last_price)\n",
    "            \n",
    "            normalized_last_price = np.array(normalized_last_price)\n",
    "            data_array[:len(normalized_last_price), last_price_index] = normalized_last_price\n",
    "            \n",
    "            # Process all outliers - impute with its previous non-outlying value\n",
    "            postprocess_outliers(data_array)\n",
    "        \n",
    "        if np.isnan(data_array[:, last_price_index]).any():\n",
    "            raise ValueError(\"Data contains NaN values after normalization. Please check the normalization process.\")\n",
    "\n",
    "        # Plot the prices \n",
    "        plot_last_prices(data_array[:, last_price_index])\n",
    "\n",
    "        # Roll data to reshape it into the 4D shape (N, num_steps, input_size, # features)\n",
    "        data_array = [np.array(data_array[i * input_size: (i + 1) * input_size]) \n",
    "                      for i in range(len(data_array) // input_size)]\n",
    "        data_array = np.stack(data_array)\n",
    "        \n",
    "        X = np.array([data_array[i: i + num_steps] for i in range(len(data_array) - num_steps)])\n",
    "        y = np.array([data_array[i + num_steps, :, last_price_index] for i in range(len(data_array) - num_steps)])\n",
    "        \n",
    "        self.num_features = data_array.shape[-1]\n",
    "\n",
    "        assert(X.shape == (len(X), num_steps, input_size, self.num_features))\n",
    "        assert(y.shape == (len(X), input_size))\n",
    "        assert len(X) == len(y), \"Number of samples in X and y must be equal\"\n",
    "    \n",
    "        total_len = len(X)\n",
    "        test_start = int(total_len * (1 - test_split))\n",
    "        val_start = int(total_len * (1 - test_split - val_split))\n",
    "    \n",
    "        X_train, X_val, X_test = X[:val_start], X[val_start:test_start], X[test_start:]\n",
    "        y_train, y_val, y_test = y[:val_start], y[val_start:test_start], y[test_start:]\n",
    "    \n",
    "        return X_train, y_train, X_val, y_val, X_test, y_test\n",
    "\n",
    "    def filter_by_interval(self, data, timestamps, start, end):\n",
    "        start_time = pd.Timestamp(start).time()\n",
    "        end_time = pd.Timestamp(end).time()\n",
    "        \n",
    "        start_mask = (timestamps.time >= start_time)\n",
    "        end_mask = (timestamps.time <= end_time)\n",
    "        \n",
    "        if start_time <= end_time:\n",
    "            interval_mask = start_mask & end_mask\n",
    "        else:\n",
    "            interval_mask = start_mask | end_mask\n",
    "        \n",
    "        return data[interval_mask]\n",
    "\n",
    "    def data_clone(self):\n",
    "        return self.data.copy()\n",
    "\n",
    "def extract_continuous_segment(data, volume_threshold, open_interest_threshold, time_interval):\n",
    "    \"\"\"\n",
    "    Extracts the largest continuous segment from high-frequency data based on given thresholds and time interval.\n",
    "    \n",
    "    Args:\n",
    "    data (pd.DataFrame): High-frequency data containing```python\n",
    "    'Timestamp', 'Volume', and 'OpenInterest' columns.\n",
    "    volume_threshold (int): Minimum volume threshold.\n",
    "    open_interest_threshold (int): Minimum open interest threshold.\n",
    "    time_interval (float): Maximum allowable time difference between consecutive data points (in seconds).\n",
    "\n",
    "    Returns:\n",
    "    pd.DataFrame: Continuous segment of the main contract data.\n",
    "    \"\"\"\n",
    "    # Step 1: Remove rows with NaN values\n",
    "    cleaned_data = data.dropna()\n",
    "\n",
    "    # Step 2: Apply volume and open interest thresholds\n",
    "    filtered_data = cleaned_data[(cleaned_data['volume'] >= volume_threshold) & \n",
    "                                 (cleaned_data['open_interest'] >= open_interest_threshold)]\n",
    "    \n",
    "    # Step 3: Identify continuous segments\n",
    "    filtered_data = filtered_data.sort_values(by='datetime')\n",
    "\n",
    "    # Calculate time differences between consecutive rows\n",
    "    filtered_data['datetime_diff'] = filtered_data['datetime'].diff().dt.total_seconds()\n",
    "    \n",
    "    # Identify segments where the time difference is larger than the time_interval threshold\n",
    "    filtered_data['segment'] = (filtered_data['datetime_diff'] > time_interval).cumsum()\n",
    "\n",
    "    # Find the length of each segment\n",
    "    segment_lengths = filtered_data['segment'].value_counts()\n",
    "\n",
    "    # Extract the largest segment\n",
    "    largest_segment = segment_lengths.idxmax()\n",
    "    continuous_data = filtered_data[filtered_data['segment'] == largest_segment]\n",
    "\n",
    "    # Drop the temporary columns\n",
    "    continuous_data = continuous_data.drop(columns=['datetime_diff', 'segment'])\n",
    "\n",
    "    return continuous_data\n",
    "\n",
    "\n",
    "def extract_high_frequency_trading(data, volume_threshold=1000, open_interest_threshold=500, time_interval=1):\n",
    "    # Convert datetime column to pandas datetime type\n",
    "    data['datetime'] = pd.to_datetime(data['datetime'])\n",
    "    \n",
    "    # Identify high-frequency trading periods\n",
    "    high_freq_trading = data[\n",
    "        (data['volume'] > volume_threshold) & \n",
    "        (data['open_interest'] > open_interest_threshold) & \n",
    "        (data['last_price'].notna()) & \n",
    "        (data['highest'].notna()) & \n",
    "        (data['volume'].notna()) & \n",
    "        (data['amount'].notna()) & \n",
    "        (data['bid_price1'].notna()) & \n",
    "        (data['ask_price1'].notna())\n",
    "    ]\n",
    "\n",
    "    # Extract largest continuous segment of high-frequency trading data\n",
    "    high_freq_trading = extract_continuous_segment(high_freq_trading, volume_threshold, open_interest_threshold, time_interval)\n",
    "    high_freq_trading = high_freq_trading.set_index('datetime')\n",
    "    \n",
    "    # Ensure no NaN values remaining\n",
    "    assert(high_freq_trading.isna().sum().sum() == 0)\n",
    "    \n",
    "    return high_freq_trading\n",
    "\n",
    "# Impute outliers with its previous non-outlying value\n",
    "def postprocess_outliers(data):\n",
    "    # Identify indices of outliers\n",
    "    outlier_indices = np.where(np.abs(data[:, 0]) > 0.5)[0]  # Adjusting the threshold based on the desired plot\n",
    "    \n",
    "    # Loop through outliers and impute values\n",
    "    for idx in outlier_indices:\n",
    "        previous_value_idx = idx - 1\n",
    "        while data[previous_value_idx, 0] > 0.5 and previous_value_idx > 0:\n",
    "            previous_value_idx -= 1\n",
    "        data[idx, 0] = data[previous_value_idx, 0]"
   ]
  },
  {
   "cell_type": "code",
   "execution_count": 63,
   "id": "23afb5de-029d-407c-a3da-6f8b75f4fc7f",
   "metadata": {},
   "outputs": [
    {
     "data": {
      "image/png": "[encoded data removed]",
      "text/plain": [
       "<Figure size 1000x500 with 1 Axes>"
      ]
     },
     "metadata": {},
     "output_type": "display_data"
    }
   ],
   "source": [
    "dataset_name = 'INE.sc2010'\n",
    "intervals = [\n",
    "    ('21:00:00', '02:30:00'),\n",
    "    ('09:00:00', '10:15:00'),\n",
    "    ('10:30:00', '11:30:00'),\n",
    "    ('13:30:00', '15:00:00')\n",
    "]\n",
    "\n",
    "data_preparation = DataPreparation(dataset_name, intervals)"
   ]
  },
  {
   "cell_type": "code",
   "execution_count": 64,
   "id": "ed6bb1ef-1559-4bb9-9b02-ebbd5feed666",
   "metadata": {},
   "outputs": [
    {
     "name": "stdout",
     "output_type": "stream",
     "text": [
      "All times are within the specified intervals.\n"
     ]
    }
   ],
   "source": [
    "# Make sure time intervals are where they need to be \n",
    "def assert_time_intervals(data_preparation, intervals):\n",
    "    # See if any days skipped\n",
    "    df = data_preparation.data\n",
    "    \n",
    "    # Assuming df is your DataFrame\n",
    "    df.index = pd.to_datetime(df.index)\n",
    "    times = df.index.time\n",
    "    \n",
    "    # Define the intervals\n",
    "    time_intervals = [(pd.Timestamp(start).time(), pd.Timestamp(end).time()) for start, end in intervals]\n",
    "    \n",
    "    # Check if times fall within any of the intervals\n",
    "    def is_within_intervals(t):\n",
    "        return any(start <= t <= end if start <= end else start <= t or t <= end for start, end in time_intervals)\n",
    "    \n",
    "    # Apply the check to all times\n",
    "    outside_intervals = ~np.vectorize(is_within_intervals)(times)\n",
    "    \n",
    "    # If any times are outside the intervals, print them\n",
    "    if outside_intervals.any():\n",
    "        print(\"There are times outside the specified intervals:\")\n",
    "        print(df[outside_intervals])\n",
    "    else:\n",
    "        print(\"All times are within the specified intervals.\")\n",
    "    \n",
    "    # SC2010 data is all oil prices - time intervals are fixed with no exceptions\n",
    "    assert(not outside_intervals.any())\n",
    "\n",
    "assert_time_intervals(data_preparation, intervals)"
   ]
  },
  {
   "cell_type": "markdown",
   "id": "61d10c93-2fa4-41f2-9b68-24606ba802c8",
   "metadata": {},
   "source": [
    "## Model Definition: LSTM Cell"
   ]
  },
  {
   "cell_type": "code",
   "execution_count": 65,
   "id": "273efa4b-f195-4cf0-8c8e-d9ce9b501300",
   "metadata": {},
   "outputs": [],
   "source": [
    "class CustomLSTMCell(nn.Module):\n",
    "    def __init__(self, input_size, hidden_dim):\n",
    "        super(CustomLSTMCell, self).__init__()\n",
    "        self.hidden_dim = hidden_dim\n",
    "        \n",
    "        # Initialize weights and biases\n",
    "        self.W_i = nn.Parameter(torch.randn(input_size, hidden_dim))\n",
    "        self.U_i = nn.Parameter(torch.randn(hidden_dim, hidden_dim))\n",
    "        self.b_i = nn.Parameter(torch.zeros(hidden_dim))\n",
    "\n",
    "        self.W_f = nn.Parameter(torch.randn(input_size, hidden_dim))\n",
    "        self.U_f = nn.Parameter(torch.randn(hidden_dim, hidden_dim))\n",
    "        self.b_f = nn.Parameter(torch.zeros(hidden_dim))\n",
    "        \n",
    "        self.W_c = nn.Parameter(torch.randn(input_size, hidden_dim))\n",
    "        self.U_c = nn.Parameter(torch.randn(hidden_dim, hidden_dim))\n",
    "        self.b_c = nn.Parameter(torch.zeros(hidden_dim))\n",
    "        \n",
    "        self.W_o = nn.Parameter(torch.randn(input_size, hidden_dim))\n",
    "        self.U_o = nn.Parameter(torch.randn(hidden_dim, hidden_dim))\n",
    "        self.b_o = nn.Parameter(torch.zeros(hidden_dim))\n",
    "        \n",
    "        # Layer normalization layers\n",
    "        self.ln_i = nn.LayerNorm(hidden_dim)\n",
    "        self.ln_f = nn.LayerNorm(hidden_dim)\n",
    "        self.ln_c = nn.LayerNorm(hidden_dim)\n",
    "        self.ln_o = nn.LayerNorm(hidden_dim)\n",
    "        \n",
    "        self.init_weights()\n",
    "\n",
    "    def init_weights(self):\n",
    "        for name, param in self.named_parameters():\n",
    "            if 'W_' in name or 'U_' in name:\n",
    "                nn.init.orthogonal_(param)  # Use orthogonal initialization\n",
    "            elif 'b_' in name:\n",
    "                nn.init.constant_(param, 0.0)\n",
    "\n",
    "            assert(not torch.isnan(param).any())\n",
    "\n",
    "    def forward(self, x, h, c):\n",
    "        i_t = torch.sigmoid(self.ln_i(torch.matmul(x, self.W_i) + torch.matmul(h, self.U_i) + self.b_i))\n",
    "        f_t = torch.sigmoid(self.ln_f(torch.matmul(x, self.W_f) + torch.matmul(h, self.U_f) + self.b_f))\n",
    "        g_t = torch.tanh(self.ln_c(torch.matmul(x, self.W_c) + torch.matmul(h, self.U_c) + self.b_c))\n",
    "        o_t = torch.sigmoid(self.ln_o(torch.matmul(x, self.W_o) + torch.matmul(h, self.U_o) + self.b_o))\n",
    "\n",
    "        c_t = f_t * c + i_t * g_t\n",
    "        h_t = o_t * torch.tanh(c_t)\n",
    "        \n",
    "        assert(not torch.isnan(h_t).any())\n",
    "        assert(not torch.isnan(c_t).any())\n",
    "        \n",
    "        return h_t, c_t\n"
   ]
  },
  {
   "cell_type": "markdown",
   "id": "9c23a8c4-e52f-4cd4-9d48-79a1d23b8de6",
   "metadata": {},
   "source": [
    "## Model Definition: GRU Cell"
   ]
  },
  {
   "cell_type": "code",
   "execution_count": 76,
   "id": "ad7c0b79-da6e-4bbb-8c6c-e9066b42e5b5",
   "metadata": {},
   "outputs": [],
   "source": [
    "class CustomGRUCell(nn.Module):\n",
    "    def __init__(self, input_dim, hidden_dim):\n",
    "        super(CustomGRUCell, self).__init__()\n",
    "        self.hidden_dim = hidden_dim\n",
    "\n",
    "        # Initialize weights and biases\n",
    "        self.W_z = nn.Parameter(torch.randn(input_dim, hidden_dim).float())\n",
    "        self.U_z = nn.Parameter(torch.randn(hidden_dim, hidden_dim).float())\n",
    "        self.b_z = nn.Parameter(torch.zeros(hidden_dim).float())\n",
    "\n",
    "        self.W_r = nn.Parameter(torch.randn(input_dim, hidden_dim).float())\n",
    "        self.U_r = nn.Parameter(torch.randn(hidden_dim, hidden_dim).float())\n",
    "        self.b_r = nn.Parameter(torch.zeros(hidden_dim).float())\n",
    "        \n",
    "        self.W_h = nn.Parameter(torch.randn(input_dim, hidden_dim).float())\n",
    "        self.U_h = nn.Parameter(torch.randn(hidden_dim, hidden_dim).float())\n",
    "        self.b_h = nn.Parameter(torch.zeros(hidden_dim).float())\n",
    "        \n",
    "        # Layer normalization layers\n",
    "        self.ln_z = nn.LayerNorm(hidden_dim)\n",
    "        self.ln_r = nn.LayerNorm(hidden_dim)\n",
    "        self.ln_h = nn.LayerNorm(hidden_dim)\n",
    "        \n",
    "        self.init_weights()\n",
    "\n",
    "    def init_weights(self):\n",
    "        for name, param in self.named_parameters():\n",
    "            if 'W_' in name or 'U_' in name:\n",
    "                nn.init.xavier_uniform_(param)  # Use orthogonal initialization\n",
    "            elif 'b_' in name:\n",
    "                nn.init.constant_(param, 0.0)\n",
    "\n",
    "            # Check for NaN values\n",
    "            assert(not torch.isnan(param).any())\n",
    "\n",
    "    def forward(self, x, h):\n",
    "        z_t = torch.sigmoid(self.ln_z(torch.mm(x, self.W_z) + torch.mm(h, self.U_z) + self.b_z))\n",
    "        r_t = torch.sigmoid(self.ln_r(torch.mm(x, self.W_r) + torch.mm(h, self.U_r) + self.b_r))\n",
    "        h_hat_t = torch.tanh(self.ln_h(torch.mm(x, self.W_h) + torch.mm(r_t * h, self.U_h) + self.b_h))\n",
    "\n",
    "        h_t = (1 - z_t) * h + z_t * h_hat_t\n",
    "        \n",
    "        assert(not torch.isnan(h_t).any())\n",
    "    \n",
    "        return h_t"
   ]
  },
  {
   "cell_type": "markdown",
   "id": "77d56002-e909-4460-a087-92d9f4f32749",
   "metadata": {},
   "source": [
    "## Model Definition: RNN"
   ]
  },
  {
   "cell_type": "code",
   "execution_count": 77,
   "id": "ab261366-d0cd-4995-b9c1-6a51d242543b",
   "metadata": {},
   "outputs": [],
   "source": [
    "class CustomRNNModel(nn.Module):\n",
    "    def __init__(self, input_size, num_features, hidden_dim, output_dim, num_layers, dropout_rate, dense_units, cell_type='lstm'):\n",
    "        super(CustomRNNModel, self).__init__()\n",
    "        self.num_layers = num_layers\n",
    "        self.hidden_dim = hidden_dim\n",
    "        self.cell_type = cell_type\n",
    "        self.input_dim = input_size * num_features\n",
    "\n",
    "        if cell_type == 'lstm':\n",
    "            self.layers = nn.ModuleList([CustomLSTMCell(self.input_dim, hidden_dim)])\n",
    "            self.layers.extend([CustomLSTMCell(hidden_dim, hidden_dim) for _ in range(num_layers - 1)])\n",
    "        elif cell_type == 'gru':\n",
    "            self.layers = nn.ModuleList([CustomGRUCell(self.input_dim, hidden_dim)])\n",
    "            self.layers.extend([CustomGRUCell(hidden_dim, hidden_dim) for _ in range(num_layers - 1)])\n",
    "        else:\n",
    "            raise ValueError(\"Unsupported cell type\")\n",
    "\n",
    "        self.dropout = nn.Dropout(dropout_rate)\n",
    "        self.fc1 = nn.Linear(hidden_dim, dense_units)\n",
    "        self.fc2 = nn.Linear(dense_units, output_dim)\n",
    "\n",
    "    def forward(self, x):\n",
    "        batch_size, num_steps, input_size, num_features = x.size()\n",
    "        x = x.view(batch_size, num_steps, -1)  # Flatten the input dimensions to (batch_size, num_steps, input_size * num_features)\n",
    "\n",
    "        h_t = [torch.zeros(batch_size, self.hidden_dim, device=x.device) for _ in range(self.num_layers)]\n",
    "        if self.cell_type == 'lstm':\n",
    "            c_t = [torch.zeros(batch_size, self.hidden_dim, device=x.device) for _ in range(self.num_layers)]\n",
    "\n",
    "        for t in range(num_steps):\n",
    "            x_t = x[:, t, :]\n",
    "            for layer in range(self.num_layers):\n",
    "                if self.cell_type == 'lstm':\n",
    "                    h_t[layer], c_t[layer] = self.layers[layer](x_t, h_t[layer], c_t[layer])\n",
    "                else:\n",
    "                    h_t[layer] = self.layers[layer](x_t, h_t[layer])\n",
    "                x_t = h_t[layer]\n",
    "\n",
    "        x = self.dropout(x_t)\n",
    "        x = torch.relu(self.fc1(x))\n",
    "        x = self.fc2(x)\n",
    "\n",
    "        return x"
   ]
  },
  {
   "cell_type": "markdown",
   "id": "e74bacfb-2f29-4dd9-98fb-378abee23041",
   "metadata": {},
   "source": [
    "## RNN Model Training + Evaluation"
   ]
  },
  {
   "cell_type": "code",
   "execution_count": 78,
   "id": "03c7e1ac-08cd-44f9-9a27-6f7ba34f0236",
   "metadata": {},
   "outputs": [],
   "source": [
    "# Loss definitions\n",
    "def quantile_loss(outputs, targets, quantile=0.5):\n",
    "    errors = targets - outputs\n",
    "    loss = torch.max((quantile - 1) * errors, quantile * errors)\n",
    "    return torch.mean(loss)\n",
    "\n",
    "class HingeLoss(nn.Module):\n",
    "    def __init__(self):\n",
    "        super(HingeLoss, self).__init__()\n",
    "\n",
    "    def forward(self, outputs, targets):\n",
    "        return torch.mean(torch.clamp(1 - targets * outputs, min=0))\n",
    "\n",
    "def directional_loss(outputs, targets):\n",
    "    return torch.mean(torch.abs(torch.sign(outputs) - torch.sign(targets)))\n",
    "\n",
    "def choose_loss_function(loss, quantile=None):\n",
    "    if loss == 'huber':\n",
    "        criterion = nn.SmoothL1Loss()\n",
    "    elif loss == 'mse':\n",
    "        criterion = nn.MSELoss()\n",
    "    elif loss == 'quantile' and quantile is not None:\n",
    "        criterion = lambda outputs, targets: quantile_loss(outputs, targets, quantile=quantile)\n",
    "    elif loss == 'hinge':\n",
    "        criterion = HingeLoss()\n",
    "    elif loss == 'directional':\n",
    "        criterion = directional_loss\n",
    "    else:\n",
    "        raise ValueError(\"Unsupported loss function\")\n",
    "\n",
    "    return criterion"
   ]
  },
  {
   "cell_type": "code",
   "execution_count": 79,
   "id": "1ba6949c-3daf-49d5-a5f9-ab13c518cd68",
   "metadata": {},
   "outputs": [],
   "source": [
    "class ModelTrainer:\n",
    "    def __init__(self, data_preparation, cell_type):\n",
    "        self.data_preparation = data_preparation\n",
    "        self.cell_type = cell_type\n",
    "\n",
    "    def extract_hyperparams(self, hyperparam_grid=None):\n",
    "        dp = self.data_preparation\n",
    "        cell_type = self.cell_type\n",
    "\n",
    "        if not hyperparam_grid:\n",
    "            num_units = dp.hyperparams[cell_type][cell_type + '_units']\n",
    "            num_layers = dp.hyperparams[cell_type][cell_type + '_layers']\n",
    "            dropout_rate = dp.hyperparams[cell_type]['dropout_rate']\n",
    "            dense_units = dp.hyperparams[cell_type]['dense_units']\n",
    "            init_learning_rate = dp.hyperparams[cell_type]['init_learning_rate']\n",
    "            learning_rate_decay = dp.hyperparams[cell_type]['learning_rate_decay']\n",
    "            init_epochs = dp.hyperparams[cell_type]['init_epochs']\n",
    "            max_epochs = dp.hyperparams[cell_type]['max_epochs']\n",
    "            early_stop_patience = dp.hyperparams[cell_type].get('early_stop_patience', None)\n",
    "            train_needed = dp.hyperparams[cell_type]['pretrain']\n",
    "        else:\n",
    "            num_units = hyperparam_grid[cell_type + '_units']\n",
    "            num_layers = hyperparam_grid[cell_type + '_layers']\n",
    "            dropout_rate = hyperparam_grid['dropout_rate']\n",
    "            dense_units = hyperparam_grid['dense_units']\n",
    "            init_learning_rate = hyperparam_grid['init_learning_rate']\n",
    "            learning_rate_decay = hyperparam_grid['learning_rate_decay']\n",
    "            init_epochs = dp.hyperparams[cell_type]['init_epochs']\n",
    "            max_epochs = dp.hyperparams[cell_type]['max_epochs']\n",
    "            early_stop_patience = dp.hyperparams[cell_type].get('early_stop_patience', None)\n",
    "            train_needed = True\n",
    "        \n",
    "        return num_units, num_layers, dropout_rate, dense_units, init_learning_rate, learning_rate_decay, init_epochs, max_epochs, early_stop_patience, train_needed\n",
    "\n",
    "    def train_model(self, model, train_loader, val_loader, criterion, init_epochs, num_epochs, init_learning_rate, learning_rate_decay, device, early_stop_patience=None):\n",
    "        train_losses = []\n",
    "        val_losses = []\n",
    "        best_val_loss = float('inf')\n",
    "        early_stop_counter = 0\n",
    "    \n",
    "        optimizer = optim.Adam(model.parameters(), lr=init_learning_rate)\n",
    "        scheduler = lr_scheduler.CosineAnnealingLR(optimizer, T_max=num_epochs, eta_min=0.0)\n",
    "    \n",
    "        for epoch in range(num_epochs):\n",
    "            model.train()\n",
    "            current_lr = init_learning_rate * (learning_rate_decay ** max(float(epoch + 1 - init_epochs), 0.0))\n",
    "            for param_group in optimizer.param_groups:\n",
    "                param_group['lr'] = current_lr\n",
    "                \n",
    "            train_loss = 0.0\n",
    "            for X_batch, y_batch in tqdm(train_loader, desc=f'Epoch {epoch+1}/{num_epochs}', leave=False):\n",
    "                X_batch, y_batch = X_batch.to(device), y_batch.to(device)\n",
    "                \n",
    "                optimizer.zero_grad()\n",
    "                outputs = model(X_batch)\n",
    "                loss = criterion(outputs, y_batch)\n",
    "                loss.backward()\n",
    "                optimizer.step()\n",
    "    \n",
    "                train_loss += loss.item()\n",
    "    \n",
    "            train_loss /= len(train_loader)\n",
    "            train_losses.append(train_loss)\n",
    "    \n",
    "            model.eval()\n",
    "            val_loss = 0.0\n",
    "            with torch.no_grad():\n",
    "                for X_batch, y_batch in val_loader:\n",
    "                    X_batch, y_batch = X_batch.to(device), y_batch.to(device)\n",
    "                    outputs = model(X_batch)\n",
    "                    val_loss += criterion(outputs, y_batch).item()\n",
    "    \n",
    "            val_loss /= len(val_loader)\n",
    "            val_losses.append(val_loss)\n",
    "    \n",
    "            print(f'Epoch {epoch+1}/{num_epochs}, Train Loss: {train_loss:.4f}, Val Loss: {val_loss:.4f}')\n",
    "    \n",
    "            scheduler.step()\n",
    "    \n",
    "            if early_stop_patience is not None:\n",
    "                if val_loss < best_val_loss:\n",
    "                    best_val_loss = val_loss\n",
    "                    early_stop_counter = 0\n",
    "                    torch.save(model.state_dict(), f'models/SP500_{self.cell_type}_model.pth')\n",
    "                else:\n",
    "                    early_stop_counter += 1\n",
    "                    if early_stop_counter >= early_stop_patience:\n",
    "                        print(\"Early stopping triggered\")\n",
    "                        break\n",
    "    \n",
    "        return train_losses, val_losses\n",
    "\n",
    "    def train(self, hyperparam_grid=None):\n",
    "        device = torch.device(\"cuda\" if torch.cuda.is_available() else \"cpu\")\n",
    "        \n",
    "        num_units, num_layers, dropout_rate, dense_units, init_learning_rate, learning_rate_decay, init_epochs, max_epochs, early_stop_patience, train_needed = self.extract_hyperparams(hyperparam_grid=hyperparam_grid)\n",
    "        num_features = self.data_preparation.num_features\n",
    "        input_size = self.data_preparation.input_size\n",
    "\n",
    "        model = CustomRNNModel(input_size=input_size, num_features=num_features, hidden_dim=num_units, output_dim=input_size, num_layers=num_layers, dropout_rate=dropout_rate, dense_units=dense_units, cell_type=self.cell_type)\n",
    "        model.to(device)\n",
    "        \n",
    "        if train_needed: \n",
    "            criterion = choose_loss_function('huber')\n",
    "    \n",
    "            start_time = time.time()\n",
    "            train_losses, val_losses = self.train_model(model, self.data_preparation.train_loader, self.data_preparation.val_loader, criterion, init_epochs, max_epochs, init_learning_rate, learning_rate_decay, device, early_stop_patience)\n",
    "            duration = time.time() - start_time\n",
    "            torch.save(model.state_dict(), f'models/SP500_{cell_type}_model.pth')\n",
    "        else:\n",
    "            # Load the model\n",
    "            model = self.load_model(model, cell_type, device)\n",
    "            print(\"Model loaded successfully\")\n",
    "\n",
    "        # Plot train and validation loss curves\n",
    "        plt.figure(figsize=(10, 5))\n",
    "        plt.plot(train_losses, label='Train Loss')\n",
    "        plt.plot(val_losses, label='Validation Loss')\n",
    "        plt.legend()\n",
    "        plt.title('Loss Curves')\n",
    "        plt.show()\n",
    "\n",
    "        return model, duration\n",
    "\n",
    "    # Function to load the model\n",
    "    def load_model(self, model, cell_type, device):\n",
    "        model_path = f'models/SP500_{cell_type}_model.pth'\n",
    "        model.load_state_dict(torch.load(model_path, map_location=device))\n",
    "        model.to(device)\n",
    "        return model"
   ]
  },
  {
   "cell_type": "code",
   "execution_count": 80,
   "id": "756b7f9f-26d6-4457-9dea-32489c801588",
   "metadata": {},
   "outputs": [],
   "source": [
    "class ModelPredictor:\n",
    "    def __init__(self, model, data_preparation, cell_type):\n",
    "        self.model = model\n",
    "        self.data_preparation = data_preparation\n",
    "        self.cell_type = cell_type\n",
    "\n",
    "    def make_predictions(self, model, data_loader, device):\n",
    "        model.eval()\n",
    "        predictions = []\n",
    "        actuals = []\n",
    "        test_loss = 0\n",
    "        criterion = choose_loss_function('huber')\n",
    "        \n",
    "        with torch.no_grad():\n",
    "            for X_batch, y_batch in data_loader:\n",
    "                X_batch, y_batch = X_batch.to(device), y_batch.to(device)\n",
    "                outputs = model(X_batch)\n",
    "                predictions.append(outputs.cpu().numpy())\n",
    "                actuals.append(y_batch.cpu().numpy())\n",
    "                test_loss += criterion(outputs, y_batch).item()\n",
    "\n",
    "        test_loss /= len(data_loader)\n",
    "        predictions = np.concatenate(predictions)\n",
    "        actuals = np.concatenate(actuals)\n",
    "        return np.array(predictions).flatten(), np.array(actuals).flatten(), test_loss\n",
    "\n",
    "    def calculate_accuracy(self, predictions, actuals):\n",
    "        correct = np.sum(np.sign(predictions) == np.sign(actuals))\n",
    "        print(\"correct:\", correct)\n",
    "        total = len(actuals)\n",
    "        print(\"total:\", total)\n",
    "        accuracy = correct / total\n",
    "        return accuracy\n",
    "\n",
    "     # Plot the predictions against the actual values\n",
    "    def plot_results(self, data_preparation, actuals, predictions):\n",
    "        plt.figure(figsize=(10, 5))\n",
    "        x = np.arange(len(actuals))\n",
    "        plt.bar(x - 0.2, actuals, label='Actual Prices')\n",
    "        plt.bar(x + 0.2, predictions, label='Predicted Prices')\n",
    "        plt.xlabel('Value')\n",
    "        plt.ylabel('Normalized Price')\n",
    "        plt.ylim(-0.1, 0.1)\n",
    "        plt.title(f'Predicted vs Actual Prices for input_size={data_preparation.input_size}, num_steps={data_preparation.num_steps}')\n",
    "        plt.legend()\n",
    "        plt.show()\n",
    "\n",
    "    def predict(self):\n",
    "        device = torch.device(\"cuda\" if torch.cuda.is_available() else \"cpu\")\n",
    "        self.model.to(device)\n",
    "        \n",
    "        predictions, actuals, test_loss = self.make_predictions(self.model, self.data_preparation.test_loader, device)\n",
    "\n",
    "        print(\"predictions:\", predictions[0:5])\n",
    "        print(\"actuals:\", actuals[0:5])\n",
    "        \n",
    "        classification_accuracy = self.calculate_accuracy(predictions, actuals)\n",
    "        self.plot_results(self.data_preparation, predictions, actuals)\n",
    "        \n",
    "        return test_loss, classification_accuracy"
   ]
  },
  {
   "cell_type": "code",
   "execution_count": 71,
   "id": "e40914a2-017e-4747-a9b2-cc17aa976ead",
   "metadata": {},
   "outputs": [],
   "source": [
    "cell_type = 'lstm'"
   ]
  },
  {
   "cell_type": "code",
   "execution_count": 72,
   "id": "383e9f15-3d16-4e5a-9114-367324b4c97a",
   "metadata": {},
   "outputs": [
    {
     "name": "stderr",
     "output_type": "stream",
     "text": [
      "                                                                                \r"
     ]
    },
    {
     "name": "stdout",
     "output_type": "stream",
     "text": [
      "Epoch 1/50, Train Loss: 0.0044, Val Loss: 0.0061\n"
     ]
    },
    {
     "name": "stderr",
     "output_type": "stream",
     "text": [
      "                                                                                \r"
     ]
    },
    {
     "name": "stdout",
     "output_type": "stream",
     "text": [
      "Epoch 2/50, Train Loss: 0.0019, Val Loss: 0.0044\n"
     ]
    },
    {
     "name": "stderr",
     "output_type": "stream",
     "text": [
      "                                                                                \r"
     ]
    },
    {
     "name": "stdout",
     "output_type": "stream",
     "text": [
      "Epoch 3/50, Train Loss: 0.0016, Val Loss: 0.0041\n"
     ]
    },
    {
     "name": "stderr",
     "output_type": "stream",
     "text": [
      "                                                                                \r"
     ]
    },
    {
     "name": "stdout",
     "output_type": "stream",
     "text": [
      "Epoch 4/50, Train Loss: 0.0015, Val Loss: 0.0039\n"
     ]
    },
    {
     "name": "stderr",
     "output_type": "stream",
     "text": [
      "                                                                                \r"
     ]
    },
    {
     "name": "stdout",
     "output_type": "stream",
     "text": [
      "Epoch 5/50, Train Loss: 0.0013, Val Loss: 0.0036\n"
     ]
    },
    {
     "name": "stderr",
     "output_type": "stream",
     "text": [
      "                                                                                \r"
     ]
    },
    {
     "name": "stdout",
     "output_type": "stream",
     "text": [
      "Epoch 6/50, Train Loss: 0.0013, Val Loss: 0.0034\n"
     ]
    },
    {
     "name": "stderr",
     "output_type": "stream",
     "text": [
      "                                                                                \r"
     ]
    },
    {
     "name": "stdout",
     "output_type": "stream",
     "text": [
      "Epoch 7/50, Train Loss: 0.0011, Val Loss: 0.0034\n"
     ]
    },
    {
     "name": "stderr",
     "output_type": "stream",
     "text": [
      "                                                                                \r"
     ]
    },
    {
     "name": "stdout",
     "output_type": "stream",
     "text": [
      "Epoch 8/50, Train Loss: 0.0012, Val Loss: 0.0033\n"
     ]
    },
    {
     "name": "stderr",
     "output_type": "stream",
     "text": [
      "                                                                                \r"
     ]
    },
    {
     "name": "stdout",
     "output_type": "stream",
     "text": [
      "Epoch 9/50, Train Loss: 0.0010, Val Loss: 0.0032\n"
     ]
    },
    {
     "name": "stderr",
     "output_type": "stream",
     "text": [
      "                                                                                \r"
     ]
    },
    {
     "name": "stdout",
     "output_type": "stream",
     "text": [
      "Epoch 10/50, Train Loss: 0.0011, Val Loss: 0.0031\n"
     ]
    },
    {
     "name": "stderr",
     "output_type": "stream",
     "text": [
      "                                                                                \r"
     ]
    },
    {
     "name": "stdout",
     "output_type": "stream",
     "text": [
      "Epoch 11/50, Train Loss: 0.0011, Val Loss: 0.0031\n"
     ]
    },
    {
     "name": "stderr",
     "output_type": "stream",
     "text": [
      "                                                                                \r"
     ]
    },
    {
     "name": "stdout",
     "output_type": "stream",
     "text": [
      "Epoch 12/50, Train Loss: 0.0011, Val Loss: 0.0031\n"
     ]
    },
    {
     "name": "stderr",
     "output_type": "stream",
     "text": [
      "                                                                                \r"
     ]
    },
    {
     "name": "stdout",
     "output_type": "stream",
     "text": [
      "Epoch 13/50, Train Loss: 0.0010, Val Loss: 0.0030\n"
     ]
    },
    {
     "name": "stderr",
     "output_type": "stream",
     "text": [
      "                                                                                \r"
     ]
    },
    {
     "name": "stdout",
     "output_type": "stream",
     "text": [
      "Epoch 14/50, Train Loss: 0.0010, Val Loss: 0.0030\n"
     ]
    },
    {
     "name": "stderr",
     "output_type": "stream",
     "text": [
      "                                                                                \r"
     ]
    },
    {
     "name": "stdout",
     "output_type": "stream",
     "text": [
      "Epoch 15/50, Train Loss: 0.0010, Val Loss: 0.0030\n"
     ]
    },
    {
     "name": "stderr",
     "output_type": "stream",
     "text": [
      "                                                                                \r"
     ]
    },
    {
     "name": "stdout",
     "output_type": "stream",
     "text": [
      "Epoch 16/50, Train Loss: 0.0009, Val Loss: 0.0030\n"
     ]
    },
    {
     "name": "stderr",
     "output_type": "stream",
     "text": [
      "                                                                                \r"
     ]
    },
    {
     "name": "stdout",
     "output_type": "stream",
     "text": [
      "Epoch 17/50, Train Loss: 0.0009, Val Loss: 0.0030\n"
     ]
    },
    {
     "name": "stderr",
     "output_type": "stream",
     "text": [
      "                                                                                \r"
     ]
    },
    {
     "name": "stdout",
     "output_type": "stream",
     "text": [
      "Epoch 18/50, Train Loss: 0.0009, Val Loss: 0.0030\n"
     ]
    },
    {
     "name": "stderr",
     "output_type": "stream",
     "text": [
      "                                                                                \r"
     ]
    },
    {
     "name": "stdout",
     "output_type": "stream",
     "text": [
      "Epoch 19/50, Train Loss: 0.0008, Val Loss: 0.0030\n"
     ]
    },
    {
     "name": "stderr",
     "output_type": "stream",
     "text": [
      "                                                                                \r"
     ]
    },
    {
     "name": "stdout",
     "output_type": "stream",
     "text": [
      "Epoch 20/50, Train Loss: 0.0008, Val Loss: 0.0030\n"
     ]
    },
    {
     "name": "stderr",
     "output_type": "stream",
     "text": [
      "                                                                                \r"
     ]
    },
    {
     "name": "stdout",
     "output_type": "stream",
     "text": [
      "Epoch 21/50, Train Loss: 0.0008, Val Loss: 0.0030\n"
     ]
    },
    {
     "name": "stderr",
     "output_type": "stream",
     "text": [
      "                                                                                \r"
     ]
    },
    {
     "name": "stdout",
     "output_type": "stream",
     "text": [
      "Epoch 22/50, Train Loss: 0.0008, Val Loss: 0.0030\n"
     ]
    },
    {
     "name": "stderr",
     "output_type": "stream",
     "text": [
      "                                                                                \r"
     ]
    },
    {
     "name": "stdout",
     "output_type": "stream",
     "text": [
      "Epoch 23/50, Train Loss: 0.0008, Val Loss: 0.0031\n"
     ]
    },
    {
     "name": "stderr",
     "output_type": "stream",
     "text": [
      "                                                                                \r"
     ]
    },
    {
     "name": "stdout",
     "output_type": "stream",
     "text": [
      "Epoch 24/50, Train Loss: 0.0008, Val Loss: 0.0031\n"
     ]
    },
    {
     "name": "stderr",
     "output_type": "stream",
     "text": [
      "                                                                                \r"
     ]
    },
    {
     "name": "stdout",
     "output_type": "stream",
     "text": [
      "Epoch 25/50, Train Loss: 0.0007, Val Loss: 0.0031\n"
     ]
    },
    {
     "name": "stderr",
     "output_type": "stream",
     "text": [
      "                                                                                \r"
     ]
    },
    {
     "name": "stdout",
     "output_type": "stream",
     "text": [
      "Epoch 26/50, Train Loss: 0.0007, Val Loss: 0.0031\n"
     ]
    },
    {
     "name": "stderr",
     "output_type": "stream",
     "text": [
      "                                                                                \r"
     ]
    },
    {
     "name": "stdout",
     "output_type": "stream",
     "text": [
      "Epoch 27/50, Train Loss: 0.0007, Val Loss: 0.0031\n"
     ]
    },
    {
     "name": "stderr",
     "output_type": "stream",
     "text": [
      "                                                                                \r"
     ]
    },
    {
     "name": "stdout",
     "output_type": "stream",
     "text": [
      "Epoch 28/50, Train Loss: 0.0007, Val Loss: 0.0031\n"
     ]
    },
    {
     "name": "stderr",
     "output_type": "stream",
     "text": [
      "                                                                                \r"
     ]
    },
    {
     "name": "stdout",
     "output_type": "stream",
     "text": [
      "Epoch 29/50, Train Loss: 0.0007, Val Loss: 0.0032\n"
     ]
    },
    {
     "name": "stderr",
     "output_type": "stream",
     "text": [
      "                                                                                \r"
     ]
    },
    {
     "name": "stdout",
     "output_type": "stream",
     "text": [
      "Epoch 30/50, Train Loss: 0.0007, Val Loss: 0.0031\n"
     ]
    },
    {
     "name": "stderr",
     "output_type": "stream",
     "text": [
      "                                                                                \r"
     ]
    },
    {
     "name": "stdout",
     "output_type": "stream",
     "text": [
      "Epoch 31/50, Train Loss: 0.0007, Val Loss: 0.0031\n",
      "Early stopping triggered\n"
     ]
    },
    {
     "data": {
      "image/png": "[encoded data removed]",
      "text/plain": [
       "<Figure size 1000x500 with 1 Axes>"
      ]
     },
     "metadata": {},
     "output_type": "display_data"
    },
    {
     "name": "stdout",
     "output_type": "stream",
     "text": [
      "Training duration: 134.01956009864807 seconds\n"
     ]
    }
   ],
   "source": [
    "# Training\n",
    "trainer = ModelTrainer(data_preparation, cell_type)\n",
    "trained_model, training_duration = trainer.train()\n",
    "print(f\"Training duration: {training_duration} seconds\")"
   ]
  },
  {
   "cell_type": "code",
   "execution_count": 73,
   "id": "087b11b1-9e06-44b8-ab0b-525c50ca406c",
   "metadata": {},
   "outputs": [
    {
     "name": "stdout",
     "output_type": "stream",
     "text": [
      "predictions: [ 0.06597342  0.04155216 -0.00482293  0.06039784  0.03285713]\n",
      "actuals: [0. 0. 0. 0. 0.]\n",
      "correct: 13\n",
      "total: 111\n"
     ]
    },
    {
     "data": {
      "image/png": "[encoded data removed]",
      "text/plain": [
       "<Figure size 1000x500 with 1 Axes>"
      ]
     },
     "metadata": {},
     "output_type": "display_data"
    },
    {
     "name": "stdout",
     "output_type": "stream",
     "text": [
      "Test loss: 0.0018125775968655944\n",
      "Classification accuracy: 0.11711711711711711\n"
     ]
    }
   ],
   "source": [
    "# Prediction\n",
    "predictor = ModelPredictor(trained_model, data_preparation, cell_type)\n",
    "test_loss, classification_accuracy = predictor.predict()\n",
    "print(f\"Test loss: {test_loss}\")\n",
    "print(f\"Classification accuracy: {classification_accuracy}\")"
   ]
  },
  {
   "cell_type": "code",
   "execution_count": 81,
   "id": "97fc2119-fdc4-4826-be67-2d7eb6faf8b9",
   "metadata": {},
   "outputs": [],
   "source": [
    "cell_type = 'gru'"
   ]
  },
  {
   "cell_type": "code",
   "execution_count": 82,
   "id": "2b5fa42f-e2d0-4e2c-8d8e-a940282be4a1",
   "metadata": {},
   "outputs": [
    {
     "name": "stderr",
     "output_type": "stream",
     "text": [
      "                                                                                \r"
     ]
    },
    {
     "name": "stdout",
     "output_type": "stream",
     "text": [
      "Epoch 1/50, Train Loss: 0.0088, Val Loss: 0.0039\n"
     ]
    },
    {
     "name": "stderr",
     "output_type": "stream",
     "text": [
      "                                                                                \r"
     ]
    },
    {
     "name": "stdout",
     "output_type": "stream",
     "text": [
      "Epoch 2/50, Train Loss: 0.0032, Val Loss: 0.0041\n"
     ]
    },
    {
     "name": "stderr",
     "output_type": "stream",
     "text": [
      "                                                                                \r"
     ]
    },
    {
     "name": "stdout",
     "output_type": "stream",
     "text": [
      "Epoch 3/50, Train Loss: 0.0028, Val Loss: 0.0042\n"
     ]
    },
    {
     "name": "stderr",
     "output_type": "stream",
     "text": [
      "                                                                                \r"
     ]
    },
    {
     "name": "stdout",
     "output_type": "stream",
     "text": [
      "Epoch 4/50, Train Loss: 0.0025, Val Loss: 0.0040\n"
     ]
    },
    {
     "name": "stderr",
     "output_type": "stream",
     "text": [
      "                                                                                \r"
     ]
    },
    {
     "name": "stdout",
     "output_type": "stream",
     "text": [
      "Epoch 5/50, Train Loss: 0.0022, Val Loss: 0.0037\n"
     ]
    },
    {
     "name": "stderr",
     "output_type": "stream",
     "text": [
      "                                                                                \r"
     ]
    },
    {
     "name": "stdout",
     "output_type": "stream",
     "text": [
      "Epoch 6/50, Train Loss: 0.0018, Val Loss: 0.0036\n"
     ]
    },
    {
     "name": "stderr",
     "output_type": "stream",
     "text": [
      "                                                                                \r"
     ]
    },
    {
     "name": "stdout",
     "output_type": "stream",
     "text": [
      "Epoch 7/50, Train Loss: 0.0018, Val Loss: 0.0036\n"
     ]
    },
    {
     "name": "stderr",
     "output_type": "stream",
     "text": [
      "                                                                                \r"
     ]
    },
    {
     "name": "stdout",
     "output_type": "stream",
     "text": [
      "Epoch 8/50, Train Loss: 0.0017, Val Loss: 0.0036\n"
     ]
    },
    {
     "name": "stderr",
     "output_type": "stream",
     "text": [
      "                                                                                \r"
     ]
    },
    {
     "name": "stdout",
     "output_type": "stream",
     "text": [
      "Epoch 9/50, Train Loss: 0.0017, Val Loss: 0.0036\n"
     ]
    },
    {
     "name": "stderr",
     "output_type": "stream",
     "text": [
      "                                                                                \r"
     ]
    },
    {
     "name": "stdout",
     "output_type": "stream",
     "text": [
      "Epoch 10/50, Train Loss: 0.0017, Val Loss: 0.0036\n"
     ]
    },
    {
     "name": "stderr",
     "output_type": "stream",
     "text": [
      "                                                                                \r"
     ]
    },
    {
     "name": "stdout",
     "output_type": "stream",
     "text": [
      "Epoch 11/50, Train Loss: 0.0016, Val Loss: 0.0036\n"
     ]
    },
    {
     "name": "stderr",
     "output_type": "stream",
     "text": [
      "                                                                                \r"
     ]
    },
    {
     "name": "stdout",
     "output_type": "stream",
     "text": [
      "Epoch 12/50, Train Loss: 0.0017, Val Loss: 0.0036\n"
     ]
    },
    {
     "name": "stderr",
     "output_type": "stream",
     "text": [
      "                                                                                \r"
     ]
    },
    {
     "name": "stdout",
     "output_type": "stream",
     "text": [
      "Epoch 13/50, Train Loss: 0.0015, Val Loss: 0.0036\n"
     ]
    },
    {
     "name": "stderr",
     "output_type": "stream",
     "text": [
      "                                                                                \r"
     ]
    },
    {
     "name": "stdout",
     "output_type": "stream",
     "text": [
      "Epoch 14/50, Train Loss: 0.0017, Val Loss: 0.0036\n"
     ]
    },
    {
     "name": "stderr",
     "output_type": "stream",
     "text": [
      "                                                                                \r"
     ]
    },
    {
     "name": "stdout",
     "output_type": "stream",
     "text": [
      "Epoch 15/50, Train Loss: 0.0016, Val Loss: 0.0036\n"
     ]
    },
    {
     "name": "stderr",
     "output_type": "stream",
     "text": [
      "                                                                                \r"
     ]
    },
    {
     "name": "stdout",
     "output_type": "stream",
     "text": [
      "Epoch 16/50, Train Loss: 0.0017, Val Loss: 0.0036\n"
     ]
    },
    {
     "name": "stderr",
     "output_type": "stream",
     "text": [
      "                                                                                \r"
     ]
    },
    {
     "name": "stdout",
     "output_type": "stream",
     "text": [
      "Epoch 17/50, Train Loss: 0.0015, Val Loss: 0.0036\n"
     ]
    },
    {
     "name": "stderr",
     "output_type": "stream",
     "text": [
      "                                                                                \r"
     ]
    },
    {
     "name": "stdout",
     "output_type": "stream",
     "text": [
      "Epoch 18/50, Train Loss: 0.0014, Val Loss: 0.0036\n"
     ]
    },
    {
     "name": "stderr",
     "output_type": "stream",
     "text": [
      "                                                                                \r"
     ]
    },
    {
     "name": "stdout",
     "output_type": "stream",
     "text": [
      "Epoch 19/50, Train Loss: 0.0015, Val Loss: 0.0036\n"
     ]
    },
    {
     "name": "stderr",
     "output_type": "stream",
     "text": [
      "                                                                                \r"
     ]
    },
    {
     "name": "stdout",
     "output_type": "stream",
     "text": [
      "Epoch 20/50, Train Loss: 0.0015, Val Loss: 0.0036\n"
     ]
    },
    {
     "name": "stderr",
     "output_type": "stream",
     "text": [
      "                                                                                \r"
     ]
    },
    {
     "name": "stdout",
     "output_type": "stream",
     "text": [
      "Epoch 21/50, Train Loss: 0.0014, Val Loss: 0.0036\n"
     ]
    },
    {
     "name": "stderr",
     "output_type": "stream",
     "text": [
      "                                                                                \r"
     ]
    },
    {
     "name": "stdout",
     "output_type": "stream",
     "text": [
      "Epoch 22/50, Train Loss: 0.0014, Val Loss: 0.0036\n"
     ]
    },
    {
     "name": "stderr",
     "output_type": "stream",
     "text": [
      "                                                                                \r"
     ]
    },
    {
     "name": "stdout",
     "output_type": "stream",
     "text": [
      "Epoch 23/50, Train Loss: 0.0015, Val Loss: 0.0036\n"
     ]
    },
    {
     "name": "stderr",
     "output_type": "stream",
     "text": [
      "                                                                                \r"
     ]
    },
    {
     "name": "stdout",
     "output_type": "stream",
     "text": [
      "Epoch 24/50, Train Loss: 0.0015, Val Loss: 0.0036\n"
     ]
    },
    {
     "name": "stderr",
     "output_type": "stream",
     "text": [
      "                                                                                \r"
     ]
    },
    {
     "name": "stdout",
     "output_type": "stream",
     "text": [
      "Epoch 25/50, Train Loss: 0.0014, Val Loss: 0.0036\n"
     ]
    },
    {
     "name": "stderr",
     "output_type": "stream",
     "text": [
      "                                                                                \r"
     ]
    },
    {
     "name": "stdout",
     "output_type": "stream",
     "text": [
      "Epoch 26/50, Train Loss: 0.0015, Val Loss: 0.0036\n"
     ]
    },
    {
     "name": "stderr",
     "output_type": "stream",
     "text": [
      "                                                                                \r"
     ]
    },
    {
     "name": "stdout",
     "output_type": "stream",
     "text": [
      "Epoch 27/50, Train Loss: 0.0013, Val Loss: 0.0036\n"
     ]
    },
    {
     "name": "stderr",
     "output_type": "stream",
     "text": [
      "                                                                                \r"
     ]
    },
    {
     "name": "stdout",
     "output_type": "stream",
     "text": [
      "Epoch 28/50, Train Loss: 0.0013, Val Loss: 0.0036\n"
     ]
    },
    {
     "name": "stderr",
     "output_type": "stream",
     "text": [
      "                                                                                \r"
     ]
    },
    {
     "name": "stdout",
     "output_type": "stream",
     "text": [
      "Epoch 29/50, Train Loss: 0.0013, Val Loss: 0.0036\n"
     ]
    },
    {
     "name": "stderr",
     "output_type": "stream",
     "text": [
      "                                                                                \r"
     ]
    },
    {
     "name": "stdout",
     "output_type": "stream",
     "text": [
      "Epoch 30/50, Train Loss: 0.0012, Val Loss: 0.0035\n"
     ]
    },
    {
     "name": "stderr",
     "output_type": "stream",
     "text": [
      "                                                                                \r"
     ]
    },
    {
     "name": "stdout",
     "output_type": "stream",
     "text": [
      "Epoch 31/50, Train Loss: 0.0013, Val Loss: 0.0035\n"
     ]
    },
    {
     "name": "stderr",
     "output_type": "stream",
     "text": [
      "                                                                                \r"
     ]
    },
    {
     "name": "stdout",
     "output_type": "stream",
     "text": [
      "Epoch 32/50, Train Loss: 0.0014, Val Loss: 0.0035\n"
     ]
    },
    {
     "name": "stderr",
     "output_type": "stream",
     "text": [
      "                                                                                \r"
     ]
    },
    {
     "name": "stdout",
     "output_type": "stream",
     "text": [
      "Epoch 33/50, Train Loss: 0.0013, Val Loss: 0.0036\n"
     ]
    },
    {
     "name": "stderr",
     "output_type": "stream",
     "text": [
      "                                                                                \r"
     ]
    },
    {
     "name": "stdout",
     "output_type": "stream",
     "text": [
      "Epoch 34/50, Train Loss: 0.0014, Val Loss: 0.0036\n"
     ]
    },
    {
     "name": "stderr",
     "output_type": "stream",
     "text": [
      "                                                                                \r"
     ]
    },
    {
     "name": "stdout",
     "output_type": "stream",
     "text": [
      "Epoch 35/50, Train Loss: 0.0012, Val Loss: 0.0036\n"
     ]
    },
    {
     "name": "stderr",
     "output_type": "stream",
     "text": [
      "                                                                                \r"
     ]
    },
    {
     "name": "stdout",
     "output_type": "stream",
     "text": [
      "Epoch 36/50, Train Loss: 0.0012, Val Loss: 0.0036\n"
     ]
    },
    {
     "name": "stderr",
     "output_type": "stream",
     "text": [
      "                                                                                \r"
     ]
    },
    {
     "name": "stdout",
     "output_type": "stream",
     "text": [
      "Epoch 37/50, Train Loss: 0.0012, Val Loss: 0.0036\n"
     ]
    },
    {
     "name": "stderr",
     "output_type": "stream",
     "text": [
      "                                                                                \r"
     ]
    },
    {
     "name": "stdout",
     "output_type": "stream",
     "text": [
      "Epoch 38/50, Train Loss: 0.0012, Val Loss: 0.0036\n"
     ]
    },
    {
     "name": "stderr",
     "output_type": "stream",
     "text": [
      "                                                                                \r"
     ]
    },
    {
     "name": "stdout",
     "output_type": "stream",
     "text": [
      "Epoch 39/50, Train Loss: 0.0013, Val Loss: 0.0036\n"
     ]
    },
    {
     "name": "stderr",
     "output_type": "stream",
     "text": [
      "                                                                                \r"
     ]
    },
    {
     "name": "stdout",
     "output_type": "stream",
     "text": [
      "Epoch 40/50, Train Loss: 0.0012, Val Loss: 0.0036\n"
     ]
    },
    {
     "name": "stderr",
     "output_type": "stream",
     "text": [
      "                                                                                \r"
     ]
    },
    {
     "name": "stdout",
     "output_type": "stream",
     "text": [
      "Epoch 41/50, Train Loss: 0.0012, Val Loss: 0.0035\n",
      "Early stopping triggered\n"
     ]
    },
    {
     "data": {
      "image/png": "[encoded data removed]",
      "text/plain": [
       "<Figure size 1000x500 with 1 Axes>"
      ]
     },
     "metadata": {},
     "output_type": "display_data"
    },
    {
     "name": "stdout",
     "output_type": "stream",
     "text": [
      "Training duration: 163.94408798217773 seconds\n"
     ]
    }
   ],
   "source": [
    "# Training\n",
    "trainer = ModelTrainer(data_preparation, cell_type)\n",
    "trained_model, training_duration = trainer.train()\n",
    "print(f\"Training duration: {training_duration} seconds\")"
   ]
  },
  {
   "cell_type": "code",
   "execution_count": 83,
   "id": "66fb4bb2-fb44-4b53-8e6b-c79ca9cf3948",
   "metadata": {},
   "outputs": [
    {
     "name": "stdout",
     "output_type": "stream",
     "text": [
      "predictions: [-0.01916786 -0.01646342  0.0003892  -0.01537564 -0.01012439]\n",
      "actuals: [0. 0. 0. 0. 0.]\n",
      "correct: 15\n",
      "total: 111\n"
     ]
    },
    {
     "data": {
      "image/png": "[encoded data removed]",
      "text/plain": [
       "<Figure size 1000x500 with 1 Axes>"
      ]
     },
     "metadata": {},
     "output_type": "display_data"
    },
    {
     "name": "stdout",
     "output_type": "stream",
     "text": [
      "Test loss: 0.0011396418558433652\n",
      "Classification accuracy: 0.13513513513513514\n"
     ]
    }
   ],
   "source": [
    "# Prediction\n",
    "predictor = ModelPredictor(trained_model, data_preparation, cell_type)\n",
    "test_loss, classification_accuracy = predictor.predict()\n",
    "print(f\"Test loss: {test_loss}\")\n",
    "print(f\"Classification accuracy: {classification_accuracy}\")"
   ]
  },
  {
   "cell_type": "markdown",
   "id": "0b090a4e-768d-4f17-a712-e6777d506fe5",
   "metadata": {},
   "source": [
    "## Hyperparameter Search"
   ]
  },
  {
   "cell_type": "code",
   "execution_count": null,
   "id": "e915769c-f17f-4104-8fc2-7c11e0617632",
   "metadata": {},
   "outputs": [],
   "source": [
    "def grid_search(data_preparation, cell_type, search_space):\n",
    "    # Define dataframe\n",
    "    df = pd.DataFrame(columns=['Input Size', 'Number of Steps', 'Test Loss', 'Classification Accuracy', 'Duration'] + list(search_space.keys()))\n",
    "\n",
    "    # Loop over the hyperparam values\n",
    "    for param_combination in ParameterGrid(search_space):\n",
    "        start_time = time.time()\n",
    "        \n",
    "        # Modify the hyperparameters\n",
    "        data_preparation = DataPreparation(dataset_name, \n",
    "                                           intervals,\n",
    "                                           num_steps=param_combination['num_steps'], \n",
    "                                           input_size=param_combination['input_size'])\n",
    "        \n",
    "        # Modify the model parameters\n",
    "        if cell_type == 'lstm':\n",
    "            model_params = {\n",
    "                'lstm_units': param_combination['lstm_units'],\n",
    "                'lstm_layers': param_combination['lstm_layers'],\n",
    "                'dropout_rate': param_combination['dropout_rate'],\n",
    "                'dense_units': param_combination['dense_units'],\n",
    "                'init_learning_rate': param_combination['init_learning_rate'],\n",
    "                'learning_rate_decay': param_combination['learning_rate_decay']\n",
    "            }\n",
    "        elif cell_type == 'gru':\n",
    "            model_params = {\n",
    "                'gru_units': param_combination['gru_units'],\n",
    "                'gru_layers': param_combination['gru_layers'],\n",
    "                'dropout_rate': param_combination['dropout_rate'],\n",
    "                'dense_units': param_combination['dense_units'],\n",
    "                'init_learning_rate': param_combination['init_learning_rate'],\n",
    "                'learning_rate_decay': param_combination['learning_rate_decay']\n",
    "            }\n",
    "        \n",
    "        # Training\n",
    "        model = CustomRNNModel(data_preparation.input_size, data_preparation.num_features, model_params[cell_type + '_units'], data_preparation.input_size, model_params[cell_type + '_layers'], model_params['dropout_rate'], model_params['dense_units'], cell_type=cell_type)\n",
    "        trainer = ModelTrainer(data_preparation, cell_type)\n",
    "        trained_model, training_duration = trainer.train(hyperparam_grid=model_params)\n",
    "\n",
    "        # Prediction\n",
    "        predictor = ModelPredictor(trained_model, data_preparation, cell_type)\n",
    "        test_loss, classification_accuracy = predictor.predict()\n",
    "        \n",
    "        # Append the results to the dataframe\n",
    "        result = param_combination.copy()\n",
    "        result['Test Loss'] = test_loss\n",
    "        result['Classification Accuracy'] = classification_accuracy\n",
    "        result['Duration'] = training_duration\n",
    "        df = df.append(result, ignore_index=True)\n",
    "    \n",
    "    # Save results to CSV\n",
    "    df.to_csv(f'results/{cell_type}_evaluation_results.csv', index=False)"
   ]
  },
  {
   "cell_type": "code",
   "execution_count": null,
   "id": "aaf0929d-6959-47e3-aea3-ef307d20779c",
   "metadata": {},
   "outputs": [],
   "source": [
    "def get_best_model(data_preparation, cell_type, search_space, SEARCH_NEEDED=False):\n",
    "    # Perform grid search if needed (setting SEARCH_NEEDED = TRUE will RUN LONG TIME!!!)\n",
    "    if SEARCH_NEEDED:\n",
    "        grid_search(data_preparation, cell_type, search_space)\n",
    "    \n",
    "    # Get best model\n",
    "    df = pd.read_csv(f'results/{cell_type}_evaluation_results.csv')\n",
    "    idx = np.argmin(df['Test Loss'])\n",
    "    df_best_model = df.iloc[idx, :]\n",
    "    return df_best_model"
   ]
  },
  {
   "cell_type": "code",
   "execution_count": null,
   "id": "4d7a622b-c8f5-479c-b921-5692cb4682a5",
   "metadata": {
    "scrolled": true
   },
   "outputs": [],
   "source": [
    "# Define the hyperparameter search space for LSTM model\n",
    "lstm_search_space = {\n",
    "    'input_size': [30],\n",
    "    'num_steps': [2],\n",
    "    'lstm_units': [32, 64, 128],\n",
    "    'lstm_layers': [1, 2, 3, 4, 5, 6, 7, 8],\n",
    "    'dropout_rate': [0.1, 0.2, 0.3],\n",
    "    'dense_units': [10, 25, 50],\n",
    "    'init_learning_rate': [0.0001, 0.001, 0.01],\n",
    "    'learning_rate_decay': [0.9, 0.99, 1.0]\n",
    "}\n",
    "\n",
    "# LSTM hyperparameter search (setting SEARCH_NEEDED = TRUE will RUN LONG TIME!!!)\n",
    "cell_type = 'lstm'\n",
    "SEARCH_NEEDED_LSTM = True\n",
    "df_best_model_lstm = get_best_model(data_preparation, cell_type, lstm_search_space, SEARCH_NEEDED=SEARCH_NEEDED_LSTM)\n",
    "\n",
    "print(\"Best LSTM model configuration:\")\n",
    "print(df_best_model_lstm)"
   ]
  },
  {
   "cell_type": "code",
   "execution_count": null,
   "id": "4eb045fd-b9b2-480d-8dc2-ab0109f024e6",
   "metadata": {},
   "outputs": [],
   "source": [
    "# Modify the input_size and num_steps attributes\n",
    "data_preparation_lstm = DataPreparation(dataset_name, num_steps=int(df_best_model_lstm['num_steps']), input_size=int(df_best_model_lstm['input_size']))\n",
    "\n",
    "# Training\n",
    "trainer_lstm = ModelTrainer(data_preparation_lstm, cell_type, model_params=df_best_model_lstm.to_dict())\n",
    "trained_model_lstm, training_duration_lstm = trainer_lstm.train()\n",
    "\n",
    "# Prediction\n",
    "predictor_lstm = ModelPredictor(trained_model_lstm, data_preparation_lstm, cell_type)\n",
    "test_loss_lstm, classification_accuracy_lstm = predictor_lstm.predict()\n",
    "\n",
    "print(\"Test loss of best LSTM model:\", test_loss_lstm)\n",
    "print(\"Classification accuracy of best LSTM model:\", classification_accuracy_lstm)\n",
    "print(\"Duration of best LSTM model:\", training_duration_lstm)"
   ]
  },
  {
   "cell_type": "code",
   "execution_count": 93,
   "id": "b29927b0-71bb-4c9d-acae-f7d06ccd2a16",
   "metadata": {},
   "outputs": [
    {
     "name": "stderr",
     "output_type": "stream",
     "text": [
      "No artists with labels found to put in legend.  Note that artists whose label start with an underscore are ignored when legend() is called with no argument.\n"
     ]
    },
    {
     "data": {
      "image/png": "[encoded data removed]",
      "text/plain": [
       "<Figure size 1000x500 with 1 Axes>"
      ]
     },
     "metadata": {},
     "output_type": "display_data"
    },
    {
     "name": "stderr",
     "output_type": "stream",
     "text": [
      "                                                                                \r"
     ]
    },
    {
     "ename": "ValueError",
     "evalue": "not enough values to unpack (expected 4, got 3)",
     "output_type": "error",
     "traceback": [
      "\u001b[0;31m---------------------------------------------------------------------------\u001b[0m",
      "\u001b[0;31mValueError\u001b[0m                                Traceback (most recent call last)",
      "Cell \u001b[0;32mIn[93], line 16\u001b[0m\n\u001b[1;32m     14\u001b[0m cell_type \u001b[38;5;241m=\u001b[39m \u001b[38;5;124m'\u001b[39m\u001b[38;5;124mgru\u001b[39m\u001b[38;5;124m'\u001b[39m\n\u001b[1;32m     15\u001b[0m SEARCH_NEEDED_GRU \u001b[38;5;241m=\u001b[39m \u001b[38;5;28;01mTrue\u001b[39;00m\n\u001b[0;32m---> 16\u001b[0m df_best_model_gru \u001b[38;5;241m=\u001b[39m \u001b[43mget_best_model\u001b[49m\u001b[43m(\u001b[49m\u001b[43mdata_preparation\u001b[49m\u001b[43m,\u001b[49m\u001b[43m \u001b[49m\u001b[43mcell_type\u001b[49m\u001b[43m,\u001b[49m\u001b[43m \u001b[49m\u001b[43mgru_search_space\u001b[49m\u001b[43m,\u001b[49m\u001b[43m \u001b[49m\u001b[43mSEARCH_NEEDED\u001b[49m\u001b[38;5;241;43m=\u001b[39;49m\u001b[43mSEARCH_NEEDED_GRU\u001b[49m\u001b[43m)\u001b[49m\n\u001b[1;32m     18\u001b[0m \u001b[38;5;28mprint\u001b[39m(\u001b[38;5;124m\"\u001b[39m\u001b[38;5;124mBest GRU model configuration:\u001b[39m\u001b[38;5;124m\"\u001b[39m)\n\u001b[1;32m     19\u001b[0m \u001b[38;5;28mprint\u001b[39m(df_best_model_gru)\n",
      "Cell \u001b[0;32mIn[90], line 4\u001b[0m, in \u001b[0;36mget_best_model\u001b[0;34m(data_preparation, cell_type, search_space, SEARCH_NEEDED)\u001b[0m\n\u001b[1;32m      1\u001b[0m \u001b[38;5;28;01mdef\u001b[39;00m \u001b[38;5;21mget_best_model\u001b[39m(data_preparation, cell_type, search_space, SEARCH_NEEDED\u001b[38;5;241m=\u001b[39m\u001b[38;5;28;01mFalse\u001b[39;00m):\n\u001b[1;32m      2\u001b[0m     \u001b[38;5;66;03m# Perform grid search if needed (setting SEARCH_NEEDED = TRUE will RUN LONG TIME!!!)\u001b[39;00m\n\u001b[1;32m      3\u001b[0m     \u001b[38;5;28;01mif\u001b[39;00m SEARCH_NEEDED:\n\u001b[0;32m----> 4\u001b[0m         \u001b[43mgrid_search\u001b[49m\u001b[43m(\u001b[49m\u001b[43mdata_preparation\u001b[49m\u001b[43m,\u001b[49m\u001b[43m \u001b[49m\u001b[43mcell_type\u001b[49m\u001b[43m,\u001b[49m\u001b[43m \u001b[49m\u001b[43msearch_space\u001b[49m\u001b[43m)\u001b[49m\n\u001b[1;32m      6\u001b[0m     \u001b[38;5;66;03m# Get best model\u001b[39;00m\n\u001b[1;32m      7\u001b[0m     df \u001b[38;5;241m=\u001b[39m pd\u001b[38;5;241m.\u001b[39mread_csv(\u001b[38;5;124mf\u001b[39m\u001b[38;5;124m'\u001b[39m\u001b[38;5;124mresults/\u001b[39m\u001b[38;5;132;01m{\u001b[39;00mcell_type\u001b[38;5;132;01m}\u001b[39;00m\u001b[38;5;124m_evaluation_results.csv\u001b[39m\u001b[38;5;124m'\u001b[39m)\n",
      "Cell \u001b[0;32mIn[89], line 38\u001b[0m, in \u001b[0;36mgrid_search\u001b[0;34m(data_preparation, cell_type, search_space)\u001b[0m\n\u001b[1;32m     36\u001b[0m model \u001b[38;5;241m=\u001b[39m CustomRNNModel(data_preparation\u001b[38;5;241m.\u001b[39minput_size, data_preparation\u001b[38;5;241m.\u001b[39mnum_features, model_params[cell_type \u001b[38;5;241m+\u001b[39m \u001b[38;5;124m'\u001b[39m\u001b[38;5;124m_units\u001b[39m\u001b[38;5;124m'\u001b[39m], data_preparation\u001b[38;5;241m.\u001b[39minput_size, model_params[cell_type \u001b[38;5;241m+\u001b[39m \u001b[38;5;124m'\u001b[39m\u001b[38;5;124m_layers\u001b[39m\u001b[38;5;124m'\u001b[39m], model_params[\u001b[38;5;124m'\u001b[39m\u001b[38;5;124mdropout_rate\u001b[39m\u001b[38;5;124m'\u001b[39m], model_params[\u001b[38;5;124m'\u001b[39m\u001b[38;5;124mdense_units\u001b[39m\u001b[38;5;124m'\u001b[39m], cell_type\u001b[38;5;241m=\u001b[39mcell_type)\n\u001b[1;32m     37\u001b[0m trainer \u001b[38;5;241m=\u001b[39m ModelTrainer(data_preparation, cell_type)\n\u001b[0;32m---> 38\u001b[0m trained_model, training_duration \u001b[38;5;241m=\u001b[39m \u001b[43mtrainer\u001b[49m\u001b[38;5;241;43m.\u001b[39;49m\u001b[43mtrain\u001b[49m\u001b[43m(\u001b[49m\u001b[43mhyperparam_grid\u001b[49m\u001b[38;5;241;43m=\u001b[39;49m\u001b[43mmodel_params\u001b[49m\u001b[43m)\u001b[49m\n\u001b[1;32m     40\u001b[0m \u001b[38;5;66;03m# Prediction\u001b[39;00m\n\u001b[1;32m     41\u001b[0m predictor \u001b[38;5;241m=\u001b[39m ModelPredictor(trained_model, data_preparation, cell_type)\n",
      "Cell \u001b[0;32mIn[73], line 107\u001b[0m, in \u001b[0;36mModelTrainer.train\u001b[0;34m(self, hyperparam_grid)\u001b[0m\n\u001b[1;32m    104\u001b[0m criterion \u001b[38;5;241m=\u001b[39m choose_loss_function(\u001b[38;5;124m'\u001b[39m\u001b[38;5;124mmse\u001b[39m\u001b[38;5;124m'\u001b[39m)\n\u001b[1;32m    106\u001b[0m start_time \u001b[38;5;241m=\u001b[39m time\u001b[38;5;241m.\u001b[39mtime()\n\u001b[0;32m--> 107\u001b[0m train_losses, val_losses \u001b[38;5;241m=\u001b[39m \u001b[38;5;28;43mself\u001b[39;49m\u001b[38;5;241;43m.\u001b[39;49m\u001b[43mtrain_model\u001b[49m\u001b[43m(\u001b[49m\u001b[43mmodel\u001b[49m\u001b[43m,\u001b[49m\u001b[43m \u001b[49m\u001b[38;5;28;43mself\u001b[39;49m\u001b[38;5;241;43m.\u001b[39;49m\u001b[43mdata_preparation\u001b[49m\u001b[38;5;241;43m.\u001b[39;49m\u001b[43mtrain_loader\u001b[49m\u001b[43m,\u001b[49m\u001b[43m \u001b[49m\u001b[38;5;28;43mself\u001b[39;49m\u001b[38;5;241;43m.\u001b[39;49m\u001b[43mdata_preparation\u001b[49m\u001b[38;5;241;43m.\u001b[39;49m\u001b[43mval_loader\u001b[49m\u001b[43m,\u001b[49m\u001b[43m \u001b[49m\u001b[43mcriterion\u001b[49m\u001b[43m,\u001b[49m\u001b[43m \u001b[49m\u001b[43minit_epochs\u001b[49m\u001b[43m,\u001b[49m\u001b[43m \u001b[49m\u001b[43mmax_epochs\u001b[49m\u001b[43m,\u001b[49m\u001b[43m \u001b[49m\u001b[43minit_learning_rate\u001b[49m\u001b[43m,\u001b[49m\u001b[43m \u001b[49m\u001b[43mlearning_rate_decay\u001b[49m\u001b[43m,\u001b[49m\u001b[43m \u001b[49m\u001b[43mdevice\u001b[49m\u001b[43m,\u001b[49m\u001b[43m \u001b[49m\u001b[43mearly_stop_patience\u001b[49m\u001b[43m)\u001b[49m\n\u001b[1;32m    108\u001b[0m duration \u001b[38;5;241m=\u001b[39m time\u001b[38;5;241m.\u001b[39mtime() \u001b[38;5;241m-\u001b[39m start_time\n\u001b[1;32m    109\u001b[0m torch\u001b[38;5;241m.\u001b[39msave(model\u001b[38;5;241m.\u001b[39mstate_dict(), \u001b[38;5;124mf\u001b[39m\u001b[38;5;124m'\u001b[39m\u001b[38;5;124mmodels/SP500_\u001b[39m\u001b[38;5;132;01m{\u001b[39;00mcell_type\u001b[38;5;132;01m}\u001b[39;00m\u001b[38;5;124m_model.pth\u001b[39m\u001b[38;5;124m'\u001b[39m)\n",
      "Cell \u001b[0;32mIn[73], line 55\u001b[0m, in \u001b[0;36mModelTrainer.train_model\u001b[0;34m(self, model, train_loader, val_loader, criterion, init_epochs, num_epochs, init_learning_rate, learning_rate_decay, device, early_stop_patience)\u001b[0m\n\u001b[1;32m     52\u001b[0m X_batch, y_batch \u001b[38;5;241m=\u001b[39m X_batch\u001b[38;5;241m.\u001b[39mto(device), y_batch\u001b[38;5;241m.\u001b[39mto(device)\n\u001b[1;32m     54\u001b[0m optimizer\u001b[38;5;241m.\u001b[39mzero_grad()\n\u001b[0;32m---> 55\u001b[0m outputs \u001b[38;5;241m=\u001b[39m \u001b[43mmodel\u001b[49m\u001b[43m(\u001b[49m\u001b[43mX_batch\u001b[49m\u001b[43m)\u001b[49m\n\u001b[1;32m     56\u001b[0m loss \u001b[38;5;241m=\u001b[39m criterion(outputs, y_batch)\n\u001b[1;32m     57\u001b[0m loss\u001b[38;5;241m.\u001b[39mbackward()\n",
      "File \u001b[0;32m~/miniforge3/envs/tf_m1/lib/python3.8/site-packages/torch/nn/modules/module.py:1532\u001b[0m, in \u001b[0;36mModule._wrapped_call_impl\u001b[0;34m(self, *args, **kwargs)\u001b[0m\n\u001b[1;32m   1530\u001b[0m     \u001b[38;5;28;01mreturn\u001b[39;00m \u001b[38;5;28mself\u001b[39m\u001b[38;5;241m.\u001b[39m_compiled_call_impl(\u001b[38;5;241m*\u001b[39margs, \u001b[38;5;241m*\u001b[39m\u001b[38;5;241m*\u001b[39mkwargs)  \u001b[38;5;66;03m# type: ignore[misc]\u001b[39;00m\n\u001b[1;32m   1531\u001b[0m \u001b[38;5;28;01melse\u001b[39;00m:\n\u001b[0;32m-> 1532\u001b[0m     \u001b[38;5;28;01mreturn\u001b[39;00m \u001b[38;5;28;43mself\u001b[39;49m\u001b[38;5;241;43m.\u001b[39;49m\u001b[43m_call_impl\u001b[49m\u001b[43m(\u001b[49m\u001b[38;5;241;43m*\u001b[39;49m\u001b[43margs\u001b[49m\u001b[43m,\u001b[49m\u001b[43m \u001b[49m\u001b[38;5;241;43m*\u001b[39;49m\u001b[38;5;241;43m*\u001b[39;49m\u001b[43mkwargs\u001b[49m\u001b[43m)\u001b[49m\n",
      "File \u001b[0;32m~/miniforge3/envs/tf_m1/lib/python3.8/site-packages/torch/nn/modules/module.py:1541\u001b[0m, in \u001b[0;36mModule._call_impl\u001b[0;34m(self, *args, **kwargs)\u001b[0m\n\u001b[1;32m   1536\u001b[0m \u001b[38;5;66;03m# If we don't have any hooks, we want to skip the rest of the logic in\u001b[39;00m\n\u001b[1;32m   1537\u001b[0m \u001b[38;5;66;03m# this function, and just call forward.\u001b[39;00m\n\u001b[1;32m   1538\u001b[0m \u001b[38;5;28;01mif\u001b[39;00m \u001b[38;5;129;01mnot\u001b[39;00m (\u001b[38;5;28mself\u001b[39m\u001b[38;5;241m.\u001b[39m_backward_hooks \u001b[38;5;129;01mor\u001b[39;00m \u001b[38;5;28mself\u001b[39m\u001b[38;5;241m.\u001b[39m_backward_pre_hooks \u001b[38;5;129;01mor\u001b[39;00m \u001b[38;5;28mself\u001b[39m\u001b[38;5;241m.\u001b[39m_forward_hooks \u001b[38;5;129;01mor\u001b[39;00m \u001b[38;5;28mself\u001b[39m\u001b[38;5;241m.\u001b[39m_forward_pre_hooks\n\u001b[1;32m   1539\u001b[0m         \u001b[38;5;129;01mor\u001b[39;00m _global_backward_pre_hooks \u001b[38;5;129;01mor\u001b[39;00m _global_backward_hooks\n\u001b[1;32m   1540\u001b[0m         \u001b[38;5;129;01mor\u001b[39;00m _global_forward_hooks \u001b[38;5;129;01mor\u001b[39;00m _global_forward_pre_hooks):\n\u001b[0;32m-> 1541\u001b[0m     \u001b[38;5;28;01mreturn\u001b[39;00m \u001b[43mforward_call\u001b[49m\u001b[43m(\u001b[49m\u001b[38;5;241;43m*\u001b[39;49m\u001b[43margs\u001b[49m\u001b[43m,\u001b[49m\u001b[43m \u001b[49m\u001b[38;5;241;43m*\u001b[39;49m\u001b[38;5;241;43m*\u001b[39;49m\u001b[43mkwargs\u001b[49m\u001b[43m)\u001b[49m\n\u001b[1;32m   1543\u001b[0m \u001b[38;5;28;01mtry\u001b[39;00m:\n\u001b[1;32m   1544\u001b[0m     result \u001b[38;5;241m=\u001b[39m \u001b[38;5;28;01mNone\u001b[39;00m\n",
      "Cell \u001b[0;32mIn[71], line 23\u001b[0m, in \u001b[0;36mCustomRNNModel.forward\u001b[0;34m(self, x)\u001b[0m\n\u001b[1;32m     22\u001b[0m \u001b[38;5;28;01mdef\u001b[39;00m \u001b[38;5;21mforward\u001b[39m(\u001b[38;5;28mself\u001b[39m, x):\n\u001b[0;32m---> 23\u001b[0m     batch_size, num_steps, input_size, num_features \u001b[38;5;241m=\u001b[39m x\u001b[38;5;241m.\u001b[39msize()\n\u001b[1;32m     24\u001b[0m     x \u001b[38;5;241m=\u001b[39m x\u001b[38;5;241m.\u001b[39mview(batch_size, num_steps, \u001b[38;5;241m-\u001b[39m\u001b[38;5;241m1\u001b[39m)  \u001b[38;5;66;03m# Flatten the input dimensions to (batch_size, num_steps, input_size * num_features)\u001b[39;00m\n\u001b[1;32m     26\u001b[0m     h_t \u001b[38;5;241m=\u001b[39m [torch\u001b[38;5;241m.\u001b[39mzeros(batch_size, \u001b[38;5;28mself\u001b[39m\u001b[38;5;241m.\u001b[39mhidden_dim, device\u001b[38;5;241m=\u001b[39mx\u001b[38;5;241m.\u001b[39mdevice) \u001b[38;5;28;01mfor\u001b[39;00m _ \u001b[38;5;129;01min\u001b[39;00m \u001b[38;5;28mrange\u001b[39m(\u001b[38;5;28mself\u001b[39m\u001b[38;5;241m.\u001b[39mnum_layers)]\n",
      "\u001b[0;31mValueError\u001b[0m: not enough values to unpack (expected 4, got 3)"
     ]
    }
   ],
   "source": [
    "# Define the hyperparameter search space for GRU model\n",
    "gru_search_space = {\n",
    "    'input_size': [30],\n",
    "    'num_steps': [2],\n",
    "    'gru_units': [32, 64, 128],\n",
    "    'gru_layers': [3, 4],\n",
    "    'dropout_rate': [0.1, 0.2, 0.3],\n",
    "    'dense_units': [10, 25, 50],\n",
    "    'init_learning_rate': [0.0001, 0.001, 0.01],\n",
    "    'learning_rate_decay': [0.9, 0.99, 1.0]\n",
    "}\n",
    "\n",
    "# GRU hyperparameter search (setting SEARCH_NEEDED = TRUE will RUN LONG TIME!!!)\n",
    "cell_type = 'gru'\n",
    "SEARCH_NEEDED_GRU = True\n",
    "df_best_model_gru = get_best_model(data_preparation, cell_type, gru_search_space, SEARCH_NEEDED=SEARCH_NEEDED_GRU)\n",
    "\n",
    "print(\"Best GRU model configuration:\")\n",
    "print(df_best_model_gru)"
   ]
  },
  {
   "cell_type": "code",
   "execution_count": null,
   "id": "6e47baf4-4392-4c4e-9ccf-83ab2ccaecf9",
   "metadata": {},
   "outputs": [],
   "source": [
    "# Modify the input_size and num_steps attributes\n",
    "data_preparation_gru = DataPreparation(dataset_name, num_steps=int(df_best_model_gru['num_steps']), input_size=int(df_best_model_gru['input_size']))\n",
    "\n",
    "# Training\n",
    "trainer_gru = ModelTrainer(data_preparation_gru, cell_type, model_params=df_best_model_gru.to_dict())\n",
    "trained_model_gru, training_duration_gru = trainer_gru.train()\n",
    "\n",
    "# Prediction\n",
    "predictor_gru = ModelPredictor(trained_model_gru, data_preparation_gru, cell_type)\n",
    "test_loss_gru, classification_accuracy_gru = predictor_gru.predict()\n",
    "\n",
    "print(\"Test loss of best GRU model:\", test_loss_gru)\n",
    "print(\"Classification accuracy of best GRU model:\", classification_accuracy_gru)\n",
    "print(\"Duration of best GRU model:\", training_duration_gru)\n"
   ]
  },
  {
   "cell_type": "code",
   "execution_count": null,
   "id": "de33b4a4-9a04-4027-8815-4711ad8037d7",
   "metadata": {},
   "outputs": [],
   "source": []
  },
  {
   "cell_type": "code",
   "execution_count": null,
   "id": "232d58c2-0fc3-44b0-8311-56220c75d822",
   "metadata": {},
   "outputs": [],
   "source": [
    "# import numpy as np\n",
    "# from scipy.special import kl_div\n",
    "\n",
    "# # Sample data for demonstration purposes\n",
    "# # In practice, you would use actual activation data from the model\n",
    "# def get_fp32_activation_data():\n",
    "#     # Replace this with actual data collection\n",
    "#     return np.array([0.5, 1.0, 2.0, -1.0, -0.5, 3.0, -3.0, 0.1])\n",
    "\n",
    "# # **1. Calibration: Collect Data and Compute Scale Factor**\n",
    "\n",
    "# # Collect activation data (replace with actual FP32 data)\n",
    "# activation_data_fp32 = get_fp32_activation_data()\n",
    "\n",
    "# # Step 1: Determine the maximum absolute value\n",
    "# max_abs_value = np.max(np.abs(activation_data_fp32))\n",
    "\n",
    "# # Step 2: Compute the scale factor for symmetric quantization\n",
    "# def compute_scale(max_abs_value):\n",
    "#     return max_abs_value / 127  # 127 because 8-bit quantization uses values from -128 to 127\n",
    "\n",
    "# scale = compute_scale(max_abs_value)\n",
    "\n",
    "# # Step 3: Perform preliminary quantization of FP32 data\n",
    "# def preliminary_quantize(fp32_data, scale):\n",
    "#     return np.clip(np.round(fp32_data / scale), -128, 127).astype(np.int8)\n",
    "\n",
    "# activation_data_int8 = preliminary_quantize(activation_data_fp32, scale)\n",
    "\n",
    "# # Step 4: Compute histograms for FP32 and INT8\n",
    "# def compute_histograms(fp32_data, int8_data):\n",
    "#     hist_fp32, _ = np.histogram(fp32_data, bins=2048, range=(-128, 127), density=True)\n",
    "#     hist_int8, _ = np.histogram(int8_data, bins=2048, range=(-128, 127), density=True)\n",
    "#     return hist_fp32, hist_int8\n",
    "\n",
    "# hist_fp32, hist_int8 = compute_histograms(activation_data_fp32, activation_data_int8)\n",
    "\n",
    "# # Step 5: Compute KL divergence\n",
    "# def compute_kl_divergence(hist_fp32, hist_int8):\n",
    "#     # Adding a small constant to avoid log(0)\n",
    "#     return np.sum(kl_div(hist_fp32 + 1e-8, hist_int8 + 1e-8))\n",
    "\n",
    "# kl_divergence = compute_kl_divergence(hist_fp32, hist_int8)\n",
    "# print(f\"KL Divergence: {kl_divergence}\")\n",
    "\n",
    "# # **2. Quantization: Convert FP32 to INT8**\n",
    "\n",
    "# # Final quantization of FP32 data\n",
    "# def quantize_to_int8(fp32_data, scale):\n",
    "#     return np.clip(np.round(fp32_data / scale), -128, 127).astype(np.int8)\n",
    "\n",
    "# activation_data_int8_final = quantize_to_int8(activation_data_fp32, scale)\n",
    "\n",
    "# # **3. INT32 Computations: Perform Layer Operations**\n",
    "\n",
    "# # Example INT32 computation function\n",
    "# def int32_computations(weights, activations, bias):\n",
    "#     # Perform INT32 matrix multiplication and add bias\n",
    "#     int32_result = np.dot(weights, activations) + bias\n",
    "#     return int32_result\n",
    "\n",
    "# # Sample weights and bias for demonstration\n",
    "# weights = np.array([[1, -1], [2, 3]])\n",
    "# bias = np.array([1, -1])\n",
    "\n",
    "# # Perform INT32 computations\n",
    "# int32_result = int32_computations(weights, activation_data_int8_final, bias)\n",
    "# print(f\"INT32 Computation Result: {int32_result}\")\n",
    "\n",
    "# # **4. Re-Quantization: Convert INT32 to INT8**\n",
    "\n",
    "# # Re-quantization process\n",
    "# def requantize(int32_activations, scale, zero_point, bias):\n",
    "#     # Add bias and then requantize\n",
    "#     int32_activations_with_bias = int32_activations + bias\n",
    "#     return np.clip(np.round(int32_activations_with_bias * scale) + zero_point, -128, 127).astype(np.int8)\n",
    "\n",
    "# # Assuming zero_point = 0 for symmetric quantization\n",
    "# zero_point = 0\n",
    "\n",
    "# # Re-quantize INT32 results to INT8\n",
    "# activation_data_int8_requantized = requantize(int32_result, scale, zero_point, bias)\n",
    "# print(f\"Re-Quantized INT8 Data: {activation_data_int8_requantized}\")\n",
    "\n",
    "# # **5. De-Quantization: Convert INT8 Back to FP32**\n",
    "\n",
    "# # De-quantization process\n",
    "# def dequantize_to_fp32(int8_data, scale, zero_point):\n",
    "#     return (int8_data - zero_point) * scale\n",
    "\n",
    "# # Convert INT8 results back to FP32\n",
    "# fp32_reconstructed_data = dequantize_to_fp32(activation_data_int8_requantized, scale, zero_point)\n",
    "# print(f\"De-Quantized FP32 Data: {fp32_reconstructed_data}\")"
   ]
  }
 ],
 "metadata": {
  "kernelspec": {
   "display_name": "Python 3 (ipykernel)",
   "language": "python",
   "name": "python3"
  },
  "language_info": {
   "codemirror_mode": {
    "name": "ipython",
    "version": 3
   },
   "file_extension": ".py",
   "mimetype": "text/x-python",
   "name": "python",
   "nbconvert_exporter": "python",
   "pygments_lexer": "ipython3",
   "version": "3.8.16"
  }
 },
 "nbformat": 4,
 "nbformat_minor": 5
}
